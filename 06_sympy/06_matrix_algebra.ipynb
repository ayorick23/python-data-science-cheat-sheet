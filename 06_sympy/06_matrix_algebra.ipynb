{
 "cells": [
  {
   "cell_type": "markdown",
   "metadata": {},
   "source": [
    "# Matrix Algebra"
   ]
  },
  {
   "cell_type": "code",
   "execution_count": 10,
   "metadata": {},
   "outputs": [],
   "source": [
    "import sympy as sp"
   ]
  },
  {
   "cell_type": "markdown",
   "metadata": {},
   "source": [
    "## Define symbolic matrices"
   ]
  },
  {
   "cell_type": "code",
   "execution_count": 11,
   "metadata": {},
   "outputs": [
    {
     "name": "stdout",
     "output_type": "stream",
     "text": [
      "A:\n",
      " Matrix([[1, 2], [3, 4]])\n",
      "B:\n",
      " Matrix([[2, 0], [1, 3]])\n"
     ]
    }
   ],
   "source": [
    "#Definir matrices simbólicas\n",
    "A = sp.Matrix([[1, 2], [3, 4]])\n",
    "B = sp.Matrix([[2, 0], [1, 3]])\n",
    "\n",
    "print(f\"A:\\n {A}\")\n",
    "print(f\"B:\\n {B}\")"
   ]
  },
  {
   "cell_type": "markdown",
   "metadata": {},
   "source": [
    "## Basic operations"
   ]
  },
  {
   "cell_type": "markdown",
   "metadata": {},
   "source": [
    "### Sum of matrices"
   ]
  },
  {
   "cell_type": "code",
   "execution_count": 12,
   "metadata": {},
   "outputs": [
    {
     "name": "stdout",
     "output_type": "stream",
     "text": [
      "Suma de matrices:\n",
      "Matrix([[3, 2], [4, 7]])\n"
     ]
    }
   ],
   "source": [
    "#Suma de matrices\n",
    "suma = A + B\n",
    "print(f\"Suma de matrices:\\n{suma}\")"
   ]
  },
  {
   "cell_type": "markdown",
   "metadata": {},
   "source": [
    "### Maxtrix subtraction"
   ]
  },
  {
   "cell_type": "code",
   "execution_count": 13,
   "metadata": {},
   "outputs": [
    {
     "name": "stdout",
     "output_type": "stream",
     "text": [
      "Resta de matrices:\n",
      "Matrix([[-1, 2], [2, 1]])\n"
     ]
    }
   ],
   "source": [
    "#Resta de matrices\n",
    "resta = A - B\n",
    "print(f\"Resta de matrices:\\n{resta}\")"
   ]
  },
  {
   "cell_type": "markdown",
   "metadata": {},
   "source": [
    "### Matrix multiplication"
   ]
  },
  {
   "cell_type": "code",
   "execution_count": 14,
   "metadata": {},
   "outputs": [
    {
     "name": "stdout",
     "output_type": "stream",
     "text": [
      "Producto de matrices:\n",
      "Matrix([[4, 6], [10, 12]])\n"
     ]
    }
   ],
   "source": [
    "#Multiplicación de matrices\n",
    "producto = A * B\n",
    "print(f\"Producto de matrices:\\n{producto}\")"
   ]
  },
  {
   "cell_type": "markdown",
   "metadata": {},
   "source": [
    "### Transposed of A"
   ]
  },
  {
   "cell_type": "code",
   "execution_count": 15,
   "metadata": {},
   "outputs": [
    {
     "name": "stdout",
     "output_type": "stream",
     "text": [
      "Transpuesta de A:\n",
      "Matrix([[1, 3], [2, 4]])\n"
     ]
    }
   ],
   "source": [
    "#Transpuesta de A\n",
    "transpuesta = A.T\n",
    "print(f\"Transpuesta de A:\\n{transpuesta}\")"
   ]
  },
  {
   "cell_type": "markdown",
   "metadata": {},
   "source": [
    "### Determinant of A"
   ]
  },
  {
   "cell_type": "code",
   "execution_count": 16,
   "metadata": {},
   "outputs": [
    {
     "name": "stdout",
     "output_type": "stream",
     "text": [
      "Determinante de A:\n",
      "-2\n"
     ]
    }
   ],
   "source": [
    "#Determinante de A\n",
    "determinante = A.det()\n",
    "print(f\"Determinante de A:\\n{determinante}\")"
   ]
  },
  {
   "cell_type": "markdown",
   "metadata": {},
   "source": [
    "### Inverse of A (if it is invertible)"
   ]
  },
  {
   "cell_type": "code",
   "execution_count": 17,
   "metadata": {},
   "outputs": [
    {
     "name": "stdout",
     "output_type": "stream",
     "text": [
      "Inversa de A:\n",
      "Matrix([[-2, 1], [3/2, -1/2]])\n"
     ]
    }
   ],
   "source": [
    "#Inversa de A (si es invertible)\n",
    "inversa = A.inv()\n",
    "print(f\"Inversa de A:\\n{inversa}\")"
   ]
  },
  {
   "cell_type": "markdown",
   "metadata": {},
   "source": [
    "### Explanation\n",
    "- ``A.T`` -> **Transpuesta** de la matriz ``A``\n",
    "- ``A.det()`` -> **Determinanete** de la matriz ``A``\n",
    "- ``A.inv()`` -> **Inversa** de la matriz ``A``"
   ]
  }
 ],
 "metadata": {
  "kernelspec": {
   "display_name": "Python 3",
   "language": "python",
   "name": "python3"
  },
  "language_info": {
   "codemirror_mode": {
    "name": "ipython",
    "version": 3
   },
   "file_extension": ".py",
   "mimetype": "text/x-python",
   "name": "python",
   "nbconvert_exporter": "python",
   "pygments_lexer": "ipython3",
   "version": "3.13.2"
  }
 },
 "nbformat": 4,
 "nbformat_minor": 2
}
