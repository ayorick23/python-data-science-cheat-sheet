{
 "cells": [
  {
   "cell_type": "markdown",
   "metadata": {},
   "source": [
    "# Algebraic Operations"
   ]
  },
  {
   "cell_type": "code",
   "execution_count": 1,
   "metadata": {},
   "outputs": [],
   "source": [
    "import sympy as sp"
   ]
  },
  {
   "cell_type": "markdown",
   "metadata": {},
   "source": [
    "## Initialize pretty math print"
   ]
  },
  {
   "cell_type": "code",
   "execution_count": 2,
   "metadata": {},
   "outputs": [],
   "source": [
    "#Inicializar impresión matemática bonita\n",
    "sp.init_printing()"
   ]
  },
  {
   "cell_type": "markdown",
   "metadata": {},
   "source": [
    "## Define symbolic variables"
   ]
  },
  {
   "cell_type": "code",
   "execution_count": 3,
   "metadata": {},
   "outputs": [],
   "source": [
    "#Definir variables simbólicas\n",
    "x, y = sp.symbols(\"x y\")"
   ]
  },
  {
   "cell_type": "markdown",
   "metadata": {},
   "source": [
    "## Addition and subtraction of expressions"
   ]
  },
  {
   "cell_type": "code",
   "execution_count": 4,
   "metadata": {},
   "outputs": [
    {
     "name": "stdout",
     "output_type": "stream",
     "text": [
      "Suma de expresiones: x**2 + 4*x - 3\n",
      "Resta de expresiones: x**2 + 2*x + 7\n"
     ]
    }
   ],
   "source": [
    "#Suma y resta de expresiones\n",
    "expr1 = x**2 + 3*x + 2\n",
    "expr2 = x - 5\n",
    "\n",
    "suma = expr1 + expr2\n",
    "resta = expr1 - expr2\n",
    "\n",
    "print(f\"Suma de expresiones: {suma}\")\n",
    "print(f\"Resta de expresiones: {resta}\")"
   ]
  },
  {
   "cell_type": "markdown",
   "metadata": {},
   "source": [
    "## Multiplication and division of expressions"
   ]
  },
  {
   "cell_type": "code",
   "execution_count": 5,
   "metadata": {},
   "outputs": [
    {
     "name": "stdout",
     "output_type": "stream",
     "text": [
      "Multiplicación de expresiones: (x - 5)*(x**2 + 3*x + 2)\n",
      "División de expresiones: (x**2 + 3*x + 2)/(x - 5)\n"
     ]
    }
   ],
   "source": [
    "#Multiplicación y división\n",
    "multiplicacion = expr1 * expr2\n",
    "division = expr1 / expr2\n",
    "print(f\"Multiplicación de expresiones: {multiplicacion}\")\n",
    "print(f\"División de expresiones: {division}\")"
   ]
  },
  {
   "cell_type": "markdown",
   "metadata": {},
   "source": [
    "## Powers and roots"
   ]
  },
  {
   "cell_type": "code",
   "execution_count": 6,
   "metadata": {},
   "outputs": [
    {
     "name": "stdout",
     "output_type": "stream",
     "text": [
      "Potencia de expresiones: (x**2 + 3*x + 2)**2\n",
      "Raíz de expresiones: sqrt(x**2 + 3*x + 2)\n"
     ]
    }
   ],
   "source": [
    "#Potencias y raíces\n",
    "potencia = expr1**2\n",
    "raiz = sp.sqrt(expr1)\n",
    "print(f\"Potencia de expresiones: {potencia}\")\n",
    "print(f\"Raíz de expresiones: {raiz}\")"
   ]
  },
  {
   "cell_type": "markdown",
   "metadata": {},
   "source": [
    "## Expand expressions"
   ]
  },
  {
   "cell_type": "code",
   "execution_count": 7,
   "metadata": {},
   "outputs": [
    {
     "name": "stdout",
     "output_type": "stream",
     "text": [
      "Expansión de expresiones: x**2 - x - 2\n"
     ]
    }
   ],
   "source": [
    "#Expandir expresiones\n",
    "expandida = sp.expand((x + 1) * (x - 2))\n",
    "print(f\"Expansión de expresiones: {expandida}\")"
   ]
  },
  {
   "cell_type": "markdown",
   "metadata": {},
   "source": [
    "## Factorize expressions"
   ]
  },
  {
   "cell_type": "code",
   "execution_count": 8,
   "metadata": {},
   "outputs": [
    {
     "name": "stdout",
     "output_type": "stream",
     "text": [
      "Factorización de expresiones: (x - 2)*(x + 1)\n"
     ]
    }
   ],
   "source": [
    "#Factorizar expresiones\n",
    "factorizada = sp.factor(x**2 - x - 2)\n",
    "print(f\"Factorización de expresiones: {factorizada}\")"
   ]
  },
  {
   "cell_type": "markdown",
   "metadata": {},
   "source": [
    "## Simplification of expressions"
   ]
  },
  {
   "cell_type": "code",
   "execution_count": 9,
   "metadata": {},
   "outputs": [
    {
     "name": "stdout",
     "output_type": "stream",
     "text": [
      "Simplificación de expresiones: x + 1\n"
     ]
    }
   ],
   "source": [
    "#Simplificación de expresiones\n",
    "simplificada = sp.simplify((x**2 - 1) / (x - 1))\n",
    "print(f\"Simplificación de expresiones: {simplificada}\")"
   ]
  }
 ],
 "metadata": {
  "kernelspec": {
   "display_name": "Python 3",
   "language": "python",
   "name": "python3"
  },
  "language_info": {
   "codemirror_mode": {
    "name": "ipython",
    "version": 3
   },
   "file_extension": ".py",
   "mimetype": "text/x-python",
   "name": "python",
   "nbconvert_exporter": "python",
   "pygments_lexer": "ipython3",
   "version": "3.13.2"
  }
 },
 "nbformat": 4,
 "nbformat_minor": 2
}
