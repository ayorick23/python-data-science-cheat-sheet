{
 "cells": [
  {
   "cell_type": "markdown",
   "metadata": {},
   "source": [
    "# Mathematical Operations\n",
    "\n",
    "## Operaciones Matemáticas\n",
    "\n",
    "En **NumPy**, las operaciones matemáticas se pueden realizar de manera eficiente sobre arreglos (*arrays*) a través de la vectorización. Esto permite realizar operaciones elemento por elemento sin necesidad de bucles explícitos, lo que resulta en un mejor rendimiento."
   ]
  },
  {
   "cell_type": "code",
   "execution_count": 1,
   "metadata": {},
   "outputs": [],
   "source": [
    "import numpy as np"
   ]
  },
  {
   "cell_type": "markdown",
   "metadata": {},
   "source": [
    "## Create arrays to perform operations"
   ]
  },
  {
   "cell_type": "code",
   "execution_count": 2,
   "metadata": {},
   "outputs": [],
   "source": [
    "#Crear arrays para realizar operaciones\n",
    "arr1 = np.array([10, 20, 30, 40])\n",
    "arr2 = np.array([1, 2, 3, 4])"
   ]
  },
  {
   "cell_type": "markdown",
   "metadata": {},
   "source": [
    "## Arithmetic Operations\n",
    "\n",
    "Las operaciones aritméticas se realizan de forma eficiente a nivel de elemento. Esto significa que las operaciones como suma, resta, multiplicación y división se aplican a cada elemento correspondiente de los arreglos o matrices. Además de los operadores básicos, NumPy ofrece funciones como ``add``, ``subtract``, ``multiply``, ``divide``, entre otras, para realizar estas operaciones."
   ]
  },
  {
   "cell_type": "markdown",
   "metadata": {},
   "source": [
    "### Sum of arrays\n",
    "\n",
    "Dos arrays con la misma forma se pueden sumar directamente usando el operador `+`. Si los arrays tienen formas diferentes, se utiliza la transmisión (*broadcasting*) si es posible. La función `np.add()` realiza la misma operación de suma elemento a elemento, aceptando dos arrays como argumentos y devolviendo un nuevo array con la suma."
   ]
  },
  {
   "cell_type": "code",
   "execution_count": 3,
   "metadata": {},
   "outputs": [
    {
     "name": "stdout",
     "output_type": "stream",
     "text": [
      "Suma de arrays: [11 22 33 44]\n"
     ]
    }
   ],
   "source": [
    "#Suma de arrays\n",
    "suma = arr1 + arr2\n",
    "print(f\"Suma de arrays: {suma}\")"
   ]
  },
  {
   "cell_type": "code",
   "execution_count": 4,
   "metadata": {},
   "outputs": [
    {
     "name": "stdout",
     "output_type": "stream",
     "text": [
      "Suma de arrays con add(): [11 22 33 44]\n"
     ]
    }
   ],
   "source": [
    "#Suma de arrays con add()\n",
    "suma_add = np.add(arr1, arr2)\n",
    "print(f\"Suma de arrays con add(): {suma_add}\")"
   ]
  },
  {
   "cell_type": "markdown",
   "metadata": {},
   "source": [
    "### Array substraction\n",
    "\n",
    "La resta de arrays se realiza elemento a elemento. Se puede utilizar el operador `-` o la función `np.subtract()` para realizar esta operación. Ambas opciones son válidas y devuelven un nuevo array con la diferencia entre los elementos de los arrays de entrada."
   ]
  },
  {
   "cell_type": "code",
   "execution_count": 5,
   "metadata": {},
   "outputs": [
    {
     "name": "stdout",
     "output_type": "stream",
     "text": [
      "Resta de arrays: [ 9 18 27 36]\n"
     ]
    }
   ],
   "source": [
    "#Resta de arrays\n",
    "resta = arr1 - arr2\n",
    "print(f\"Resta de arrays: {resta}\")"
   ]
  },
  {
   "cell_type": "code",
   "execution_count": 6,
   "metadata": {},
   "outputs": [
    {
     "name": "stdout",
     "output_type": "stream",
     "text": [
      "Resta de arrays con subtract(): [ 9 18 27 36]\n"
     ]
    }
   ],
   "source": [
    "#Resta de arrays con subtract()\n",
    "resta_substract = np.subtract(arr1, arr2)\n",
    "print(f\"Resta de arrays con subtract(): {resta_substract}\")"
   ]
  },
  {
   "cell_type": "markdown",
   "metadata": {},
   "source": [
    "### Element by element multiplication\n",
    "\n",
    "La multiplicación de arrays puede realizarse de varias formas, dependiendo del tipo de multiplicación deseada. Para la multiplicación elemento a elemento, se usa el operador `*` o la función `np.multiply()`."
   ]
  },
  {
   "cell_type": "code",
   "execution_count": 7,
   "metadata": {},
   "outputs": [
    {
     "name": "stdout",
     "output_type": "stream",
     "text": [
      "Multiplicación de arrays: [ 10  40  90 160]\n"
     ]
    }
   ],
   "source": [
    "#Multiplicación elemento por elemento\n",
    "multiplicacion = arr1 * arr2\n",
    "print(f\"Multiplicación de arrays: {multiplicacion}\")"
   ]
  },
  {
   "cell_type": "code",
   "execution_count": 8,
   "metadata": {},
   "outputs": [
    {
     "name": "stdout",
     "output_type": "stream",
     "text": [
      "Multiplicación de arrays con multiply(): [ 10  40  90 160]\n"
     ]
    }
   ],
   "source": [
    "#Multiplcación elemento por elemento con multiply()\n",
    "multiplicacion_multiply = np.multiply(arr1, arr2)\n",
    "print(f\"Multiplicación de arrays con multiply(): {multiplicacion_multiply}\")"
   ]
  },
  {
   "cell_type": "markdown",
   "metadata": {},
   "source": [
    "### Element by element division\n",
    "\n",
    "La división de arrays se realiza principalmente usando el operador `/` o la función `np.divide()`. Ambas opciones realizan la división elemento por elemento de dos arrays, devolviendo un nuevo array con los resultados."
   ]
  },
  {
   "cell_type": "code",
   "execution_count": 9,
   "metadata": {},
   "outputs": [
    {
     "name": "stdout",
     "output_type": "stream",
     "text": [
      "División de arrays: [10. 10. 10. 10.]\n"
     ]
    }
   ],
   "source": [
    "#División elemento por elemento\n",
    "division = arr1 / arr2\n",
    "print(f\"División de arrays: {division}\")"
   ]
  },
  {
   "cell_type": "code",
   "execution_count": 10,
   "metadata": {},
   "outputs": [
    {
     "name": "stdout",
     "output_type": "stream",
     "text": [
      "División de arrays con divide(): [10. 10. 10. 10.]\n"
     ]
    }
   ],
   "source": [
    "#División elemento por elemento con divide()\n",
    "division_divide = np.divide(arr1, arr2)\n",
    "print(f\"División de arrays con divide(): {division_divide}\")"
   ]
  },
  {
   "cell_type": "markdown",
   "metadata": {},
   "source": [
    "### Element by element power\n",
    "\n",
    "la operación de potencia se realiza utilizando la función `np.power()` o el operador `**`. Ambas opciones elevan cada elemento de un array a la potencia especificada, ya sea un escalar o un array con la misma forma."
   ]
  },
  {
   "cell_type": "code",
   "execution_count": 11,
   "metadata": {},
   "outputs": [
    {
     "name": "stdout",
     "output_type": "stream",
     "text": [
      "Potencia de cada elemento de arr1: [ 100  400  900 1600]\n"
     ]
    }
   ],
   "source": [
    "#Potencia elemento por elemento\n",
    "potencia = arr1 ** 2\n",
    "print(f\"Potencia de cada elemento de arr1: {potencia}\")"
   ]
  },
  {
   "cell_type": "code",
   "execution_count": 12,
   "metadata": {},
   "outputs": [
    {
     "name": "stdout",
     "output_type": "stream",
     "text": [
      "Potencia de cada elemento de arr1 con power(): [ 100  400  900 1600]\n"
     ]
    }
   ],
   "source": [
    "#Potencia elemento por elemento con power()\n",
    "potencia_power = np.power(arr1, 2)\n",
    "print(f\"Potencia de cada elemento de arr1 con power(): {potencia_power}\")"
   ]
  },
  {
   "cell_type": "markdown",
   "metadata": {},
   "source": [
    "## Mathematical Functions\n",
    "\n",
    "NumPy también ofrece funciones para operaciones más complejas, como:\n",
    "- **Funciones exponenciales y logarítmicas:** `np.exp()`, `np.log()`, etc.\n",
    "- **Funciones trigonométricas:** `np.sin()`, `np.cos()`, `np.tan()`, etc.\n",
    "\n",
    "Estas funciones también se aplican de forma vectorizada a los elementos de los arreglos."
   ]
  },
  {
   "cell_type": "markdown",
   "metadata": {},
   "source": [
    "### Exponential and logarithmic functions"
   ]
  },
  {
   "cell_type": "code",
   "execution_count": 13,
   "metadata": {},
   "outputs": [
    {
     "name": "stdout",
     "output_type": "stream",
     "text": [
      "Raíz cuadrada de arr1: [10 20 30 40]\n",
      "Logaritmo natural de arr1: [2.30258509 2.99573227 3.40119738 3.68887945]\n",
      "Logaritmo base 10 de arr1: [1.         1.30103    1.47712125 1.60205999]\n",
      "Exponencial de arr1: [2.20264658e+04 4.85165195e+08 1.06864746e+13 2.35385267e+17]\n",
      "Valor absoluto de (arr1 - 25): [15  5  5 15]\n"
     ]
    }
   ],
   "source": [
    "#Funciones exponenciales y logarítmicas\n",
    "raiz_cuadrada = np.sqrt(arr1)\n",
    "print(f\"Raíz cuadrada de arr1: {arr1}\")\n",
    "\n",
    "logaritmo = np.log(arr1)\n",
    "print(f\"Logaritmo natural de arr1: {logaritmo}\")\n",
    "\n",
    "logaritmoBase10 = np.log10(arr1)\n",
    "print(f\"Logaritmo base 10 de arr1: {logaritmoBase10}\")\n",
    "\n",
    "exponencial = np.exp(arr1)\n",
    "print(f\"Exponencial de arr1: {exponencial}\")\n",
    "\n",
    "valorAbsoluto = np.abs(arr1 - 25)\n",
    "print(f\"Valor absoluto de (arr1 - 25): {valorAbsoluto}\")"
   ]
  },
  {
   "cell_type": "markdown",
   "metadata": {},
   "source": [
    "### Trigonometric functions"
   ]
  },
  {
   "cell_type": "code",
   "execution_count": 14,
   "metadata": {},
   "outputs": [
    {
     "name": "stdout",
     "output_type": "stream",
     "text": [
      "Seno de arr1 en grados: [0.17364818 0.34202014 0.5        0.64278761]\n",
      "Coseno de arr1 en grados: [0.98480775 0.93969262 0.8660254  0.76604444]\n",
      "Tangente de arr1 en grados: [0.17632698 0.36397023 0.57735027 0.83909963]\n"
     ]
    }
   ],
   "source": [
    "#Funciones trigonométricas\n",
    "seno = np.sin(np.radians(arr1))\n",
    "print(f\"Seno de arr1 en grados: {seno}\")\n",
    "\n",
    "coseno = np.cos(np.radians(arr1))\n",
    "print(f\"Coseno de arr1 en grados: {coseno}\")\n",
    "\n",
    "tangente = np.tan(np.radians(arr1))\n",
    "print(f\"Tangente de arr1 en grados: {tangente}\")"
   ]
  },
  {
   "cell_type": "markdown",
   "metadata": {},
   "source": [
    "## Statistical Operations\n",
    "\n",
    "Las operaciones estadísticas se realizan utilizando funciones que permiten calcular resúmenes numéricos de los datos contenidos en arrays. Estas funciones son esenciales para el análisis de datos, permitiendo obtener información relevante como la media, la mediana, la desviación estándar, entre otros."
   ]
  },
  {
   "cell_type": "markdown",
   "metadata": {},
   "source": [
    "- ``np.sum(array)``: Calcula la suma de todos los elementos del array."
   ]
  },
  {
   "cell_type": "code",
   "execution_count": 15,
   "metadata": {},
   "outputs": [
    {
     "name": "stdout",
     "output_type": "stream",
     "text": [
      "Suma total de arr1: 100\n"
     ]
    }
   ],
   "source": [
    "#Suma total con sum()\n",
    "print(f\"Suma total de arr1: {np.sum(arr1)}\")"
   ]
  },
  {
   "cell_type": "markdown",
   "metadata": {},
   "source": [
    "- `np.mean(array)`: Calcula la media aritmética de los elementos de un array."
   ]
  },
  {
   "cell_type": "code",
   "execution_count": 16,
   "metadata": {},
   "outputs": [
    {
     "name": "stdout",
     "output_type": "stream",
     "text": [
      "Promedio de arr1: 25.0\n"
     ]
    }
   ],
   "source": [
    "#Promedio con mean()\n",
    "print(f\"Promedio de arr1: {np.mean(arr1)}\")"
   ]
  },
  {
   "cell_type": "markdown",
   "metadata": {},
   "source": [
    "- ``np.median(array)``: Encuentra la mediana de los elementos del array. La mediana es el valor central cuando los datos están ordenados."
   ]
  },
  {
   "cell_type": "code",
   "execution_count": 17,
   "metadata": {},
   "outputs": [
    {
     "name": "stdout",
     "output_type": "stream",
     "text": [
      "Mediana de arr1: 25.0\n"
     ]
    }
   ],
   "source": [
    "#Mediana con median()\n",
    "print(f\"Mediana de arr1: {np.median(arr1)}\")"
   ]
  },
  {
   "cell_type": "markdown",
   "metadata": {},
   "source": [
    "- ``np.std(array)``: Calcula la desviación estándar, que mide la dispersión de los datos respecto a la media."
   ]
  },
  {
   "cell_type": "code",
   "execution_count": 18,
   "metadata": {},
   "outputs": [
    {
     "name": "stdout",
     "output_type": "stream",
     "text": [
      "Desviación estándar de arr1: 11.180339887498949\n"
     ]
    }
   ],
   "source": [
    "#Desviación estándar con std()\n",
    "print(f\"Desviación estándar de arr1: {np.std(arr1)}\")"
   ]
  },
  {
   "cell_type": "markdown",
   "metadata": {},
   "source": [
    "- ``np.var(array)``: Determina la varianza, que es el cuadrado de la desviación estándar."
   ]
  },
  {
   "cell_type": "code",
   "execution_count": 19,
   "metadata": {},
   "outputs": [
    {
     "name": "stdout",
     "output_type": "stream",
     "text": [
      "Varianza de arr1: 125.0\n"
     ]
    }
   ],
   "source": [
    "#Varianza con var()\n",
    "print(f\"Varianza de arr1: {np.var(arr1)}\")"
   ]
  },
  {
   "cell_type": "markdown",
   "metadata": {},
   "source": [
    "- ``np.min(array)``: Encuentra el valor mínimo en el array.\n",
    "- ``np.max(array)``: Encuentra el valor máximo en el array."
   ]
  },
  {
   "cell_type": "code",
   "execution_count": 20,
   "metadata": {},
   "outputs": [
    {
     "name": "stdout",
     "output_type": "stream",
     "text": [
      "Mínimo de arr1: 10\n",
      "Máximo de arr1: 40\n"
     ]
    }
   ],
   "source": [
    "#Mínimo y máximo con min() y max()\n",
    "print(f\"Mínimo de arr1: {np.min(arr1)}\")\n",
    "print(f\"Máximo de arr1: {np.max(arr1)}\")"
   ]
  },
  {
   "cell_type": "markdown",
   "metadata": {},
   "source": [
    "- ``np.ptp(array)``: Calcula el rango (diferencia entre el máximo y el mínimo). "
   ]
  },
  {
   "cell_type": "code",
   "execution_count": 21,
   "metadata": {},
   "outputs": [
    {
     "name": "stdout",
     "output_type": "stream",
     "text": [
      "Diferencia entre máximo y mínimo de arr1: 30\n"
     ]
    }
   ],
   "source": [
    "#Diferencia entre máximo y mínimo\n",
    "print(f\"Diferencia entre máximo y mínimo de arr1: {np.ptp(arr1)}\")"
   ]
  },
  {
   "cell_type": "markdown",
   "metadata": {},
   "source": [
    "- ``np.percentile(array, q)``: Calcula el percentil q-ésimo de los datos. Por ejemplo, el percentil 75 indica el valor por debajo del cual se encuentra el 75% de los datos."
   ]
  },
  {
   "cell_type": "code",
   "execution_count": 22,
   "metadata": {},
   "outputs": [
    {
     "name": "stdout",
     "output_type": "stream",
     "text": [
      "Percentil 25 de arr1: 17.5\n",
      "Percentil 50 de arr1: 25.0\n",
      "Percentil 75 de arr1: 32.5\n"
     ]
    }
   ],
   "source": [
    "#Percentiles con percentile()\n",
    "print(f\"Percentil 25 de arr1: {np.percentile(arr1, 25)}\")\n",
    "print(f\"Percentil 50 de arr1: {np.percentile(arr1, 50)}\")\n",
    "print(f\"Percentil 75 de arr1: {np.percentile(arr1, 75)}\")"
   ]
  }
 ],
 "metadata": {
  "kernelspec": {
   "display_name": "Python 3 (ipykernel)",
   "language": "python",
   "name": "python3"
  },
  "language_info": {
   "codemirror_mode": {
    "name": "ipython",
    "version": 3
   },
   "file_extension": ".py",
   "mimetype": "text/x-python",
   "name": "python",
   "nbconvert_exporter": "python",
   "pygments_lexer": "ipython3",
   "version": "3.13.2"
  }
 },
 "nbformat": 4,
 "nbformat_minor": 4
}
