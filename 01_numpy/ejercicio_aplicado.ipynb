{
 "cells": [
  {
   "cell_type": "markdown",
   "id": "4bedb81d",
   "metadata": {},
   "source": [
    "# Ejercicio con NumPy – Análisis de Inventario y Ventas"
   ]
  },
  {
   "cell_type": "markdown",
   "id": "cb3bd3c3",
   "metadata": {},
   "source": [
    "### Objetivo:\n",
    "\n",
    "Simular el análisis de rendimiento de productos en inventario para tomar decisiones sobre **reabastecimiento**, **eliminación de productos de baja rotación** y **análisis de márgenes de ganancia**."
   ]
  },
  {
   "cell_type": "markdown",
   "id": "fef0afc4",
   "metadata": {},
   "source": [
    "### Contexto:\n",
    "\n",
    "Trabajas como analista de datos en una ferretería nacional. El gerente te ha pedido un análisis rápido para decidir qué productos deben reabastecerse, cuáles deberían dejar de comprarse y cuáles están generando mayores ganancias.\n",
    "\n",
    "Tienes tres arrays:"
   ]
  },
  {
   "cell_type": "code",
   "execution_count": 2,
   "id": "d2a3f918",
   "metadata": {},
   "outputs": [],
   "source": [
    "import numpy as np\n",
    "\n",
    "# ID de producto (referencia única)\n",
    "ids = np.array([101, 102, 103, 104, 105, 106, 107, 108, 109, 110])\n",
    "\n",
    "# Unidades en inventario\n",
    "inventario = np.array([23, 5, 0, 40, 3, 18, 0, 2, 25, 10])\n",
    "\n",
    "# Unidades vendidas en el último mes\n",
    "ventas = np.array([12, 8, 0, 30, 1, 15, 0, 1, 20, 7])\n",
    "\n",
    "# Precio de venta unitario\n",
    "precio_venta = np.array([15.0, 23.0, 10.0, 18.0, 25.0, 19.0, 8.0, 30.0, 16.0, 22.0])\n",
    "\n",
    "# Costo unitario de compra\n",
    "costo = np.array([10.0, 15.0, 7.0, 13.0, 17.0, 13.0, 5.0, 20.0, 12.0, 16.0])"
   ]
  },
  {
   "cell_type": "markdown",
   "id": "ba00920e",
   "metadata": {},
   "source": [
    "### Actividades:"
   ]
  },
  {
   "cell_type": "markdown",
   "id": "60d8181f",
   "metadata": {},
   "source": [
    "**1. Productos agotados:**\n",
    "\n",
    "- Lista de productos que tienen 0 unidades en inventario."
   ]
  },
  {
   "cell_type": "code",
   "execution_count": 22,
   "id": "d3671521",
   "metadata": {},
   "outputs": [
    {
     "name": "stdout",
     "output_type": "stream",
     "text": [
      "Productos agotados: [103 107]\n"
     ]
    }
   ],
   "source": [
    "agotados = ids[inventario == 0]\n",
    "print(\"Productos agotados:\", agotados)"
   ]
  },
  {
   "cell_type": "markdown",
   "id": "2bfcc408",
   "metadata": {},
   "source": [
    "**2. Productos sin rotación:**\n",
    "\n",
    "- ¿Qué productos no se vendieron nada el último mes?"
   ]
  },
  {
   "cell_type": "code",
   "execution_count": 23,
   "id": "10b2a940",
   "metadata": {},
   "outputs": [
    {
     "name": "stdout",
     "output_type": "stream",
     "text": [
      "Productos sin rotación: [103 107]\n"
     ]
    }
   ],
   "source": [
    "sin_rotacion = ids[ventas == 0]\n",
    "print(\"Productos sin rotación:\", sin_rotacion)"
   ]
  },
  {
   "cell_type": "markdown",
   "id": "96560d4c",
   "metadata": {},
   "source": [
    "**3. Productos con ventas superiores al 50% de su inventario inicial:**\n",
    "\n",
    "- Asumiendo que el inventario actual + ventas fue el inventario inicial, ¿cuáles vendieron más del 50%?"
   ]
  },
  {
   "cell_type": "code",
   "execution_count": 37,
   "id": "f2ff70c6",
   "metadata": {},
   "outputs": [
    {
     "name": "stdout",
     "output_type": "stream",
     "text": [
      "Productos con ventas superiores a 50%: [102]\n"
     ]
    },
    {
     "name": "stderr",
     "output_type": "stream",
     "text": [
      "C:\\Users\\Dereck\\AppData\\Local\\Temp\\ipykernel_10656\\2734256359.py:2: RuntimeWarning: invalid value encountered in divide\n",
      "  porcentaje_ventas = (ventas / inventario_inicial) * 100\n"
     ]
    }
   ],
   "source": [
    "inventario_inicial = inventario + ventas\n",
    "porcentaje_ventas = (ventas / inventario_inicial) * 100\n",
    "mayor_50 = ids[porcentaje_ventas > 50]\n",
    "print(\"Productos con ventas superiores a 50%:\", mayor_50)\n"
   ]
  },
  {
   "cell_type": "markdown",
   "id": "2647cf3c",
   "metadata": {},
   "source": [
    "**4. Ingresos generados por cada producto:**\n",
    "\n",
    "- Calcula el total vendido (*ventas * precio*)."
   ]
  },
  {
   "cell_type": "code",
   "execution_count": 26,
   "id": "68254228",
   "metadata": {},
   "outputs": [
    {
     "name": "stdout",
     "output_type": "stream",
     "text": [
      "Ingresos por producto: [180. 184.   0. 540.  25. 285.   0.  30. 320. 154.]\n"
     ]
    }
   ],
   "source": [
    "ingresos = ventas * precio_venta\n",
    "print(f\"Ingresos por producto: {ingresos}\")"
   ]
  },
  {
   "cell_type": "markdown",
   "id": "13f58e27",
   "metadata": {},
   "source": [
    "**5. Ganancia por producto:**\n",
    "\n",
    "- Ganancia = *(precio - costo) * unidades vendidas.*"
   ]
  },
  {
   "cell_type": "code",
   "execution_count": 25,
   "id": "1d39f17f",
   "metadata": {},
   "outputs": [
    {
     "name": "stdout",
     "output_type": "stream",
     "text": [
      "Ganancias por producto: [ 60.  64.   0. 150.   8.  90.   0.  10.  80.  42.]\n"
     ]
    }
   ],
   "source": [
    "ganancia = (precio_venta - costo) * ventas\n",
    "print(f\"Ganancias por producto: {ganancia}\")"
   ]
  },
  {
   "cell_type": "markdown",
   "id": "dce60ddb",
   "metadata": {},
   "source": [
    "**6. Top 3 productos más rentables.**"
   ]
  },
  {
   "cell_type": "code",
   "execution_count": 41,
   "id": "4635d6bc",
   "metadata": {},
   "outputs": [
    {
     "name": "stdout",
     "output_type": "stream",
     "text": [
      "Top 3 productos mas rentables: [109 106 104]\n",
      "Top 3 productos mas rentables (ganancia): [ 80.  90. 150.]\n"
     ]
    }
   ],
   "source": [
    "indices_top3 = np.argsort(ganancia)[-3:]\n",
    "print(\"Top 3 productos mas rentables:\", ids[indices_top3])\n",
    "print(\"Top 3 productos mas rentables (ganancia):\", ganancia[indices_top3])"
   ]
  },
  {
   "cell_type": "markdown",
   "id": "9935e152",
   "metadata": {},
   "source": [
    "**7. Productos que deberían reabastecerse:**\n",
    "\n",
    "- Considera que cualquier producto con menos de 5 unidades en inventario y al menos 3 unidades vendidas debe reabastecerse."
   ]
  },
  {
   "cell_type": "code",
   "execution_count": 49,
   "id": "fbc87d73",
   "metadata": {},
   "outputs": [
    {
     "name": "stdout",
     "output_type": "stream",
     "text": [
      "Productos a reabastecer: []\n"
     ]
    }
   ],
   "source": [
    "condicion = (inventario < 5) & (ventas >= 3)\n",
    "reabastecer = ids[condicion]\n",
    "print(\"Productos a reabastecer:\", reabastecer)"
   ]
  },
  {
   "cell_type": "markdown",
   "id": "68307dec",
   "metadata": {},
   "source": [
    "**8. Margen de ganancia (%) por producto:**\n",
    "\n",
    "- Margen = *((precio - costo) / costo) * 100*\n",
    "- ¿Cuál es el margen promedio?"
   ]
  },
  {
   "cell_type": "code",
   "execution_count": 55,
   "id": "6217488e",
   "metadata": {},
   "outputs": [
    {
     "name": "stdout",
     "output_type": "stream",
     "text": [
      "Margen de ganancia por producto: [50.         53.33333333 42.85714286 38.46153846 47.05882353 46.15384615\n",
      " 60.         50.         33.33333333 37.5       ]\n",
      "Margen promedio de ganancia: 45.87%\n"
     ]
    }
   ],
   "source": [
    "margen = ((precio_venta - costo) / costo) * 100\n",
    "print(f\"Margen de ganancia por producto: {margen}\")\n",
    "print(f\"Margen promedio de ganancia: {np.mean(margen):.2f}%\")"
   ]
  },
  {
   "cell_type": "markdown",
   "id": "ac36d696",
   "metadata": {},
   "source": [
    "**9. Clasifica los productos en: alta, media o baja rotación:**\n",
    "\n",
    "- Alta: ventas >= 20\n",
    "- Media: ventas entre 5 y 19\n",
    "- Baja: ventas < 5"
   ]
  },
  {
   "cell_type": "code",
   "execution_count": 58,
   "id": "187254e7",
   "metadata": {},
   "outputs": [
    {
     "name": "stdout",
     "output_type": "stream",
     "text": [
      "Productos con alta rotación: [104 109]\n",
      "Productos con rotación media: [101 102 106 110]\n",
      "Productos con baja rotación: [103 105 107 108]\n"
     ]
    }
   ],
   "source": [
    "condicion_alta = ventas >= 20\n",
    "condicion_media = (ventas >= 5) & (ventas <= 19)\n",
    "condicion_baja = ventas < 5\n",
    "\n",
    "print(\"Productos con alta rotación:\", ids[condicion_alta])\n",
    "print(\"Productos con rotación media:\", ids[condicion_media])\n",
    "print(\"Productos con baja rotación:\", ids[condicion_baja])"
   ]
  }
 ],
 "metadata": {
  "kernelspec": {
   "display_name": "Python 3",
   "language": "python",
   "name": "python3"
  },
  "language_info": {
   "codemirror_mode": {
    "name": "ipython",
    "version": 3
   },
   "file_extension": ".py",
   "mimetype": "text/x-python",
   "name": "python",
   "nbconvert_exporter": "python",
   "pygments_lexer": "ipython3",
   "version": "3.13.2"
  }
 },
 "nbformat": 4,
 "nbformat_minor": 5
}
