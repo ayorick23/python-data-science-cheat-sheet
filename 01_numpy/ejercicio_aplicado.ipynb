{
 "cells": [
  {
   "cell_type": "markdown",
   "id": "4bedb81d",
   "metadata": {},
   "source": [
    "# Ejercicio con NumPy – Análisis de Inventario y Ventas"
   ]
  },
  {
   "cell_type": "markdown",
   "id": "cb3bd3c3",
   "metadata": {},
   "source": [
    "### Objetivo:\n",
    "\n",
    "Simular el análisis de rendimiento de productos en inventario para tomar decisiones sobre **reabastecimiento**, **eliminación de productos de baja rotación** y **análisis de márgenes de ganancia**."
   ]
  },
  {
   "cell_type": "markdown",
   "id": "fef0afc4",
   "metadata": {},
   "source": [
    "### Contexto:\n",
    "\n",
    "Trabajas como analista de datos en una ferretería nacional. El gerente te ha pedido un análisis rápido para decidir qué productos deben reabastecerse, cuáles deberían dejar de comprarse y cuáles están generando mayores ganancias.\n",
    "\n",
    "Tienes tres arrays:"
   ]
  },
  {
   "cell_type": "code",
   "execution_count": null,
   "id": "d2a3f918",
   "metadata": {},
   "outputs": [],
   "source": [
    "import numpy as np\n",
    "\n",
    "# ID de producto (referencia única)\n",
    "ids = np.array([101, 102, 103, 104, 105, 106, 107, 108, 109, 110])\n",
    "\n",
    "# Unidades en inventario\n",
    "inventario = np.array([23, 5, 0, 40, 3, 18, 0, 2, 25, 10])\n",
    "\n",
    "# Unidades vendidas en el último mes\n",
    "ventas = np.array([12, 8, 0, 30, 1, 15, 0, 1, 20, 7])\n",
    "\n",
    "# Precio de venta unitario\n",
    "precio_venta = np.array([15.0, 23.0, 10.0, 18.0, 25.0, 19.0, 8.0, 30.0, 16.0, 22.0])\n",
    "\n",
    "# Costo unitario de compra\n",
    "costo = np.array([10.0, 15.0, 7.0, 13.0, 17.0, 13.0, 5.0, 20.0, 12.0, 16.0])"
   ]
  },
  {
   "cell_type": "markdown",
   "id": "ba00920e",
   "metadata": {},
   "source": [
    "### Actividades:"
   ]
  },
  {
   "cell_type": "markdown",
   "id": "60d8181f",
   "metadata": {},
   "source": [
    "**1. Productos agotados:**\n",
    "\n",
    "- Lista de productos que tienen 0 unidades en inventario."
   ]
  },
  {
   "cell_type": "code",
   "execution_count": null,
   "id": "d3671521",
   "metadata": {},
   "outputs": [],
   "source": []
  },
  {
   "cell_type": "markdown",
   "id": "2bfcc408",
   "metadata": {},
   "source": [
    "**2. Productos sin rotación:**\n",
    "\n",
    "- ¿Qué productos no se vendieron nada el último mes?"
   ]
  },
  {
   "cell_type": "code",
   "execution_count": null,
   "id": "10b2a940",
   "metadata": {},
   "outputs": [],
   "source": []
  },
  {
   "cell_type": "markdown",
   "id": "96560d4c",
   "metadata": {},
   "source": [
    "**3. Productos con ventas superiores al 50% de su inventario inicial:**\n",
    "\n",
    "- Asumiendo que el inventario actual + ventas fue el inventario inicial, ¿cuáles vendieron más del 50%?"
   ]
  },
  {
   "cell_type": "code",
   "execution_count": null,
   "id": "f2ff70c6",
   "metadata": {},
   "outputs": [],
   "source": []
  },
  {
   "cell_type": "markdown",
   "id": "2647cf3c",
   "metadata": {},
   "source": [
    "**4. Ingresos generados por cada producto:**\n",
    "\n",
    "- Calcula el total vendido (*ventas * precio*)."
   ]
  },
  {
   "cell_type": "code",
   "execution_count": null,
   "id": "68254228",
   "metadata": {},
   "outputs": [],
   "source": []
  },
  {
   "cell_type": "markdown",
   "id": "13f58e27",
   "metadata": {},
   "source": [
    "**5. Ganancia por producto:**\n",
    "\n",
    "- Ganancia = *(precio - costo) * unidades vendidas.*"
   ]
  },
  {
   "cell_type": "code",
   "execution_count": null,
   "id": "1d39f17f",
   "metadata": {},
   "outputs": [],
   "source": []
  },
  {
   "cell_type": "markdown",
   "id": "dce60ddb",
   "metadata": {},
   "source": [
    "**6. Top 3 productos más rentables.**"
   ]
  },
  {
   "cell_type": "code",
   "execution_count": null,
   "id": "4635d6bc",
   "metadata": {},
   "outputs": [],
   "source": []
  },
  {
   "cell_type": "markdown",
   "id": "9935e152",
   "metadata": {},
   "source": [
    "**7. Productos que deberían reabastecerse:**\n",
    "\n",
    "- Considera que cualquier producto con menos de 5 unidades en inventario y al menos 3 unidades vendidas debe reabastecerse."
   ]
  },
  {
   "cell_type": "code",
   "execution_count": null,
   "id": "fbc87d73",
   "metadata": {},
   "outputs": [],
   "source": []
  },
  {
   "cell_type": "markdown",
   "id": "68307dec",
   "metadata": {},
   "source": [
    "**8. Margen de ganancia (%) por producto:**\n",
    "\n",
    "- Margen = *((precio - costo) / costo) * 100*\n",
    "- ¿Cuál es el margen promedio?"
   ]
  },
  {
   "cell_type": "code",
   "execution_count": null,
   "id": "6217488e",
   "metadata": {},
   "outputs": [],
   "source": []
  },
  {
   "cell_type": "markdown",
   "id": "ac36d696",
   "metadata": {},
   "source": [
    "**9. Clasifica los productos en: alta, media o baja rotación:**\n",
    "\n",
    "- Alta: ventas >= 20\n",
    "- Media: ventas entre 5 y 19\n",
    "- Baja: ventas < 5"
   ]
  },
  {
   "cell_type": "code",
   "execution_count": null,
   "id": "187254e7",
   "metadata": {},
   "outputs": [],
   "source": []
  },
  {
   "cell_type": "markdown",
   "id": "c0fcb014",
   "metadata": {},
   "source": [
    "### Opcional: Extensión del ejercicio\n",
    "\n",
    "Guarda los resultados como diccionarios o arrays estructurados para pasarlos a un DataFrame más adelante con ``pandas``."
   ]
  },
  {
   "cell_type": "code",
   "execution_count": null,
   "id": "4c7786ea",
   "metadata": {},
   "outputs": [],
   "source": []
  }
 ],
 "metadata": {
  "language_info": {
   "name": "python"
  }
 },
 "nbformat": 4,
 "nbformat_minor": 5
}
