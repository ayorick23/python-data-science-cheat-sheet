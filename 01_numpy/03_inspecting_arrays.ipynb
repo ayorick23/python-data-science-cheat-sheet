{
 "cells": [
  {
   "cell_type": "markdown",
   "id": "2d1440f0",
   "metadata": {},
   "source": [
    "# Inspecting Arrays\n",
    "\n",
    "## Inspeccionando Arrays\n",
    "\n",
    "En **NumPy**, verificar la forma, dimensión y tipo de datos de un array es crucial para la manipulación y procesamiento eficiente de datos, especialmente en cálculos numéricos y análisis de datos. Estos atributos permiten entender la estructura del array, realizar operaciones de broadcasting y asegurar que las operaciones se realizan con tipos de datos compatibles, evitando errores y optimizando el rendimiento."
   ]
  },
  {
   "cell_type": "code",
   "execution_count": 1,
   "id": "539826fa",
   "metadata": {},
   "outputs": [],
   "source": [
    "import numpy as np"
   ]
  },
  {
   "cell_type": "markdown",
   "id": "950fb3a2",
   "metadata": {},
   "source": [
    "## Example array"
   ]
  },
  {
   "cell_type": "code",
   "execution_count": 2,
   "id": "c8e205ce",
   "metadata": {},
   "outputs": [],
   "source": [
    "#Array de ejemplo\n",
    "arr = np.array([1, 2, 3, 4, 5])"
   ]
  },
  {
   "cell_type": "markdown",
   "id": "472fc208",
   "metadata": {},
   "source": [
    "## Array dimensions\n",
    "\n",
    "El atributo ``shape`` de un array devuelve una tupla que describe las dimensiones del array."
   ]
  },
  {
   "cell_type": "code",
   "execution_count": 3,
   "id": "896f2495",
   "metadata": {},
   "outputs": [
    {
     "name": "stdout",
     "output_type": "stream",
     "text": [
      "(5,)\n"
     ]
    }
   ],
   "source": [
    "#Dimensiones del array\n",
    "print(arr.shape)"
   ]
  },
  {
   "cell_type": "markdown",
   "id": "90502d05",
   "metadata": {},
   "source": [
    "## Length of array\n",
    "\n",
    "La función ``len()`` devuelve la longitud de la primera dimensión de un array NumPy, es decir, el número de elementos en esa dimensión."
   ]
  },
  {
   "cell_type": "code",
   "execution_count": 4,
   "id": "509d3481",
   "metadata": {},
   "outputs": [
    {
     "name": "stdout",
     "output_type": "stream",
     "text": [
      "5\n"
     ]
    }
   ],
   "source": [
    "#Longitud del array\n",
    "print(len(arr))"
   ]
  },
  {
   "cell_type": "markdown",
   "id": "1618aaee",
   "metadata": {},
   "source": [
    "## Number of array dimensions\n",
    "\n",
    "``ndim`` es un atributo de los arreglos (*objetos ndarray*) que indica el número de dimensiones de dicho arreglo. Es decir, te dice cuántos ejes o dimensiones tiene la matriz."
   ]
  },
  {
   "cell_type": "code",
   "execution_count": 5,
   "id": "02cb21b3",
   "metadata": {},
   "outputs": [
    {
     "name": "stdout",
     "output_type": "stream",
     "text": [
      "1\n"
     ]
    }
   ],
   "source": [
    "#Número de dimensiones del array\n",
    "print(arr.ndim)"
   ]
  },
  {
   "cell_type": "markdown",
   "id": "d4c1e28c",
   "metadata": {},
   "source": [
    "## Number of array elements\n",
    "\n",
    "``size`` en un array se refiere al número total de elementos presentes en el array. Se puede determinar mediante la función ``np.size()``  o el atributo ``ndarray.size``."
   ]
  },
  {
   "cell_type": "code",
   "execution_count": 6,
   "id": "f4025bd7",
   "metadata": {},
   "outputs": [
    {
     "name": "stdout",
     "output_type": "stream",
     "text": [
      "5\n",
      "5\n"
     ]
    }
   ],
   "source": [
    "#Número de elementos del array\n",
    "print(arr.size)\n",
    "print(np.size(arr))"
   ]
  },
  {
   "cell_type": "markdown",
   "id": "432d83bb",
   "metadata": {},
   "source": [
    "## Data type of array elements\n",
    "\n",
    "``dtype`` se refiere al tipo de datos de los elementos dentro de un array. Describe cómo deben interpretarse los bytes en la memoria del array."
   ]
  },
  {
   "cell_type": "code",
   "execution_count": 7,
   "id": "9497a8df",
   "metadata": {},
   "outputs": [
    {
     "name": "stdout",
     "output_type": "stream",
     "text": [
      "int64\n"
     ]
    }
   ],
   "source": [
    "#Tipo de datos de los elementos del array\n",
    "print(arr.dtype)"
   ]
  },
  {
   "cell_type": "markdown",
   "id": "2e66fde5",
   "metadata": {},
   "source": [
    "## Name of data type\n",
    "\n",
    "``dtype.name`` es un atributo de un objeto de tipo de dato (``dtype``) que devuelve una cadena que representa el nombre del tipo de dato. Este nombre proporciona un identificador legible para el tipo de dato almacenado en una matriz de NumPy."
   ]
  },
  {
   "cell_type": "code",
   "execution_count": 8,
   "id": "98b4d65c",
   "metadata": {},
   "outputs": [
    {
     "name": "stdout",
     "output_type": "stream",
     "text": [
      "int64\n"
     ]
    }
   ],
   "source": [
    "#Nombre del tipo de dato\n",
    "print(arr.dtype.name)"
   ]
  },
  {
   "cell_type": "markdown",
   "id": "c46246e2",
   "metadata": {},
   "source": [
    "## Convert an array to a different type\n",
    "\n",
    "El método ``astype()`` se utiliza para convertir un array a un tipo de datos diferente. Permite cambiar el tipo de datos de los elementos de un array, como de enteros a flotantes, o de flotantes a cadenas, asegurando que los datos estén en el formato deseado. ``astype()`` siempre devuelve una copia del array con el nuevo tipo de datos, incluso si el tipo de datos original y el nuevo son iguales."
   ]
  },
  {
   "cell_type": "code",
   "execution_count": 9,
   "id": "a20f3ed1",
   "metadata": {},
   "outputs": [
    {
     "name": "stdout",
     "output_type": "stream",
     "text": [
      "[1. 2. 3. 4. 5.]\n",
      "float64\n"
     ]
    }
   ],
   "source": [
    "#Convertir un array a un tipo de dato diferente\n",
    "arr_float = arr.astype(np.float64)\n",
    "print(arr_float)\n",
    "print(arr_float.dtype)"
   ]
  }
 ],
 "metadata": {
  "kernelspec": {
   "display_name": "Python 3",
   "language": "python",
   "name": "python3"
  },
  "language_info": {
   "codemirror_mode": {
    "name": "ipython",
    "version": 3
   },
   "file_extension": ".py",
   "mimetype": "text/x-python",
   "name": "python",
   "nbconvert_exporter": "python",
   "pygments_lexer": "ipython3",
   "version": "3.13.2"
  }
 },
 "nbformat": 4,
 "nbformat_minor": 5
}
