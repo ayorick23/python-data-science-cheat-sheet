{
 "cells": [
  {
   "cell_type": "markdown",
   "metadata": {},
   "source": [
    "# Array Manipulation\n",
    "\n",
    "## Manipulación de Arrays\n",
    "\n",
    "En **NumPy**, la manipulación de arrays es fundamental para el análisis numérico y el procesamiento de datos. Permite crear, acceder, modificar y transformar arrays de manera eficiente. Las operaciones comunes incluyen cambiar la forma del array, combinar y dividir arrays, e invertir o rotar elementos, entre otros."
   ]
  },
  {
   "cell_type": "code",
   "execution_count": 1,
   "metadata": {},
   "outputs": [],
   "source": [
    "import numpy as np"
   ]
  },
  {
   "cell_type": "markdown",
   "metadata": {},
   "source": [
    "## Example arrays"
   ]
  },
  {
   "cell_type": "code",
   "execution_count": 2,
   "metadata": {},
   "outputs": [
    {
     "name": "stdout",
     "output_type": "stream",
     "text": [
      "Array 1 original:\n",
      "[[1 2 3]\n",
      " [4 5 6]\n",
      " [7 8 9]]\n",
      "Array 2 original:\n",
      "[[[1 2]\n",
      "  [3 4]]\n",
      "\n",
      " [[5 6]\n",
      "  [7 8]]]\n"
     ]
    }
   ],
   "source": [
    "#Datos de ejemplo\n",
    "arr1 = np.array([[1, 2, 3], [4, 5, 6], [7, 8, 9]])\n",
    "arr2 = np.array([[[1, 2], [3, 4]], [[5, 6], [7, 8]]])\n",
    "print(f\"Array 1 original:\\n{arr1}\")\n",
    "print(f\"Array 2 original:\\n{arr2}\")"
   ]
  },
  {
   "cell_type": "markdown",
   "metadata": {},
   "source": [
    "## Transpose an array\n",
    "\n",
    "Para transponer matrices en NumPy, están disponibles los siguientes métodos:"
   ]
  },
  {
   "cell_type": "markdown",
   "metadata": {},
   "source": [
    "### ``T``\n",
    "\n",
    "Esta es la forma más común y práctica de transponer una matriz 2D. Devuelve directamente una vista transpuesta de la matriz."
   ]
  },
  {
   "cell_type": "code",
   "execution_count": 3,
   "metadata": {},
   "outputs": [
    {
     "name": "stdout",
     "output_type": "stream",
     "text": [
      "Transpuesta:\n",
      "[[1 4 7]\n",
      " [2 5 8]\n",
      " [3 6 9]]\n"
     ]
    }
   ],
   "source": [
    "#Transponer un array con .T\n",
    "transpuesta = arr1.T\n",
    "print(f\"Transpuesta:\\n{transpuesta}\")"
   ]
  },
  {
   "cell_type": "markdown",
   "metadata": {},
   "source": [
    "### ``transpose()``\n",
    "\n",
    "Esta función proporciona más control, especialmente para matrices de mayor dimensión, al permitirle especificar el orden de los ejes."
   ]
  },
  {
   "cell_type": "code",
   "execution_count": 4,
   "metadata": {},
   "outputs": [
    {
     "name": "stdout",
     "output_type": "stream",
     "text": [
      "Transpuesta:\n",
      " [[[1 5]\n",
      "  [3 7]]\n",
      "\n",
      " [[2 6]\n",
      "  [4 8]]]\n",
      "Tranpuesta con ejes específicos:\n",
      " [[[1 5]\n",
      "  [3 7]]\n",
      "\n",
      " [[2 6]\n",
      "  [4 8]]]\n"
     ]
    }
   ],
   "source": [
    "#Transponer un array con np.transpose\n",
    "transpuesta_por_defecto = np.transpose(arr2)\n",
    "print(\"Transpuesta:\\n\", transpuesta_por_defecto)\n",
    "\n",
    "#Transponer especificando el orden de los ejes\n",
    "transpuesta_ejes = np.transpose(arr2, axes=(2, 1, 0))\n",
    "print(\"Tranpuesta con ejes específicos:\\n\", transpuesta_ejes)"
   ]
  },
  {
   "cell_type": "markdown",
   "metadata": {},
   "source": [
    "## Reshape an array\n",
    "\n",
    "Para cambiar la forma de un array se utiliza la función ``reshape()``. Esta función permite reorganizar los elementos del array en una nueva forma sin alterar los datos originales. Es importante que la nueva forma tenga el mismo número total de elementos que la original."
   ]
  },
  {
   "cell_type": "code",
   "execution_count": 5,
   "metadata": {},
   "outputs": [
    {
     "name": "stdout",
     "output_type": "stream",
     "text": [
      "Array después del reshape:\n",
      "[[1 2 3 4 5 6 7 8 9]]\n"
     ]
    }
   ],
   "source": [
    "#Cambiar la forma de un array\n",
    "arr_reshape = arr1.reshape(1, 9) #convertir en un array de 1 fila y 9 columnas\n",
    "print(f\"Array después del reshape:\\n{arr_reshape}\")"
   ]
  },
  {
   "cell_type": "markdown",
   "metadata": {},
   "source": [
    "## Flatten an array\n",
    "\n",
    "Aplanar un array significa convertir un array multidimensional en un array unidimensional. Existen dos métodos principales para hacer esto: ``ndarray.flatten()`` y ``np.ravel()``."
   ]
  },
  {
   "cell_type": "markdown",
   "metadata": {},
   "source": [
    "### `ndarray.flatten()`\n",
    "\n",
    "El método ``flatten()`` crea una copia del array aplanado. Esto significa que cualquier cambio realizado en el array aplanado no afectará al array original."
   ]
  },
  {
   "cell_type": "code",
   "execution_count": 6,
   "metadata": {},
   "outputs": [
    {
     "name": "stdout",
     "output_type": "stream",
     "text": [
      "Array aplanado con flatten:\n",
      "[1 2 3 4 5 6 7 8 9]\n"
     ]
    }
   ],
   "source": [
    "#Aplanar un array con flatten()\n",
    "arr_flatten = arr1.flatten()\n",
    "print(f\"Array aplanado con flatten:\\n{arr_flatten}\")"
   ]
  },
  {
   "cell_type": "markdown",
   "metadata": {},
   "source": [
    "### `np.ravel()`\n",
    "\n",
    "El método ``ravel()`` intenta devolver una vista del array original, lo que significa que los cambios en el array aplanado se reflejarán en el array original. Si no es posible crear una vista (*por ejemplo, si los elementos no son contiguos en memoria*), ``ravel()`` creará una copia."
   ]
  },
  {
   "cell_type": "code",
   "execution_count": 7,
   "metadata": {},
   "outputs": [
    {
     "name": "stdout",
     "output_type": "stream",
     "text": [
      "Array aplanado con ravel:\n",
      "[1 2 3 4 5 6 7 8]\n"
     ]
    }
   ],
   "source": [
    "#Aplanar un array con np.ravel\n",
    "arr_ravel = np.ravel(arr2)\n",
    "print(f\"Array aplanado con ravel:\\n{arr_ravel}\")"
   ]
  },
  {
   "cell_type": "markdown",
   "metadata": {},
   "source": [
    "## Concatenate arrays\n",
    "\n",
    "La combinación de arrays se realiza principalmente con las funciones `concatenate()`, `stack()`, `hstack()`, `vstack()`, `dstack()`, y `column_stack()`. Estas funciones permiten unir arrays vertical, horizontal u otros ejes. Además, concatenate es versátil y puede manejar matrices de diferentes dimensiones y unirlas a lo largo de diferentes ejes."
   ]
  },
  {
   "cell_type": "markdown",
   "metadata": {},
   "source": [
    "### `concatenate()`\n",
    "\n",
    "Esta función une los arrays a lo largo de un eje especificado. El eje predeterminado es `0`, que une los arrays verticalmente (*filas*). Para unir arrays horizontalmente (*columnas*), se especifica `axis=1`."
   ]
  },
  {
   "cell_type": "code",
   "execution_count": 8,
   "metadata": {},
   "outputs": [
    {
     "name": "stdout",
     "output_type": "stream",
     "text": [
      "Arrays concatenados por filas:\n",
      "[[1 2]\n",
      " [3 4]\n",
      " [5 6]]\n",
      "Arrays concatenados por columnas:\n",
      "[[1 2 5]\n",
      " [3 4 6]]\n"
     ]
    }
   ],
   "source": [
    "#Concatenar arrays\n",
    "a = np.array([[1, 2], [3, 4]])\n",
    "b = np.array([[5, 6]])\n",
    "\n",
    "arr_concatenate_filas = np.concatenate((a, b), axis=0)  # Concatenar por filas\n",
    "print(f\"Arrays concatenados por filas:\\n{arr_concatenate_filas}\")\n",
    "\n",
    "arr_concatenate_columnas = np.concatenate((a, b.T), axis=1)  # Concatenar por columnas\n",
    "print(f\"Arrays concatenados por columnas:\\n{arr_concatenate_columnas}\")"
   ]
  },
  {
   "cell_type": "markdown",
   "metadata": {},
   "source": [
    "### `stack()`\n",
    "\n",
    "Esta función apila los arrays a lo largo de un nuevo eje. Por defecto, crea un nuevo eje en la primera posición (``axis=0``)."
   ]
  },
  {
   "cell_type": "code",
   "execution_count": 9,
   "metadata": {},
   "outputs": [
    {
     "name": "stdout",
     "output_type": "stream",
     "text": [
      "Apliado verticalmente:\n",
      "[[1 2 3]\n",
      " [4 5 6]]\n",
      "Apliado horizontalmente:\n",
      "[[1 4]\n",
      " [2 5]\n",
      " [3 6]]\n"
     ]
    }
   ],
   "source": [
    "a = np.array([1, 2, 3])\n",
    "b = np.array([4, 5, 6])\n",
    "\n",
    "#Apilar verticalmente\n",
    "arr_stack_vertical = np.stack((a, b), axis=0)\n",
    "print(f\"Apliado verticalmente:\\n{arr_stack_vertical}\")\n",
    "\n",
    "#Apilar horizontalmente\n",
    "arr_stack_horizontal = np.stack((a, b), axis=1)\n",
    "print(f\"Apliado horizontalmente:\\n{arr_stack_horizontal}\")"
   ]
  },
  {
   "cell_type": "markdown",
   "metadata": {},
   "source": [
    "### `hstack()`\n",
    "\n",
    "Es una función corta para ``np.concatenate`` con ``axis=1``, apilando los arrays horizontalmente."
   ]
  },
  {
   "cell_type": "code",
   "execution_count": 10,
   "metadata": {},
   "outputs": [
    {
     "name": "stdout",
     "output_type": "stream",
     "text": [
      "Apilado horizontal con hstack:\n",
      "[1 2 3 4 5 6]\n"
     ]
    }
   ],
   "source": [
    "arr_hstack = np.hstack((a, b))\n",
    "print(f\"Apilado horizontal con hstack:\\n{arr_hstack}\")"
   ]
  },
  {
   "cell_type": "markdown",
   "metadata": {},
   "source": [
    "### `vstack()`\n",
    "\n",
    "Es una función corta para `np.concatenate` con `axis=0`, apilando los arrays verticalmente."
   ]
  },
  {
   "cell_type": "code",
   "execution_count": 11,
   "metadata": {},
   "outputs": [
    {
     "name": "stdout",
     "output_type": "stream",
     "text": [
      "Apilado vertical con vstack:\n",
      "[[1 2 3]\n",
      " [4 5 6]]\n"
     ]
    }
   ],
   "source": [
    "arr_vstack = np.vstack((a, b))\n",
    "print(f\"Apilado vertical con vstack:\\n{arr_vstack}\")"
   ]
  },
  {
   "cell_type": "markdown",
   "metadata": {},
   "source": [
    "### `dstack()`\n",
    "\n",
    "Apila los arrays a lo largo del tercer eje (*z*), creando arrays 3D."
   ]
  },
  {
   "cell_type": "code",
   "execution_count": 12,
   "metadata": {},
   "outputs": [
    {
     "name": "stdout",
     "output_type": "stream",
     "text": [
      "Apilado en profundidad con dstack:\n",
      "[[[1 4]\n",
      "  [2 5]\n",
      "  [3 6]]]\n"
     ]
    }
   ],
   "source": [
    "\n",
    "arr_dstack = np.dstack((a, b))\n",
    "print(f\"Apilado en profundidad con dstack:\\n{arr_dstack}\")"
   ]
  },
  {
   "cell_type": "markdown",
   "metadata": {},
   "source": [
    "### `column_stack()`\n",
    "\n",
    "Apila los arrays como columnas. Para arrays 1D, crea una matriz 2D donde cada array 1D es una columna. Para arrays 2D, actúa como `hstack`."
   ]
  },
  {
   "cell_type": "code",
   "execution_count": 13,
   "metadata": {},
   "outputs": [
    {
     "name": "stdout",
     "output_type": "stream",
     "text": [
      "\n",
      "Apilamiento por columnas:\n",
      " [[ 7 14]\n",
      " [ 8 16]]\n"
     ]
    }
   ],
   "source": [
    "arr3 = np.array([7, 8])\n",
    "\n",
    "arr_columnstack = np.column_stack((arr3, arr3*2))\n",
    "print(\"\\nApilamiento por columnas:\\n\", arr_columnstack)"
   ]
  },
  {
   "cell_type": "markdown",
   "metadata": {},
   "source": [
    "### `row_stack()`\n",
    "\n",
    "Apila los arrays como filas. Para arrays 1D, crea una matriz 2D donde cada array 1D es una fila. Para arrays 2D, actúa como `vstack`."
   ]
  },
  {
   "cell_type": "code",
   "execution_count": 14,
   "metadata": {},
   "outputs": [
    {
     "name": "stdout",
     "output_type": "stream",
     "text": [
      "\n",
      "Apilamiento por filas:\n",
      " [[ 7  8]\n",
      " [14 16]]\n"
     ]
    },
    {
     "name": "stderr",
     "output_type": "stream",
     "text": [
      "C:\\Users\\Dereck\\AppData\\Local\\Temp\\ipykernel_12680\\1956380926.py:1: DeprecationWarning: `row_stack` alias is deprecated. Use `np.vstack` directly.\n",
      "  arr_rowstack = np.row_stack((arr3, arr3*2))\n"
     ]
    }
   ],
   "source": [
    "arr_rowstack = np.row_stack((arr3, arr3*2))\n",
    "print(\"\\nApilamiento por filas:\\n\", arr_rowstack)"
   ]
  },
  {
   "cell_type": "markdown",
   "metadata": {},
   "source": [
    "## Split an array\n",
    "\n",
    "La división de arrays en sub-arrays se realiza principalmente con las funciones ``split()``, ``array_split()``, ``hsplit()``, ``vsplit()`` y ``dsplit()``."
   ]
  },
  {
   "cell_type": "markdown",
   "metadata": {},
   "source": [
    "### `split()`\n",
    "\n",
    "Divide un array en sub-arrays de igual tamaño, este requiere que el número de divisiones sea compatible con la longitud del array. Devuelve una lista de sub-arrays."
   ]
  },
  {
   "cell_type": "code",
   "execution_count": 15,
   "metadata": {},
   "outputs": [
    {
     "name": "stdout",
     "output_type": "stream",
     "text": [
      "[array([[1, 2, 3]]), array([[4, 5, 6]]), array([[7, 8, 9]])]\n"
     ]
    }
   ],
   "source": [
    "#Dividir un array\n",
    "arr_split = np.split(arr1, 3) #Divide el array en 3 partes\n",
    "print(arr_split)"
   ]
  },
  {
   "cell_type": "markdown",
   "metadata": {},
   "source": [
    "### `array_split()`\n",
    "\n",
    "Similar a ``split()``, pero permite divisiones desiguales. Si la longitud del array no es divisible por el número de divisiones, crea sub-arrays con tamaños ligeramente diferentes."
   ]
  },
  {
   "cell_type": "code",
   "execution_count": 16,
   "metadata": {},
   "outputs": [
    {
     "name": "stdout",
     "output_type": "stream",
     "text": [
      "[array([[1, 2, 3],\n",
      "       [4, 5, 6]]), array([[7, 8, 9]])]\n"
     ]
    }
   ],
   "source": [
    "arr_array_split = np.array_split(arr1, 2) #Divide el array en 2 partes, no necesariamente iguales\n",
    "print(arr_array_split)"
   ]
  },
  {
   "cell_type": "markdown",
   "metadata": {},
   "source": [
    "### `hsplit()`\n",
    "\n",
    "Divide un array en sub-arrays horizontalmente (*por columnas*). Equivalente a ``split(arr, indices_or_sections, axis=1)``."
   ]
  },
  {
   "cell_type": "code",
   "execution_count": 17,
   "metadata": {},
   "outputs": [
    {
     "name": "stdout",
     "output_type": "stream",
     "text": [
      "[array([[1],\n",
      "       [4],\n",
      "       [7]]), array([[2],\n",
      "       [5],\n",
      "       [8]]), array([[3],\n",
      "       [6],\n",
      "       [9]])]\n"
     ]
    }
   ],
   "source": [
    "arr_hsplit = np.hsplit(arr1, 3) #Divide el array horizontalmente en 3 partes\n",
    "print(arr_hsplit)"
   ]
  },
  {
   "cell_type": "markdown",
   "metadata": {},
   "source": [
    "### `vsplit()`\n",
    "\n",
    "Divide un array en sub-arrays verticalmente (*por filas*). Equivalente a ``split(arr, indices_or_sections, axis=0)``."
   ]
  },
  {
   "cell_type": "code",
   "execution_count": 18,
   "metadata": {},
   "outputs": [
    {
     "name": "stdout",
     "output_type": "stream",
     "text": [
      "[array([[1, 2, 3]]), array([[4, 5, 6]]), array([[7, 8, 9]])]\n"
     ]
    }
   ],
   "source": [
    "arr_vsplit = np.vsplit(arr1, 3) #Divide el array verticalmente en 3 partes\n",
    "print(arr_vsplit)"
   ]
  },
  {
   "cell_type": "markdown",
   "metadata": {},
   "source": [
    "### `dsplit()`\n",
    "\n",
    "Divide un array en sub-arrays a lo largo del tercer eje (*profundidad*). Solo aplicable a arrays de tres o más dimensiones."
   ]
  },
  {
   "cell_type": "code",
   "execution_count": 19,
   "metadata": {},
   "outputs": [
    {
     "name": "stdout",
     "output_type": "stream",
     "text": [
      "[array([[[1],\n",
      "        [3]],\n",
      "\n",
      "       [[5],\n",
      "        [7]]]), array([[[2],\n",
      "        [4]],\n",
      "\n",
      "       [[6],\n",
      "        [8]]])]\n"
     ]
    }
   ],
   "source": [
    "arr_dsplit = np.dsplit(arr2, 2) #Divide el array tridimensional en 2 partes\n",
    "print(arr_dsplit)"
   ]
  },
  {
   "cell_type": "markdown",
   "metadata": {},
   "source": [
    "## Adding and removing elements in an array\n",
    "\n",
    "Agregar y eliminar elementos de un array se realiza principalmente a través de las funciones `append()`, `insert()` y `delete()`. `append()` añade elementos al final del array, `insert()` agrega elementos en una posición específica y `delete()` elimina elementos basados en sus índices. Es importante recordar que estas funciones suelen devolver una nueva matriz, dejando la original intacta."
   ]
  },
  {
   "cell_type": "markdown",
   "metadata": {},
   "source": [
    "### `append()`\n",
    "\n",
    "Añade elementos al final del array."
   ]
  },
  {
   "cell_type": "code",
   "execution_count": 20,
   "metadata": {},
   "outputs": [
    {
     "name": "stdout",
     "output_type": "stream",
     "text": [
      "[1 2 3 4 5]\n"
     ]
    }
   ],
   "source": [
    "arr = np.array([1, 2, 3])\n",
    "arr_append = np.append(arr, [4, 5])\n",
    "print(arr_append)"
   ]
  },
  {
   "cell_type": "markdown",
   "metadata": {},
   "source": [
    "### `insert()`\n",
    "\n",
    "Inserta elementos en una posición específica dentro del array. Requiere especificar el índice y el valor a insertar."
   ]
  },
  {
   "cell_type": "code",
   "execution_count": 21,
   "metadata": {},
   "outputs": [
    {
     "name": "stdout",
     "output_type": "stream",
     "text": [
      "[1 7 8 2 3]\n"
     ]
    }
   ],
   "source": [
    "arr_insert = np.insert(arr, 1, [7, 8]) # Inserta 7 y 8 en la posición 1\n",
    "print(arr_insert)"
   ]
  },
  {
   "cell_type": "markdown",
   "metadata": {},
   "source": [
    "### `delete()`\n",
    "\n",
    "Elimina elementos del array según su índice. Se le pasa el array y una lista de índices a eliminar."
   ]
  },
  {
   "cell_type": "code",
   "execution_count": 22,
   "metadata": {},
   "outputs": [
    {
     "name": "stdout",
     "output_type": "stream",
     "text": [
      "[7 2 3]\n"
     ]
    }
   ],
   "source": [
    "arr_delete = np.delete(arr_insert, [0, 2])  # Elimina elementos en los índices 0 y 2\n",
    "print(arr_delete)"
   ]
  }
 ],
 "metadata": {
  "kernelspec": {
   "display_name": "Python 3",
   "language": "python",
   "name": "python3"
  },
  "language_info": {
   "codemirror_mode": {
    "name": "ipython",
    "version": 3
   },
   "file_extension": ".py",
   "mimetype": "text/x-python",
   "name": "python",
   "nbconvert_exporter": "python",
   "pygments_lexer": "ipython3",
   "version": "3.13.2"
  }
 },
 "nbformat": 4,
 "nbformat_minor": 2
}
