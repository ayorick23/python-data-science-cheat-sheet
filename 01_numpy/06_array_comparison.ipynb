{
 "cells": [
  {
   "cell_type": "markdown",
   "id": "f96bf25f",
   "metadata": {},
   "source": [
    "# Array Comparison\n",
    "\n",
    "## Comparación de Arrays\n",
    "\n",
    "En **NumPy**, la comparación de arrays se realiza elemento por elemento utilizando operadores de comparación como ``==``, ``!=``, ``>``, ``<``, ``>=``, o ``<=``. Estas comparaciones devuelven un array booleano con el resultado de cada comparación individual. Además, existen funciones específicas como ``np.array_equal()`` para comparar la igualdad de arrays y ``np.allclose()`` para comparar con una tolerancia."
   ]
  },
  {
   "cell_type": "code",
   "execution_count": 1,
   "id": "aef9b7c9",
   "metadata": {},
   "outputs": [],
   "source": [
    "import numpy as np"
   ]
  },
  {
   "cell_type": "markdown",
   "id": "cb53d4b2",
   "metadata": {},
   "source": [
    "## Example arrays"
   ]
  },
  {
   "cell_type": "code",
   "execution_count": 2,
   "id": "99a148c7",
   "metadata": {},
   "outputs": [],
   "source": [
    "#Arrays de ejemplo\n",
    "array1 = np.array([1, 2, 3])\n",
    "array2 = np.array([1, 2, 3])\n",
    "array3 = np.array([1, 4, 3])"
   ]
  },
  {
   "cell_type": "markdown",
   "id": "b97d3dfa",
   "metadata": {},
   "source": [
    "## Element-by-element comparison\n",
    "\n",
    "Al utilizar operadores de comparación directamente con arrays, la comparación se realiza entre elementos correspondientes de los arrays."
   ]
  },
  {
   "cell_type": "code",
   "execution_count": 3,
   "id": "08b0fe5b",
   "metadata": {},
   "outputs": [
    {
     "name": "stdout",
     "output_type": "stream",
     "text": [
      "[ True False  True]\n",
      "[False False False]\n"
     ]
    }
   ],
   "source": [
    "#Comparación elemento por elemento\n",
    "comparacion_igual = array1 == array3\n",
    "comparacion_mayor = array1 > array3\n",
    "print(comparacion_igual)\n",
    "print(comparacion_mayor)"
   ]
  },
  {
   "cell_type": "markdown",
   "id": "f057aa27",
   "metadata": {},
   "source": [
    "## Comparison functions"
   ]
  },
  {
   "cell_type": "markdown",
   "id": "787d7634",
   "metadata": {},
   "source": [
    "- ``np.array_equal(arr1, arr2)``:\n",
    "Devuelve True si dos arrays tienen la misma forma y elementos, ``False`` en caso contrario. Considera ``NaN`` como iguales si ``equal_nan=True``."
   ]
  },
  {
   "cell_type": "code",
   "execution_count": 4,
   "id": "6cf0f061",
   "metadata": {},
   "outputs": [
    {
     "name": "stdout",
     "output_type": "stream",
     "text": [
      "True\n",
      "False\n"
     ]
    }
   ],
   "source": [
    "#Comparación de arrays completos\n",
    "print(np.array_equal(array1, array2))\n",
    "print(np.array_equal(array1, array3))"
   ]
  },
  {
   "cell_type": "markdown",
   "id": "883b20d4",
   "metadata": {},
   "source": [
    "- ``np.all(comparacion)``: Devuelve ``True`` si todos los elementos de comparacion son ``True``, ``False`` en caso contrario."
   ]
  },
  {
   "cell_type": "code",
   "execution_count": 5,
   "id": "50398e90",
   "metadata": {},
   "outputs": [
    {
     "name": "stdout",
     "output_type": "stream",
     "text": [
      "True\n",
      "True\n"
     ]
    }
   ],
   "source": [
    "comparacion = array1 == array2\n",
    "print(np.all(comparacion))\n",
    "print(np.any(comparacion))"
   ]
  },
  {
   "cell_type": "markdown",
   "id": "16a27cae",
   "metadata": {},
   "source": [
    "- ``np.any(comparacion)``: Devuelve ``True`` si al menos un elemento de comparacion es ``True``, ``False`` en caso contrario. "
   ]
  },
  {
   "cell_type": "code",
   "execution_count": 6,
   "id": "ea1f17aa",
   "metadata": {},
   "outputs": [
    {
     "name": "stdout",
     "output_type": "stream",
     "text": [
      "False\n",
      "True\n"
     ]
    }
   ],
   "source": [
    "comparacion_distinta = array1 != array3\n",
    "print(np.all(comparacion_distinta))\n",
    "print(np.any(comparacion_distinta))"
   ]
  }
 ],
 "metadata": {
  "kernelspec": {
   "display_name": "Python 3 (ipykernel)",
   "language": "python",
   "name": "python3"
  },
  "language_info": {
   "codemirror_mode": {
    "name": "ipython",
    "version": 3
   },
   "file_extension": ".py",
   "mimetype": "text/x-python",
   "name": "python",
   "nbconvert_exporter": "python",
   "pygments_lexer": "ipython3",
   "version": "3.13.2"
  }
 },
 "nbformat": 4,
 "nbformat_minor": 5
}
