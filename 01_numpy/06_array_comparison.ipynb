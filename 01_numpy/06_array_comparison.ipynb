{
 "cells": [
  {
   "cell_type": "markdown",
   "id": "f96bf25f",
   "metadata": {},
   "source": [
    "# Array Comparison\n",
    "\n",
    "## Comparación de Arrays\n",
    "\n",
    "En **NumPy**, la comparación de arrays se realiza elemento por elemento utilizando operadores de comparación como ``==``, ``!=``, ``>``, ``<``, ``>=``, o ``<=``. Estas comparaciones devuelven un array booleano con el resultado de cada comparación individual. Además, existen funciones específicas como ``np.array_equal()`` para comparar la igualdad de arrays y ``np.allclose()`` para comparar con una tolerancia."
   ]
  },
  {
   "cell_type": "code",
   "execution_count": null,
   "id": "aef9b7c9",
   "metadata": {},
   "outputs": [],
   "source": [
    "import numpy as np"
   ]
  },
  {
   "cell_type": "markdown",
   "id": "b97d3dfa",
   "metadata": {},
   "source": [
    "## Element-by-element comparison\n",
    "\n",
    "Al utilizar operadores de comparación directamente con arrays, la comparación se realiza entre elementos correspondientes de los arrays."
   ]
  },
  {
   "cell_type": "code",
   "execution_count": null,
   "id": "08b0fe5b",
   "metadata": {},
   "outputs": [],
   "source": []
  },
  {
   "cell_type": "markdown",
   "id": "f057aa27",
   "metadata": {},
   "source": [
    "## Comparison functions"
   ]
  },
  {
   "cell_type": "markdown",
   "id": "787d7634",
   "metadata": {},
   "source": [
    "- ``np.array_equal(arr1, arr2)``:\n",
    "Devuelve True si dos arrays tienen la misma forma y elementos, ``False`` en caso contrario. Considera ``NaN`` como iguales si ``equal_nan=True``."
   ]
  },
  {
   "cell_type": "code",
   "execution_count": null,
   "id": "6cf0f061",
   "metadata": {},
   "outputs": [],
   "source": []
  },
  {
   "cell_type": "markdown",
   "id": "883b20d4",
   "metadata": {},
   "source": [
    "- ``np.allclose(arr1, arr2, rtol=1e-05, atol=1e-08, equal_nan=False)``:\n",
    "Devuelve ``True`` si dos arrays son iguales dentro de una tolerancia dada. rtol es la tolerancia relativa y atol la absoluta."
   ]
  },
  {
   "cell_type": "code",
   "execution_count": null,
   "id": "50398e90",
   "metadata": {},
   "outputs": [],
   "source": []
  },
  {
   "cell_type": "markdown",
   "id": "16a27cae",
   "metadata": {},
   "source": [
    "- ``np.greater(arr1, arr2)``:\n",
    "Devuelve un array booleano con ``True`` donde arr1 es mayor que arr2. Similar para ``np.less``, ``np.greater_equal``, ``np.less_equal``, ``np.equal``, ``np.not_equal``."
   ]
  },
  {
   "cell_type": "code",
   "execution_count": null,
   "id": "4467edb4",
   "metadata": {},
   "outputs": [],
   "source": []
  }
 ],
 "metadata": {
  "language_info": {
   "name": "python"
  }
 },
 "nbformat": 4,
 "nbformat_minor": 5
}
