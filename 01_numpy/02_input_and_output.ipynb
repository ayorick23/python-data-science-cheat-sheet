{
 "cells": [
  {
   "cell_type": "markdown",
   "id": "35339cc7",
   "metadata": {},
   "source": [
    "# Input and Output (I/0)\n",
    "\n",
    "## Entrada y Salida (E/S)\n",
    "\n",
    "En **NumPy**, la entrada y salida (*E/S*) se refiere a la forma en que se cargan datos en las matrices (*input*) y se guardan o presentan los resultados (*output*). NumPy ofrece funciones para trabajar con archivos de texto y binarios, así como para formatear la salida de las matrices en diferentes formatos, incluyendo texto y representaciones binarias."
   ]
  },
  {
   "cell_type": "code",
   "execution_count": 1,
   "id": "e94adcf8",
   "metadata": {},
   "outputs": [],
   "source": [
    "import numpy as np"
   ]
  },
  {
   "cell_type": "markdown",
   "id": "332802bf",
   "metadata": {},
   "source": [
    "## Example arrays"
   ]
  },
  {
   "cell_type": "code",
   "execution_count": 2,
   "id": "1c45c130",
   "metadata": {},
   "outputs": [],
   "source": [
    "#Arrays de ejemplo\n",
    "arr = np.array([1, 2, 3, 4, 5])\n",
    "arr1 = np.array([1, 2, 3])\n",
    "arr2 = np.array([4, 5, 6])"
   ]
  },
  {
   "cell_type": "markdown",
   "id": "46bfc7e0",
   "metadata": {},
   "source": [
    "## Saving and Loading on disk\n",
    "\n",
    "Los objetos ndarray se pueden guardar y cargar desde el disco con funciones que gestionan archivos binarios de NumPy con la extensión ``.npy`` como `np.save()` o ``.npz`` con la función `np.savez()`.\n",
    "\n",
    "Los archivos ``.npy`` y ``.npz`` almacenan datos, forma, tipo de datos y otra información necesaria para reconstruir el ndarray de manera que permita recuperar la matriz correctamente, incluso cuando el archivo está en otra máquina con una arquitectura diferente."
   ]
  },
  {
   "cell_type": "markdown",
   "id": "290365bf",
   "metadata": {},
   "source": [
    "### `np.save`\n",
    "\n",
    "La función ``np.save()`` guarda una matriz de NumPy en un archivo binario con extensión `.npy`. Se utiliza para almacenar una sola matriz."
   ]
  },
  {
   "cell_type": "code",
   "execution_count": 3,
   "id": "ba474834",
   "metadata": {},
   "outputs": [],
   "source": [
    "#Guarda el array con el nombre 'my_array.npy'\n",
    "np.save('mi_array.npy', arr)"
   ]
  },
  {
   "cell_type": "markdown",
   "id": "7b4a5546",
   "metadata": {},
   "source": [
    "### `np.savez`\n",
    "\n",
    "La función ``np.savez()`` permite guardar múltiples arrays de NumPy en un solo archivo con extensión ``.npz``. Este archivo es un tipo de archivo comprimido que contiene los arrays guardados. Al guardar con ``np.savez()``, los arrays se guardan con nombres específicos, ya sea por defecto o usando nombres de palabras clave."
   ]
  },
  {
   "cell_type": "code",
   "execution_count": 4,
   "id": "a35de0c0",
   "metadata": {},
   "outputs": [],
   "source": [
    "#Guardar los arrays en un archivo llamado 'mis_datos.npz'\n",
    "np.savez('mis_datos.npz', primero = arr1, segundo = arr2)"
   ]
  },
  {
   "cell_type": "markdown",
   "id": "b1e7a85c",
   "metadata": {},
   "source": [
    "### `np.load`\n",
    "\n",
    "La función ``np.load()`` se utiliza para cargar matrices u objetos encurtidos desde ``.npy``, ``.npz`` o archivos encurtidos."
   ]
  },
  {
   "cell_type": "code",
   "execution_count": 5,
   "id": "d0b2b3ae",
   "metadata": {},
   "outputs": [
    {
     "name": "stdout",
     "output_type": "stream",
     "text": [
      "[1 2 3 4 5]\n",
      "[1 2 3]\n",
      "[4 5 6]\n"
     ]
    }
   ],
   "source": [
    "#Carga un archivo .npy\n",
    "array = np.load('mi_array.npy')\n",
    "print(array)\n",
    "\n",
    "#Carga un archivo .npz\n",
    "data = np.load('mis_datos.npz')\n",
    "array1 = data['primero']\n",
    "array2 = data['segundo']\n",
    "print(array1)\n",
    "print(array2)"
   ]
  },
  {
   "cell_type": "markdown",
   "id": "e613a360",
   "metadata": {},
   "source": [
    "## Saving and Loading text files\n",
    "\n",
    "Para guardar y cargar archivos de texto en NumPy, se utilizan las funciones ``np.savetxt()`` y ``np.loadtxt()`` respectivamente. ``savetxt()`` permite guardar un array de NumPy en un archivo de texto, mientras que ``loadtxt()`` carga datos de un archivo de texto en un array de NumPy."
   ]
  },
  {
   "cell_type": "markdown",
   "id": "aaa10586",
   "metadata": {},
   "source": [
    "### `np.savetxt`\n",
    "\n",
    "La función ``np.savetxt()`` se utiliza para guardar un array de NumPy en un archivo de texto."
   ]
  },
  {
   "cell_type": "code",
   "execution_count": 6,
   "id": "69e9e6b4",
   "metadata": {},
   "outputs": [],
   "source": [
    "#Guarda un array en un archivo de texto\n",
    "np.savetxt(\"mi_archivo.txt\", arr, delimiter=',')"
   ]
  },
  {
   "cell_type": "markdown",
   "id": "4d70faa3",
   "metadata": {},
   "source": [
    "### `np.loadtxt`\n",
    "\n",
    "La función ``np.loadtxt()`` se utiliza para leer datos de un archivo de texto y cargarlos en un array de NumPy."
   ]
  },
  {
   "cell_type": "code",
   "execution_count": 7,
   "id": "bea66c7f",
   "metadata": {},
   "outputs": [
    {
     "name": "stdout",
     "output_type": "stream",
     "text": [
      "[1. 2. 3. 4. 5.]\n"
     ]
    }
   ],
   "source": [
    "#Carga un archivo de texto\n",
    "data = np.loadtxt(\"mi_archivo.txt\", delimiter=',')\n",
    "print(data)"
   ]
  },
  {
   "cell_type": "markdown",
   "id": "93ffaf72",
   "metadata": {},
   "source": [
    "### `np.genfromtext`\n",
    "\n",
    "Esta función se utiliza para cargar datos de un archivo de texto a un array de NumPy. Es más flexible que ``np.loadtxt()`` ya que admite valores faltantes y diferentes tipos de datos."
   ]
  },
  {
   "cell_type": "code",
   "execution_count": 8,
   "id": "b3c06ce1",
   "metadata": {},
   "outputs": [
    {
     "name": "stdout",
     "output_type": "stream",
     "text": [
      "[[ 1.  2.  3.]\n",
      " [ 4. nan  6.]\n",
      " [ 7.  8.  9.]]\n"
     ]
    }
   ],
   "source": [
    "#Datos de ejemplo de formato string\n",
    "data = \"\"\"\n",
    "# Este es un comentario\n",
    "1,2,3\n",
    "4,,6\n",
    "7,8,9\n",
    "\"\"\"\n",
    "\n",
    "#Carga de datos usando genfromtxt()\n",
    "array = np.genfromtxt(data.splitlines(), delimiter=',', comments='#')\n",
    "print(array)"
   ]
  }
 ],
 "metadata": {
  "kernelspec": {
   "display_name": "Python 3",
   "language": "python",
   "name": "python3"
  },
  "language_info": {
   "codemirror_mode": {
    "name": "ipython",
    "version": 3
   },
   "file_extension": ".py",
   "mimetype": "text/x-python",
   "name": "python",
   "nbconvert_exporter": "python",
   "pygments_lexer": "ipython3",
   "version": "3.13.2"
  }
 },
 "nbformat": 4,
 "nbformat_minor": 5
}
