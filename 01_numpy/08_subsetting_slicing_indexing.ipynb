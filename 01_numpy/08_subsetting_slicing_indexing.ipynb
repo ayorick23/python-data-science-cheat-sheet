{
 "cells": [
  {
   "cell_type": "markdown",
   "id": "300b1f2c",
   "metadata": {},
   "source": [
    "# Subsetting: Slicing and Indexing\n",
    "\n",
    "## Subconjuntos: Segmentación e Indexación"
   ]
  },
  {
   "cell_type": "markdown",
   "id": "a22be5ce",
   "metadata": {},
   "source": [
    "## Subsetting\n",
    "\n",
    "En **NumPy**, la creación de subconjuntos de matrices se realiza utilizando la indexación y el slicing. La indexación permite acceder a elementos individuales, mientras que el slicing permite extraer rangos de elementos de forma continua. Se pueden utilizar corchetes ``[]`` para especificar los índices o rangos de índices que se desean seleccionar, separando los índices de diferentes dimensiones con comas para arrays multidimensionales."
   ]
  },
  {
   "cell_type": "code",
   "execution_count": 1,
   "id": "a85eb53a",
   "metadata": {},
   "outputs": [],
   "source": [
    "import numpy as np"
   ]
  },
  {
   "cell_type": "markdown",
   "id": "5dc1db2b",
   "metadata": {},
   "source": [
    "### Indexing"
   ]
  },
  {
   "cell_type": "markdown",
   "id": "eba422dd",
   "metadata": {},
   "source": [
    "- **Indexación simple:** Se accede a elementos individuales usando su posición dentro del array. La numeración en Python, y por ende en NumPy, comienza desde 0."
   ]
  },
  {
   "cell_type": "code",
   "execution_count": 2,
   "id": "f010dcba",
   "metadata": {},
   "outputs": [
    {
     "name": "stdout",
     "output_type": "stream",
     "text": [
      "20\n"
     ]
    }
   ],
   "source": [
    "arr = np.array([10, 20, 30, 40, 50])\n",
    "print(arr[1])  # Imprime 20 (el segundo elemento)"
   ]
  },
  {
   "cell_type": "markdown",
   "id": "7c9f0231",
   "metadata": {},
   "source": [
    "- **Indexación multidimensional:** Para arrays con más de una dimensión, se utilizan múltiples índices separados por comas."
   ]
  },
  {
   "cell_type": "code",
   "execution_count": 3,
   "id": "152afa19",
   "metadata": {},
   "outputs": [
    {
     "name": "stdout",
     "output_type": "stream",
     "text": [
      "2\n"
     ]
    }
   ],
   "source": [
    "arr_2d = np.array([[1, 2, 3], [4, 5, 6]])\n",
    "print(arr_2d[0, 1])  # Imprime 2 (fila 0, columna 1)"
   ]
  },
  {
   "cell_type": "markdown",
   "id": "0c223e60",
   "metadata": {},
   "source": [
    "### Slicing"
   ]
  },
  {
   "cell_type": "markdown",
   "id": "64255c62",
   "metadata": {},
   "source": [
    "- **Slicing básico:** Se utiliza el operador ``:`` para indicar un rango de elementos."
   ]
  },
  {
   "cell_type": "code",
   "execution_count": 4,
   "id": "5db5b0c3",
   "metadata": {},
   "outputs": [
    {
     "name": "stdout",
     "output_type": "stream",
     "text": [
      "[20 30 40]\n"
     ]
    }
   ],
   "source": [
    "print(arr[1:4])  # Elementos desde el índice 1 hasta el 3"
   ]
  },
  {
   "cell_type": "markdown",
   "id": "6cbe52f8",
   "metadata": {},
   "source": [
    "- **Slicing con inicio y fin:** Se puede especificar el índice de inicio y fin (*exclusivo*) del rango."
   ]
  },
  {
   "cell_type": "code",
   "execution_count": 5,
   "id": "45fe334f",
   "metadata": {},
   "outputs": [
    {
     "name": "stdout",
     "output_type": "stream",
     "text": [
      "[10 20 30]\n",
      "[30 40 50]\n"
     ]
    }
   ],
   "source": [
    "print(arr[:3])   # Desde el principio hasta el índice 2\n",
    "print(arr[2:])   # Desde el índice 2 hasta el final)"
   ]
  },
  {
   "cell_type": "markdown",
   "id": "82e852bc",
   "metadata": {},
   "source": [
    "- **Slicing con paso:** Se puede especificar un paso para saltar elementos dentro del rango."
   ]
  },
  {
   "cell_type": "code",
   "execution_count": 6,
   "id": "5e15786c",
   "metadata": {},
   "outputs": [
    {
     "name": "stdout",
     "output_type": "stream",
     "text": [
      "[10 30 50]\n"
     ]
    }
   ],
   "source": [
    "print(arr[0:5:2])  # Imprime cada dos elementos"
   ]
  },
  {
   "cell_type": "markdown",
   "id": "d8b637d3",
   "metadata": {},
   "source": [
    "- **Slicing en arrays multidimensionales:** Se puede aplicar slicing a cada dimensión por separado."
   ]
  },
  {
   "cell_type": "code",
   "execution_count": 7,
   "id": "2875cdd2",
   "metadata": {},
   "outputs": [
    {
     "name": "stdout",
     "output_type": "stream",
     "text": [
      "[[4 5]\n",
      " [7 8]]\n"
     ]
    }
   ],
   "source": [
    "arr_3d = np.array([[1, 2, 3], [4, 5, 6], [7, 8, 9]])\n",
    "print(arr_3d[1:, 0:2])  # Imprime todas las filas desde la 1 y columnas 0 y 1"
   ]
  },
  {
   "cell_type": "markdown",
   "id": "14ec01b7",
   "metadata": {},
   "source": [
    "### Boolean Indexing"
   ]
  },
  {
   "cell_type": "markdown",
   "id": "d1d392ee",
   "metadata": {},
   "source": [
    "- Se puede utilizar un array booleano como índice para seleccionar elementos basados en una condición."
   ]
  },
  {
   "cell_type": "code",
   "execution_count": 8,
   "id": "ebc364e6",
   "metadata": {},
   "outputs": [
    {
     "name": "stdout",
     "output_type": "stream",
     "text": [
      "[30 40 50]\n"
     ]
    }
   ],
   "source": [
    "indices = arr > 20\n",
    "print(arr[indices])"
   ]
  },
  {
   "cell_type": "markdown",
   "id": "2aae342a",
   "metadata": {},
   "source": [
    "- La función ``np.where()`` también puede ser útil para encontrar los índices de elementos que cumplen una condición."
   ]
  },
  {
   "cell_type": "code",
   "execution_count": 9,
   "id": "76aa7aee",
   "metadata": {},
   "outputs": [
    {
     "name": "stdout",
     "output_type": "stream",
     "text": [
      "(array([2, 3, 4]),)\n",
      "[30 40 50]\n"
     ]
    }
   ],
   "source": [
    "indices_where = np.where(arr > 20)\n",
    "print(indices_where)  # Imprime los índices donde la condición es verdadera\n",
    "print(arr[indices_where])"
   ]
  }
 ],
 "metadata": {
  "kernelspec": {
   "display_name": "Python 3 (ipykernel)",
   "language": "python",
   "name": "python3"
  },
  "language_info": {
   "codemirror_mode": {
    "name": "ipython",
    "version": 3
   },
   "file_extension": ".py",
   "mimetype": "text/x-python",
   "name": "python",
   "nbconvert_exporter": "python",
   "pygments_lexer": "ipython3",
   "version": "3.13.2"
  }
 },
 "nbformat": 4,
 "nbformat_minor": 5
}
