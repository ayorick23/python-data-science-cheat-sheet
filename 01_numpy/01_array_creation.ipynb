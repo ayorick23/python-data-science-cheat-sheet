{
 "cells": [
  {
   "cell_type": "markdown",
   "metadata": {},
   "source": [
    "# <img width=\"35\" height=\"35\" src=\"https://img.icons8.com/?size=100&id=aR9CXyMagKIS&format=png&color=000000\" alt=\"numpy\"> Introduction to NumPy\n",
    "\n",
    "## Introducción a NumPy\n",
    "\n",
    "**NumPy** es una biblioteca de Python fundamental para la computación científica y el análisis de datos. Su principal función es proporcionar objetos de matriz multidimensionales (*llamados ndarray*) que permiten almacenar y manipular grandes conjuntos de datos de manera eficiente, así como una amplia gama de funciones matemáticas para operar sobre estas matrices."
   ]
  },
  {
   "cell_type": "markdown",
   "metadata": {},
   "source": [
    "# Array Creation\n",
    "\n",
    "## Creación de Arrays\n",
    "\n",
    "En **NumPy**, la creación de arrays se puede lograr de varias formas, siendo la más común la función `np.array()`. Esta función convierte una secuencia de Python (como una lista o tupla) en un objeto **ndarray**, que es la estructura de datos fundamental de NumPy. Además, existen funciones específicas como `np.zeros()`, `np.ones()`, `np.empty()`, `np.arange()`, y `np.linspace()` que facilitan la creación de arrays con patrones predefinidos o rangos de valores."
   ]
  },
  {
   "cell_type": "markdown",
   "metadata": {},
   "source": [
    "## Import NumPy"
   ]
  },
  {
   "cell_type": "code",
   "execution_count": 1,
   "metadata": {},
   "outputs": [],
   "source": [
    "import numpy as np"
   ]
  },
  {
   "cell_type": "markdown",
   "metadata": {},
   "source": [
    "## Check NumPy version\n",
    "\n",
    "Antes de comenzar, es buena práctica verificar la versión instalada de `numpy`, especialmente para asegurar la compatibilidad de funciones:"
   ]
  },
  {
   "cell_type": "code",
   "execution_count": 2,
   "metadata": {},
   "outputs": [
    {
     "name": "stdout",
     "output_type": "stream",
     "text": [
      "Version de NumPy: 2.2.3\n"
     ]
    }
   ],
   "source": [
    "#Verificar la versión de NumPy\n",
    "print(\"Version de NumPy:\", np.__version__)"
   ]
  },
  {
   "cell_type": "markdown",
   "metadata": {},
   "source": [
    "## Create an array\n",
    "\n",
    "La función `np.array()` es la más versátil para crear arrays a partir de datos existentes. Recibe una secuencia (*lista, tupla, etc.*) como argumento y devuelve un array de NumPy con la misma estructura. Los ***ndarray*** son un objeto que representa una matriz o arreglo de datos homogéneos (todos del mismo tipo) indexados por una tupla de enteros no negativos."
   ]
  },
  {
   "cell_type": "code",
   "execution_count": 3,
   "metadata": {},
   "outputs": [],
   "source": [
    "#Crear un array de NumPy\n",
    "arr = np.array([10, 20, 30, 40, 50])"
   ]
  },
  {
   "cell_type": "markdown",
   "metadata": {},
   "source": [
    "## Create an array from a list\n",
    "\n",
    "Para crear un array a partir de una lista se utiliza la función ``np.array()``. Esta función toma la lista como argumento y devuelve un nuevo array de NumPy con los mismos elementos."
   ]
  },
  {
   "cell_type": "code",
   "execution_count": 4,
   "metadata": {},
   "outputs": [
    {
     "name": "stdout",
     "output_type": "stream",
     "text": [
      "[1 2 3 4 5]\n"
     ]
    }
   ],
   "source": [
    "#Crear un array a partir de una lista\n",
    "lista = [1, 2, 3, 4, 5]\n",
    "arr1 = np.array(lista)\n",
    "print(arr1)"
   ]
  },
  {
   "cell_type": "markdown",
   "metadata": {},
   "source": [
    "## Create an array with specific data types\n",
    "\n",
    "La creación de arrays con tipos de datos específicos se realiza principalmente utilizando la función ``np.array()`` y especificando el tipo deseado con el argumento ``dtype``."
   ]
  },
  {
   "cell_type": "code",
   "execution_count": 5,
   "metadata": {},
   "outputs": [
    {
     "name": "stdout",
     "output_type": "stream",
     "text": [
      "[1.5 2.5 3.5 4.5 5.5]\n"
     ]
    }
   ],
   "source": [
    "#Crear un array con un tipo de dato específico\n",
    "arr2 = np.array([1.5, 2.5, 3.5, 4.5, 5.5], dtype=float)\n",
    "print(arr2)"
   ]
  },
  {
   "cell_type": "markdown",
   "metadata": {},
   "source": [
    "## Create an array with a range of values\n",
    "\n",
    "La función ``np.arange()`` crea arrays con una secuencia de números dentro de un rango especificado, similar a la función ``range()`` de Python, pero devuelve un arreglo NumPy en lugar de una lista. Puedes definir el inicio, el fin (*exclusivo*) y el paso (*incremento*) de la secuencia."
   ]
  },
  {
   "cell_type": "code",
   "execution_count": 6,
   "metadata": {},
   "outputs": [
    {
     "name": "stdout",
     "output_type": "stream",
     "text": [
      "Array con np.arange: [0 2 4 6 8]\n"
     ]
    }
   ],
   "source": [
    "#Crear un array con un rango de valores\n",
    "arr2 = np.arange(0, 10, 2) #valores de 0 a 10 (exclusivo) con paso de 2\n",
    "print(f\"Array con np.arange: {arr2}\")"
   ]
  },
  {
   "cell_type": "markdown",
   "metadata": {},
   "source": [
    "## Create an array with intervals\n",
    "\n",
    "La función ``np.linspace`` es una función que se utiliza para crear una matriz de números espaciados uniformemente en un intervalo específico."
   ]
  },
  {
   "cell_type": "code",
   "execution_count": 7,
   "metadata": {},
   "outputs": [
    {
     "name": "stdout",
     "output_type": "stream",
     "text": [
      "Array con np.linspace: [0.   0.25 0.5  0.75 1.  ]\n"
     ]
    }
   ],
   "source": [
    "#Crear un array con intervalos\n",
    "arr3 = np.linspace(0, 1, 5) #5 valores entre 0 y 1 (incluidos)\n",
    "print(f\"Array con np.linspace: {arr3}\")"
   ]
  },
  {
   "cell_type": "markdown",
   "metadata": {},
   "source": [
    "## Create an array of zeros\n",
    "\n",
    "La función ``np.zeros()`` crea una matriz llena de ceros con la forma y tipo de datos especificados. Si no se especifica, el tipo por defecto es ``float64``."
   ]
  },
  {
   "cell_type": "code",
   "execution_count": 8,
   "metadata": {},
   "outputs": [
    {
     "name": "stdout",
     "output_type": "stream",
     "text": [
      "Array de ceros:\n",
      "[[0. 0. 0.]\n",
      " [0. 0. 0.]\n",
      " [0. 0. 0.]]\n"
     ]
    }
   ],
   "source": [
    "#Crear un array de ceros\n",
    "zeros = np.zeros((3, 3))\n",
    "\n",
    "print(f\"Array de ceros:\\n{zeros}\")"
   ]
  },
  {
   "cell_type": "markdown",
   "metadata": {},
   "source": [
    "## Create an array of ones\n",
    "\n",
    "La función ``np.ones()`` genera una matriz de una forma y un tipo de datos especificados, donde todos los elementos se inicializan en 1."
   ]
  },
  {
   "cell_type": "code",
   "execution_count": 9,
   "metadata": {},
   "outputs": [
    {
     "name": "stdout",
     "output_type": "stream",
     "text": [
      "Array de unos:\n",
      "[[1. 1. 1. 1.]\n",
      " [1. 1. 1. 1.]]\n"
     ]
    }
   ],
   "source": [
    "#Crear un array de unos\n",
    "ones = np.ones((2, 4))\n",
    "\n",
    "print(f\"Array de unos:\\n{ones}\")"
   ]
  },
  {
   "cell_type": "markdown",
   "metadata": {},
   "source": [
    "## Create an array of constants\n",
    "\n",
    "La función ``np.full()`` se utiliza para crear una nueva matriz de una forma y un tipo de datos específicos, rellena con un valor dado. Pide como argumentos una tupla con la forma y el valor con el que se rellenarpa la matriz."
   ]
  },
  {
   "cell_type": "code",
   "execution_count": 10,
   "metadata": {},
   "outputs": [
    {
     "name": "stdout",
     "output_type": "stream",
     "text": [
      "Array de constantes:\n",
      "[[5 5 5]\n",
      " [5 5 5]]\n"
     ]
    }
   ],
   "source": [
    "constants = np.full((2, 3), 5)\n",
    "print(f\"Array de constantes:\\n{constants}\")"
   ]
  },
  {
   "cell_type": "markdown",
   "metadata": {},
   "source": [
    "## Create an identity matrix\n",
    "\n",
    "La matriz identidad se puede crear usando la función ``np.identity()`` o ``numpy.eye()``. Ambas funciones generan una matriz cuadrada donde la diagonal principal está compuesta por unos y el resto de los elementos son ceros. La diferencia principal radica en que ``np.eye()`` permite especificar un desplazamiento para la diagonal, mientras que ``np.identity()`` solo crea la diagonal principal."
   ]
  },
  {
   "cell_type": "code",
   "execution_count": 11,
   "metadata": {},
   "outputs": [
    {
     "name": "stdout",
     "output_type": "stream",
     "text": [
      "Matriz identidad con identity():\n",
      "[[1. 0. 0.]\n",
      " [0. 1. 0.]\n",
      " [0. 0. 1.]]\n"
     ]
    }
   ],
   "source": [
    "#Crear una matriz identidad con identity()\n",
    "identity = np.identity(3)\n",
    "print(f\"Matriz identidad con identity():\\n{identity}\")"
   ]
  },
  {
   "cell_type": "code",
   "execution_count": 12,
   "metadata": {},
   "outputs": [
    {
     "name": "stdout",
     "output_type": "stream",
     "text": [
      "Matriz identidad con eye():\n",
      "[[1. 0. 0.]\n",
      " [0. 1. 0.]\n",
      " [0. 0. 1.]]\n",
      "Matriz identidad desplazada:\n",
      "[[0. 1. 0.]\n",
      " [0. 0. 1.]\n",
      " [0. 0. 0.]]\n"
     ]
    }
   ],
   "source": [
    "#Crear una matriz identidad con eye()\n",
    "identity2 = np.eye(3)\n",
    "print(f\"Matriz identidad con eye():\\n{identity2}\")\n",
    "\n",
    "displaced_identity = np.eye(3, k=1) # k especifica el desplazamiento\n",
    "print(f\"Matriz identidad desplazada:\\n{displaced_identity}\")"
   ]
  },
  {
   "cell_type": "markdown",
   "metadata": {},
   "source": [
    "## Create an array of random numbers betwen 0 and 1\n",
    "\n",
    "- ``np.random.rand(d0, d1, ..., dn)``: Genera una matriz con la forma especificada (d0, d1, ..., dn) llena de números aleatorios distribuidos uniformemente entre 0 y 1."
   ]
  },
  {
   "cell_type": "code",
   "execution_count": 13,
   "metadata": {},
   "outputs": [
    {
     "name": "stdout",
     "output_type": "stream",
     "text": [
      "Array aleatorio con np.random.rand:\n",
      "[[0.19790156 0.79390578 0.93733923]\n",
      " [0.83541731 0.87589121 0.3873544 ]\n",
      " [0.55185233 0.87390292 0.16781115]]\n"
     ]
    }
   ],
   "source": [
    "#Crear un array de números aleatorios\n",
    "randomArr = np.random.rand(3, 3) #matriz 3x3 con valores aleatorios entre 0 y 1\n",
    "print(f\"Array aleatorio con np.random.rand:\\n{randomArr}\")"
   ]
  },
  {
   "cell_type": "markdown",
   "metadata": {},
   "source": [
    "## Create an array of random integers\n",
    "\n",
    "- ``np.random.randint(low, high, (size))``: Genera una matriz con números enteros aleatorios en el rango (``low, high``). ``size`` define la forma de la matriz."
   ]
  },
  {
   "cell_type": "code",
   "execution_count": 14,
   "metadata": {},
   "outputs": [
    {
     "name": "stdout",
     "output_type": "stream",
     "text": [
      "Array de enteros aleatorios con np.random.randint:\n",
      "[[0 1 1]\n",
      " [4 3 5]\n",
      " [6 3 3]]\n"
     ]
    }
   ],
   "source": [
    "#Crear un array de números aleatorios enteros\n",
    "randomIntArr = np.random.randint(0, 10, (3, 3)) #matriz 3x3 con enteros entre 0 y 10\n",
    "print(f\"Array de enteros aleatorios con np.random.randint:\\n{randomIntArr}\")"
   ]
  },
  {
   "cell_type": "markdown",
   "metadata": {},
   "source": [
    "## Create an array of random numbers with normal distribution\n",
    "\n",
    "- ``np.random.normal(loc, scale, (size))``: Genera una matriz con números aleatorios distribuidos normalmente, con media ``loc`` y desviación estándar ``scale``. ``size`` define la forma de la matriz."
   ]
  },
  {
   "cell_type": "code",
   "execution_count": 15,
   "metadata": {},
   "outputs": [
    {
     "name": "stdout",
     "output_type": "stream",
     "text": [
      "Array con distribución normal con np.random.normal:\n",
      "[[ 0.06254963 -0.88010308  1.09985282]\n",
      " [-0.3366856  -1.13185179  1.93241312]\n",
      " [ 0.60933206 -0.88857287  0.21925543]]\n"
     ]
    }
   ],
   "source": [
    "#Crear un array de números aleatorios con distribución normal\n",
    "normalArr = np.random.normal(0, 1, (3, 3)) #matriz 3x3 con distribución normal (media=0, desviación estándar=1)\n",
    "print(f\"Array con distribución normal con np.random.normal:\\n{normalArr}\")"
   ]
  },
  {
   "cell_type": "markdown",
   "metadata": {},
   "source": [
    "## Create an empty array\n",
    "\n",
    "Una matriz vacía se crea utilizando la función ``np.empty()``. Esta función crea una matriz con la forma especificada, pero sin inicializar sus elementos con ningún valor específico. Los valores iniciales serán basura (valores que ya estaban en memoria en esas posiciones)."
   ]
  },
  {
   "cell_type": "code",
   "execution_count": 16,
   "metadata": {},
   "outputs": [
    {
     "name": "stdout",
     "output_type": "stream",
     "text": [
      "Array vacío con np.empty:\n",
      "[[0.25 0.5 ]\n",
      " [0.75 1.  ]]\n"
     ]
    }
   ],
   "source": [
    "#Crear un array vacío\n",
    "emptyArr = np.empty((2, 2)) #matriz 2x2 sin inicializar\n",
    "print(f\"Array vacío con np.empty:\\n{emptyArr}\")"
   ]
  }
 ],
 "metadata": {
  "kernelspec": {
   "display_name": "Python 3 (ipykernel)",
   "language": "python",
   "name": "python3"
  },
  "language_info": {
   "codemirror_mode": {
    "name": "ipython",
    "version": 3
   },
   "file_extension": ".py",
   "mimetype": "text/x-python",
   "name": "python",
   "nbconvert_exporter": "python",
   "pygments_lexer": "ipython3",
   "version": "3.13.2"
  }
 },
 "nbformat": 4,
 "nbformat_minor": 4
}
