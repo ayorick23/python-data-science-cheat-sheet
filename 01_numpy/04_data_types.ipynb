{
 "cells": [
  {
   "cell_type": "markdown",
   "id": "3b9586d0",
   "metadata": {},
   "source": [
    "# Data Types\n",
    "\n",
    "## Tipos de Datos\n",
    "\n",
    "En **NumPy**, los tipos de datos de un array se refieren al tipo de datos que contiene cada elemento del array. NumPy ofrece una variedad de tipos de datos numéricos, incluyendo enteros, flotantes, complejos y booleanos, cada uno con diferentes precisiones. También existen tipos de datos para cadenas y objetos."
   ]
  },
  {
   "cell_type": "code",
   "execution_count": 1,
   "id": "9b1a7410",
   "metadata": {},
   "outputs": [],
   "source": [
    "import numpy as np"
   ]
  },
  {
   "cell_type": "markdown",
   "id": "5d881c77",
   "metadata": {},
   "source": [
    "### Integers\n",
    "\n",
    "- ``int8``, ``int16``, ``int32``, ``int64``: Enteros con diferentes tamaños de bits (8, 16, 32 y 64 bits respectivamente), determinando el rango de valores que pueden representar.\n",
    "- ``uint8``, ``uint16``, ``uint32``, ``uint64``: Enteros sin signo, también con diferentes tamaños de bits."
   ]
  },
  {
   "cell_type": "code",
   "execution_count": 2,
   "id": "fc0da543",
   "metadata": {},
   "outputs": [
    {
     "data": {
      "text/plain": [
       "(numpy.int8, numpy.int16, numpy.int32, numpy.int64)"
      ]
     },
     "execution_count": 2,
     "metadata": {},
     "output_type": "execute_result"
    }
   ],
   "source": [
    "#Enteros\n",
    "np.int8, np.int16, np.int32, np.int64"
   ]
  },
  {
   "cell_type": "code",
   "execution_count": 3,
   "id": "19e8abbb",
   "metadata": {},
   "outputs": [
    {
     "data": {
      "text/plain": [
       "(numpy.uint8, numpy.uint16, numpy.uint32, numpy.uint64)"
      ]
     },
     "execution_count": 3,
     "metadata": {},
     "output_type": "execute_result"
    }
   ],
   "source": [
    "#Enteros sin signo\n",
    "np.uint8, np.uint16, np.uint32, np.uint64"
   ]
  },
  {
   "cell_type": "markdown",
   "id": "88974317",
   "metadata": {},
   "source": [
    "### Floats\n",
    "\n",
    "- ``float16``, ``float32``, ``float64``: Números reales con diferentes niveles de precisión (16, 32, y 64 bits respectivamente). ``float64`` es el tipo de punto flotante más común."
   ]
  },
  {
   "cell_type": "code",
   "execution_count": 4,
   "id": "4b497a36",
   "metadata": {},
   "outputs": [
    {
     "data": {
      "text/plain": [
       "(numpy.float16, numpy.float32, numpy.float64)"
      ]
     },
     "execution_count": 4,
     "metadata": {},
     "output_type": "execute_result"
    }
   ],
   "source": [
    "#Flotantes\n",
    "np.float16, np.float32, np.float64"
   ]
  },
  {
   "cell_type": "markdown",
   "id": "eae2f70e",
   "metadata": {},
   "source": [
    "### Complex\n",
    "\n",
    "- ``complex64``, ``complex128``: Números complejos con diferentes niveles de precisión (64 y 128 bits respectivamente)."
   ]
  },
  {
   "cell_type": "code",
   "execution_count": 5,
   "id": "251b4bdd",
   "metadata": {},
   "outputs": [
    {
     "data": {
      "text/plain": [
       "(numpy.complex64, numpy.complex128)"
      ]
     },
     "execution_count": 5,
     "metadata": {},
     "output_type": "execute_result"
    }
   ],
   "source": [
    "#Complejos\n",
    "np.complex64, np.complex128"
   ]
  },
  {
   "cell_type": "markdown",
   "id": "b97602dc",
   "metadata": {},
   "source": [
    "### Other types\n",
    "\n",
    "- ``bool_``: Representa valores booleanos (``True`` o ``False``).\n",
    "- ``str_``: Para cadenas de texto.\n",
    "- ``object_``: Puede contener cualquier tipo de objeto Python, no solo datos numéricos."
   ]
  },
  {
   "cell_type": "code",
   "execution_count": 6,
   "id": "640d130c",
   "metadata": {},
   "outputs": [
    {
     "data": {
      "text/plain": [
       "(numpy.bool, numpy.str_, numpy.object_)"
      ]
     },
     "execution_count": 6,
     "metadata": {},
     "output_type": "execute_result"
    }
   ],
   "source": [
    "#Booleanos, cadenas y objetos\n",
    "np.bool, np.str_, np.object_"
   ]
  }
 ],
 "metadata": {
  "kernelspec": {
   "display_name": "Python 3 (ipykernel)",
   "language": "python",
   "name": "python3"
  },
  "language_info": {
   "codemirror_mode": {
    "name": "ipython",
    "version": 3
   },
   "file_extension": ".py",
   "mimetype": "text/x-python",
   "name": "python",
   "nbconvert_exporter": "python",
   "pygments_lexer": "ipython3",
   "version": "3.13.2"
  }
 },
 "nbformat": 4,
 "nbformat_minor": 5
}
