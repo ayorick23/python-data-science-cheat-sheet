{
 "cells": [
  {
   "cell_type": "markdown",
   "id": "2ba3bd42",
   "metadata": {},
   "source": [
    "# Copying and Sorting\n",
    "\n",
    "## Copiar y Ordenar"
   ]
  },
  {
   "cell_type": "markdown",
   "id": "600ba9db",
   "metadata": {},
   "source": [
    "## Copying Arrays\n",
    "\n",
    "Existen diferentes tipos de copias en **NumPy**, la más común es la copia superficial (*shallow copy*) y la copia profunda (*deep copy*).\n",
    "\n",
    "- **Copia superficial (*shallow copy*)**:\n",
    "En este caso, se crea una nueva matriz, pero los elementos son referencias a los objetos de la matriz original. Si los elementos son mutables (por ejemplo, listas), las modificaciones en esos elementos afectarán a ambas matrices.\n",
    "\n",
    "- **Copia profunda (*deep copy*)**:\n",
    "En este caso, se crea una nueva matriz y se copian los datos de la matriz original, creando nuevos objetos para cada elemento. Las modificaciones en la copia profunda no afectarán a la matriz original, ni viceversa."
   ]
  },
  {
   "cell_type": "code",
   "execution_count": 1,
   "id": "1e301712",
   "metadata": {},
   "outputs": [],
   "source": [
    "import numpy as np"
   ]
  },
  {
   "cell_type": "markdown",
   "id": "35757680",
   "metadata": {},
   "source": [
    "### Shallow Copy\n",
    "\n",
    "Una copia superficial de un array, también conocida como *vista*, comparte los datos subyacentes con el array original. Esto significa que cualquier cambio realizado en la copia superficial también se reflejará en el array original, y viceversa. Se crea una copia superficial utilizando la función ``view()`` o asignando el array a una nueva variable."
   ]
  },
  {
   "cell_type": "code",
   "execution_count": 2,
   "id": "6569fa1e",
   "metadata": {},
   "outputs": [
    {
     "name": "stdout",
     "output_type": "stream",
     "text": [
      "[5 2 3]\n"
     ]
    }
   ],
   "source": [
    "#Copia superficial\n",
    "arr1 = np.array([1, 2, 3])\n",
    "copia_superficial = arr1.view()\n",
    "\n",
    "copia_superficial[0] = 5  # Modifica la vista\n",
    "print(arr1)               # El array original también cambia"
   ]
  },
  {
   "cell_type": "markdown",
   "id": "a97c8b11",
   "metadata": {},
   "source": [
    "### Deep Copy\n",
    "\n",
    "Una copia profunda de un array se crea utilizando la función ``np.copy()``. Esta función crea una nueva matriz con datos independientes, lo que significa que las modificaciones en la copia no afectarán a la matriz original, y viceversa."
   ]
  },
  {
   "cell_type": "code",
   "execution_count": 3,
   "id": "b59009bb",
   "metadata": {},
   "outputs": [
    {
     "name": "stdout",
     "output_type": "stream",
     "text": [
      "[1 2 3 4 5]\n"
     ]
    }
   ],
   "source": [
    "#Copia profunda\n",
    "arr2 = np.array([1, 2, 3, 4, 5])\n",
    "copia_profunda = np.copy(arr2)\n",
    "\n",
    "copia_profunda[0] = 10  # Modifica la copia profunda\n",
    "print(arr2)             # El array original no cambia"
   ]
  },
  {
   "cell_type": "markdown",
   "id": "35261f8b",
   "metadata": {},
   "source": [
    "## Sorting Arrays\n",
    "\n",
    "El ordenamiento de arrays se realiza principalmente con la función ``np.sort()``. Esta función permite ordenar arrays en orden ascendente o descendente, y puede aplicarse a arrays unidimensionales y multidimensionales, especificando el eje de ordenación.\n",
    "\n",
    "**NOTA:** Devuelve una nueva matriz ordenada, dejando la matriz original sin cambios y requiere más memoria porque crea una copia de la matriz ordenada."
   ]
  },
  {
   "cell_type": "markdown",
   "id": "2719914d",
   "metadata": {},
   "source": [
    "### Sorting one-dimensional arrays\n",
    "\n",
    "La función ``np.sort()`` ordena los elementos de un array unidimensional en orden ascendente por defecto."
   ]
  },
  {
   "cell_type": "code",
   "execution_count": 4,
   "id": "a89adb14",
   "metadata": {},
   "outputs": [
    {
     "name": "stdout",
     "output_type": "stream",
     "text": [
      "[1 1 2 3 4 5 6 9]\n"
     ]
    }
   ],
   "source": [
    "#Ordenamiento de arrays unidimensionales\n",
    "arr3 = np.array([3, 1, 4, 1, 5, 9, 2, 6])\n",
    "ordenado = np.sort(arr3)\n",
    "print(ordenado)"
   ]
  },
  {
   "cell_type": "code",
   "execution_count": 5,
   "id": "d864d52d",
   "metadata": {},
   "outputs": [
    {
     "name": "stdout",
     "output_type": "stream",
     "text": [
      "[9 6 5 4 3 2 1 1]\n",
      "[3 1 4 1 5 9 2 6]\n"
     ]
    }
   ],
   "source": [
    "#Orden descendente\n",
    "ordenado_descendente = ordenado[::-1]\n",
    "print(ordenado_descendente)\n",
    "print(arr3) # El array original no cambia"
   ]
  },
  {
   "cell_type": "markdown",
   "id": "b5e63421",
   "metadata": {},
   "source": [
    "### Sorting multidimensional arrays\n",
    "\n",
    "``np.sort()`` también puede ordenar arrays multidimensionales. El parámetro ``axis`` especifica el eje a lo largo del cual se realizará la ordenación."
   ]
  },
  {
   "cell_type": "code",
   "execution_count": 6,
   "id": "907e4723",
   "metadata": {},
   "outputs": [
    {
     "name": "stdout",
     "output_type": "stream",
     "text": [
      "[[1 2]\n",
      " [3 4]]\n"
     ]
    }
   ],
   "source": [
    "#Ordenamiento de arrays bidimensionales\n",
    "#Ordenamiento por columnas\n",
    "arr4 = np.array([[3, 2], [1, 4]])\n",
    "ordenado_axis0 = np.sort(arr4, axis=0)\n",
    "print(ordenado_axis0)"
   ]
  },
  {
   "cell_type": "code",
   "execution_count": 7,
   "id": "ec861b53",
   "metadata": {},
   "outputs": [
    {
     "name": "stdout",
     "output_type": "stream",
     "text": [
      "[[2 3]\n",
      " [1 4]]\n"
     ]
    }
   ],
   "source": [
    "#Ordenamiento por filas\n",
    "ordenado_axis1 = np.sort(arr4, axis=1)\n",
    "print(ordenado_axis1)"
   ]
  },
  {
   "cell_type": "markdown",
   "id": "cb8b1bd1",
   "metadata": {},
   "source": [
    "### ``np.ndarray.sort()``\n",
    "\n",
    "Es un método que se llama directamente sobre un objeto ``ndarray``. Realiza la ordenación en el lugar, modificando la matriz original y no devuelve ningún valor (devuelve ``None``). Es más eficiente en términos de memoria cuando se trabaja con matrices grandes, ya que no crea una copia."
   ]
  },
  {
   "cell_type": "code",
   "execution_count": 8,
   "id": "900f366c",
   "metadata": {},
   "outputs": [
    {
     "name": "stdout",
     "output_type": "stream",
     "text": [
      "[1 1 2 3 4 5 6 9]\n"
     ]
    }
   ],
   "source": [
    "#Ordenamiento usando np.ndarray.sort()\n",
    "arr5 = np.array([3, 1, 4, 1, 5, 9, 2, 6])\n",
    "arr5.sort()  # Modifica arr directamente\n",
    "print(arr5)"
   ]
  }
 ],
 "metadata": {
  "kernelspec": {
   "display_name": "Python 3 (ipykernel)",
   "language": "python",
   "name": "python3"
  },
  "language_info": {
   "codemirror_mode": {
    "name": "ipython",
    "version": 3
   },
   "file_extension": ".py",
   "mimetype": "text/x-python",
   "name": "python",
   "nbconvert_exporter": "python",
   "pygments_lexer": "ipython3",
   "version": "3.13.2"
  }
 },
 "nbformat": 4,
 "nbformat_minor": 5
}
