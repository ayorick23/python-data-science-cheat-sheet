{
 "cells": [
  {
   "cell_type": "markdown",
   "metadata": {},
   "source": [
    "# Data Selection\n",
    "\n",
    "## Selección de Datos\n",
    "\n",
    "En **Pandas**, la selección de datos se refiere a la extracción de subconjuntos específicos de datos de un DataFrame. Esto se puede hacer utilizando etiquetas, posiciones o condiciones. Pandas ofrece varios métodos para la selección, incluyendo el uso de corchetes `[]`, `loc`, `iloc`, `at` y `iat`."
   ]
  },
  {
   "cell_type": "code",
   "execution_count": 1,
   "metadata": {},
   "outputs": [],
   "source": [
    "import pandas as pd"
   ]
  },
  {
   "cell_type": "markdown",
   "metadata": {},
   "source": [
    "## Creating a sample dataset"
   ]
  },
  {
   "cell_type": "code",
   "execution_count": 2,
   "metadata": {},
   "outputs": [],
   "source": [
    "#Creando un dataset de ejemplo\n",
    "df = pd.DataFrame({\n",
    "    'nombre': ['Dereck', 'Carlos', 'Alejandra', 'Cristina', 'Elizabeth', 'Henry', 'Sofía', 'Steve'],\n",
    "    'edad': [25, 30, 22, 35, 28, 40, 26, 32],\n",
    "    'ciudad': ['Madrid', 'Barcelona', 'Valencia', 'Sevilla', 'Bilbao', 'Madrid', 'Barcelona', 'Valencia'],\n",
    "    'salario': [35000, 45000, 28000, 55000, 38000, 60000, 32000, 48000],\n",
    "    'departamento': ['IT', 'Ventas', 'Marketing', 'IT', 'RRHH', 'Ventas', 'Marketing', 'IT']\n",
    "})\n",
    "\n",
    "#Establecer índice personalizado para mejor demostraciones con loc\n",
    "df.index = ['emp_001', 'emp_002', 'emp_003', 'emp_004', 'emp_005', 'emp_006', 'emp_007', 'emp_008']"
   ]
  },
  {
   "cell_type": "markdown",
   "metadata": {},
   "source": [
    "## Select a column\n",
    "\n",
    "Aquí el método `head()` muestra las primeras filas de la columna *\"species\"* en el DataFrame."
   ]
  },
  {
   "cell_type": "code",
   "execution_count": 3,
   "metadata": {},
   "outputs": [
    {
     "name": "stdout",
     "output_type": "stream",
     "text": [
      "emp_001       Dereck\n",
      "emp_002       Carlos\n",
      "emp_003    Alejandra\n",
      "emp_004     Cristina\n",
      "emp_005    Elizabeth\n",
      "Name: nombre, dtype: object\n"
     ]
    }
   ],
   "source": [
    "#Seleccionar una columna\n",
    "print(df['nombre'].head())"
   ]
  },
  {
   "cell_type": "markdown",
   "metadata": {},
   "source": [
    "## Select multiple columns"
   ]
  },
  {
   "cell_type": "code",
   "execution_count": 4,
   "metadata": {},
   "outputs": [
    {
     "name": "stdout",
     "output_type": "stream",
     "text": [
      "            nombre departamento\n",
      "emp_001     Dereck           IT\n",
      "emp_002     Carlos       Ventas\n",
      "emp_003  Alejandra    Marketing\n",
      "emp_004   Cristina           IT\n",
      "emp_005  Elizabeth         RRHH\n"
     ]
    }
   ],
   "source": [
    "#Seleccionar varias columnas\n",
    "print(df[['nombre', 'departamento']].head())"
   ]
  },
  {
   "cell_type": "markdown",
   "metadata": {},
   "source": [
    "## `loc`\n",
    "\n",
    "`loc` selecciona los datos utilizando nombres de filas y columnas (etiquetas)."
   ]
  },
  {
   "cell_type": "markdown",
   "metadata": {},
   "source": [
    "### Select rows by index with `loc`\n",
    "\n",
    "Para seleccionar una sola fila, utilizamos la etiqueta de la fila que queremos recuperar, en este caso es `'emp_004'`."
   ]
  },
  {
   "cell_type": "code",
   "execution_count": 5,
   "metadata": {},
   "outputs": [
    {
     "name": "stdout",
     "output_type": "stream",
     "text": [
      "nombre          Cristina\n",
      "edad                  35\n",
      "ciudad           Sevilla\n",
      "salario            55000\n",
      "departamento          IT\n",
      "Name: emp_004, dtype: object\n"
     ]
    }
   ],
   "source": [
    "#Seleccionar filas por índice con loc\n",
    "print(df.loc['emp_004'])"
   ]
  },
  {
   "cell_type": "markdown",
   "metadata": {},
   "source": [
    "### Select multiple rows with `loc`\n",
    "\n",
    "Si queremos seleccionar varias filas que no se siguen necesariamente en orden, tenemos que pasar una lista de sus etiquetas de fila como argumento con una coma entre cada una. Esto significa que tenemos que utilizar no uno, sino dos pares de corchetes: uno para la sintaxis normal de `loc` y otro para la lista de etiquetas."
   ]
  },
  {
   "cell_type": "code",
   "execution_count": 6,
   "metadata": {},
   "outputs": [
    {
     "name": "stdout",
     "output_type": "stream",
     "text": [
      "         nombre  edad     ciudad  salario departamento\n",
      "emp_002  Carlos    30  Barcelona    45000       Ventas\n",
      "emp_008   Steve    32   Valencia    48000           IT\n"
     ]
    }
   ],
   "source": [
    "#Seleccionar varias filas con loc\n",
    "print(df.loc[['emp_002', 'emp_008']])"
   ]
  },
  {
   "cell_type": "markdown",
   "metadata": {},
   "source": [
    "### Select a range of rows with `loc`\n",
    "\n",
    "Podemos seleccionar un rango de filas pasando las etiquetas de la primera y la última fila con dos puntos entre ellas."
   ]
  },
  {
   "cell_type": "code",
   "execution_count": 7,
   "metadata": {},
   "outputs": [
    {
     "name": "stdout",
     "output_type": "stream",
     "text": [
      "            nombre  edad     ciudad  salario departamento\n",
      "emp_002     Carlos    30  Barcelona    45000       Ventas\n",
      "emp_003  Alejandra    22   Valencia    28000    Marketing\n",
      "emp_004   Cristina    35    Sevilla    55000           IT\n",
      "emp_005  Elizabeth    28     Bilbao    38000         RRHH\n",
      "emp_006      Henry    40     Madrid    60000       Ventas\n",
      "emp_007      Sofía    26  Barcelona    32000    Marketing\n"
     ]
    }
   ],
   "source": [
    "#Seleccionar un rango de filas con loc\n",
    "print(df.loc['emp_002':'emp_007'])"
   ]
  },
  {
   "cell_type": "markdown",
   "metadata": {},
   "source": [
    "### Select specific rows and columns with `loc`\n",
    "\n",
    "Para hacer una selección combinada de filas y columnas se coloca primero el rango de filas seguido por el rango de columnas."
   ]
  },
  {
   "cell_type": "code",
   "execution_count": 8,
   "metadata": {},
   "outputs": [
    {
     "name": "stdout",
     "output_type": "stream",
     "text": [
      "            nombre  edad     ciudad\n",
      "emp_002     Carlos    30  Barcelona\n",
      "emp_003  Alejandra    22   Valencia\n",
      "emp_004   Cristina    35    Sevilla\n",
      "emp_005  Elizabeth    28     Bilbao\n"
     ]
    }
   ],
   "source": [
    "#Seleccionar filas y columnas específicas con loc\n",
    "print(df.loc['emp_002':'emp_005', 'nombre':'ciudad'])"
   ]
  },
  {
   "cell_type": "markdown",
   "metadata": {},
   "source": [
    "## `iloc`\n",
    "\n",
    "`iloc` selecciona los datos por posición (*índice entero*) en lugar de por etiqueta."
   ]
  },
  {
   "cell_type": "markdown",
   "metadata": {},
   "source": [
    "### Select rows by index with `iloc`\n",
    "\n",
    "Se puede seleccionar una fila utilizando el número entero que representa el número de índice de la fila. No necesitamos comillas ya que estamos introduciendo un número entero y no una cadena de etiquetas como hicimos con `loc`."
   ]
  },
  {
   "cell_type": "code",
   "execution_count": 9,
   "metadata": {},
   "outputs": [
    {
     "name": "stdout",
     "output_type": "stream",
     "text": [
      "nombre          Dereck\n",
      "edad                25\n",
      "ciudad          Madrid\n",
      "salario          35000\n",
      "departamento        IT\n",
      "Name: emp_001, dtype: object\n"
     ]
    }
   ],
   "source": [
    "#Seleccionar filas por posición con iloc\n",
    "print(df.iloc[0])"
   ]
  },
  {
   "cell_type": "markdown",
   "metadata": {},
   "source": [
    "### Select multiple rows with `iloc`\n",
    "\n",
    "La selección de varias filas funciona en `iloc` como en `.loc`; introducimos los números enteros del índice de fila en una lista con corchetes."
   ]
  },
  {
   "cell_type": "code",
   "execution_count": 10,
   "metadata": {},
   "outputs": [
    {
     "name": "stdout",
     "output_type": "stream",
     "text": [
      "           nombre  edad     ciudad  salario departamento\n",
      "emp_002    Carlos    30  Barcelona    45000       Ventas\n",
      "emp_004  Cristina    35    Sevilla    55000           IT\n",
      "emp_006     Henry    40     Madrid    60000       Ventas\n"
     ]
    }
   ],
   "source": [
    "#Seleccionar varias filas con iloc\n",
    "print(df.iloc[[1, 3, 5]])"
   ]
  },
  {
   "cell_type": "markdown",
   "metadata": {},
   "source": [
    "### Select a range of rows with `iloc`\n",
    "\n",
    "Para seleccionar un rango de filas, utilizamos dos puntos entre dos enteros de índice de fila especificados."
   ]
  },
  {
   "cell_type": "code",
   "execution_count": 11,
   "metadata": {},
   "outputs": [
    {
     "name": "stdout",
     "output_type": "stream",
     "text": [
      "            nombre  edad     ciudad  salario departamento\n",
      "emp_002     Carlos    30  Barcelona    45000       Ventas\n",
      "emp_003  Alejandra    22   Valencia    28000    Marketing\n",
      "emp_004   Cristina    35    Sevilla    55000           IT\n"
     ]
    }
   ],
   "source": [
    "#Seleccionar un rango de filas con iloc\n",
    "print(df.iloc[1:4])"
   ]
  },
  {
   "cell_type": "markdown",
   "metadata": {},
   "source": [
    "**NOTA:** `iloc` no es inclusivo para la selección de trozos, nuestra salida incluirá todas las filas hasta la última antes de ésta. Por lo tanto, devuelve solo la segunda, tercer y cuarta fila."
   ]
  },
  {
   "cell_type": "markdown",
   "metadata": {},
   "source": [
    "### Select specific rows and columns with `iloc`\n",
    "\n",
    "Se maneja igual que con `loc`. Se colocan los rangos de las filas y luego los rangos de las columnas."
   ]
  },
  {
   "cell_type": "code",
   "execution_count": 12,
   "metadata": {},
   "outputs": [
    {
     "name": "stdout",
     "output_type": "stream",
     "text": [
      "         edad     ciudad  salario\n",
      "emp_001    25     Madrid    35000\n",
      "emp_002    30  Barcelona    45000\n",
      "emp_003    22   Valencia    28000\n",
      "emp_004    35    Sevilla    55000\n",
      "emp_005    28     Bilbao    38000\n"
     ]
    }
   ],
   "source": [
    "#Seleccionar filas y columnas con iloc\n",
    "print(df.iloc[0:5, 1:-1]) #primeras 5 filas, desde la segunda hasta la penúltima columna"
   ]
  },
  {
   "cell_type": "markdown",
   "metadata": {},
   "source": [
    "## `at`\n",
    "\n",
    "`at` se utiliza para acceder a un único valor en un DataFrame utilizando etiquetas de fila y columna. Es similar a `loc`, pero está optimizado para acceder a un solo valor y, por lo tanto, es más rápido."
   ]
  },
  {
   "cell_type": "code",
   "execution_count": 13,
   "metadata": {},
   "outputs": [
    {
     "name": "stdout",
     "output_type": "stream",
     "text": [
      "Dereck\n"
     ]
    }
   ],
   "source": [
    "#Seleccionar un valor específico con at (mas rápido para un solo valor)\n",
    "print(df.at['emp_001', 'nombre'])"
   ]
  },
  {
   "cell_type": "markdown",
   "metadata": {},
   "source": [
    "## `iat`\n",
    "\n",
    "`iat` es un atributo que se utiliza para acceder a un valor escalar en un DataFrame por su posición entera (*índice*). Es similar a `iloc`, pero `iat` está optimizado para acceder a un solo valor y es más rápido que `iloc` en esos casos."
   ]
  },
  {
   "cell_type": "code",
   "execution_count": 14,
   "metadata": {},
   "outputs": [
    {
     "name": "stdout",
     "output_type": "stream",
     "text": [
      "IT\n"
     ]
    }
   ],
   "source": [
    "#Seleccionar un valor específico con iat (mas rápido para un solo valor)\n",
    "print(df.iat[0, -1])"
   ]
  }
 ],
 "metadata": {
  "kernelspec": {
   "display_name": "Python 3 (ipykernel)",
   "language": "python",
   "name": "python3"
  },
  "language_info": {
   "codemirror_mode": {
    "name": "ipython",
    "version": 3
   },
   "file_extension": ".py",
   "mimetype": "text/x-python",
   "name": "python",
   "nbconvert_exporter": "python",
   "pygments_lexer": "ipython3",
   "version": "3.13.2"
  }
 },
 "nbformat": 4,
 "nbformat_minor": 4
}
