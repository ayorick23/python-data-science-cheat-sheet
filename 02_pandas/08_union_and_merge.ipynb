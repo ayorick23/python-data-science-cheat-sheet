{
 "cells": [
  {
   "cell_type": "markdown",
   "metadata": {},
   "source": [
    "# Union and Merge"
   ]
  },
  {
   "cell_type": "code",
   "execution_count": 1,
   "metadata": {},
   "outputs": [],
   "source": [
    "import pandas as pd"
   ]
  },
  {
   "cell_type": "markdown",
   "metadata": {},
   "source": [
    "## Example data"
   ]
  },
  {
   "cell_type": "code",
   "execution_count": 2,
   "metadata": {},
   "outputs": [],
   "source": [
    "#Datos de ejemplo\n",
    "df1 = pd.DataFrame({\"ID\": [1, 2, 3], \"Name\": [\"Dereck\", \"Ale\", \"Cris\"], \"Age\": [25, 28, 42]})\n",
    "df2 = pd.DataFrame({\"ID\": [1, 2, 3], \"Name\": [\"Henry\", \"Guadalupe\", \"Eli\"], \"Age\": [23, 27, 36]})"
   ]
  },
  {
   "cell_type": "markdown",
   "metadata": {},
   "source": [
    "## Concatenating DataFrames (vertical join)"
   ]
  },
  {
   "cell_type": "code",
   "execution_count": 3,
   "metadata": {},
   "outputs": [
    {
     "name": "stdout",
     "output_type": "stream",
     "text": [
      "   ID       Name  Age\n",
      "0   1     Dereck   25\n",
      "1   2        Ale   28\n",
      "2   3       Cris   42\n",
      "3   1      Henry   23\n",
      "4   2  Guadalupe   27\n",
      "5   3        Eli   36\n"
     ]
    }
   ],
   "source": [
    "#Concatenación de DataFrames (unión vertical)\n",
    "print(pd.concat([df1, df2], ignore_index=True))"
   ]
  },
  {
   "cell_type": "markdown",
   "metadata": {},
   "source": [
    "## Concatenating DataFrames (horizontal join)"
   ]
  },
  {
   "cell_type": "code",
   "execution_count": 4,
   "metadata": {},
   "outputs": [
    {
     "name": "stdout",
     "output_type": "stream",
     "text": [
      "   ID    Name  Age  ID  Salary\n",
      "0   1  Dereck   25   1    1000\n",
      "1   2     Ale   28   2    2000\n",
      "2   3    Cris   42   3    3000\n"
     ]
    }
   ],
   "source": [
    "df3 = pd.DataFrame({\"ID\": [1, 2, 3], \"Salary\": [1000, 2000, 3000]})\n",
    "\n",
    "#Concatenación de DataFrames (unión horizontal)\n",
    "print(pd.concat([df1, df3], axis=1))"
   ]
  },
  {
   "cell_type": "markdown",
   "metadata": {},
   "source": [
    "## Merge (join by common key, similar to JOIN in SQL)"
   ]
  },
  {
   "cell_type": "code",
   "execution_count": 5,
   "metadata": {},
   "outputs": [
    {
     "name": "stdout",
     "output_type": "stream",
     "text": [
      "   ID  Name_x  Age_x     Name_y  Age_y\n",
      "0   1  Dereck     25      Henry     23\n",
      "1   2     Ale     28  Guadalupe     27\n",
      "2   3    Cris     42        Eli     36\n"
     ]
    }
   ],
   "source": [
    "#Merge (combinación por clave común, similar a JOIN en SQL)\n",
    "print(pd.merge(df1, df2, on=\"ID\", how=\"inner\"))"
   ]
  },
  {
   "cell_type": "markdown",
   "metadata": {},
   "source": [
    "## Merge with left join"
   ]
  },
  {
   "cell_type": "code",
   "execution_count": 6,
   "metadata": {},
   "outputs": [
    {
     "name": "stdout",
     "output_type": "stream",
     "text": [
      "   ID  Name_x  Age_x     Name_y  Age_y\n",
      "0   1  Dereck     25      Henry     23\n",
      "1   2     Ale     28  Guadalupe     27\n",
      "2   3    Cris     42        Eli     36\n"
     ]
    }
   ],
   "source": [
    "#Merge con left join\n",
    "print(pd.merge(df1, df2, on=\"ID\", how=\"left\"))"
   ]
  },
  {
   "cell_type": "markdown",
   "metadata": {},
   "source": [
    "## Merge with right join"
   ]
  },
  {
   "cell_type": "code",
   "execution_count": 7,
   "metadata": {},
   "outputs": [
    {
     "name": "stdout",
     "output_type": "stream",
     "text": [
      "   ID  Name_x  Age_x     Name_y  Age_y\n",
      "0   1  Dereck     25      Henry     23\n",
      "1   2     Ale     28  Guadalupe     27\n",
      "2   3    Cris     42        Eli     36\n"
     ]
    }
   ],
   "source": [
    "#Merge con right join\n",
    "print(pd.merge(df1, df2, on=\"ID\", how=\"right\"))"
   ]
  },
  {
   "cell_type": "markdown",
   "metadata": {},
   "source": [
    "## Merge with outer join"
   ]
  },
  {
   "cell_type": "code",
   "execution_count": 8,
   "metadata": {},
   "outputs": [
    {
     "name": "stdout",
     "output_type": "stream",
     "text": [
      "   ID  Name_x  Age_x     Name_y  Age_y\n",
      "0   1  Dereck     25      Henry     23\n",
      "1   2     Ale     28  Guadalupe     27\n",
      "2   3    Cris     42        Eli     36\n"
     ]
    }
   ],
   "source": [
    "#Merge con outer join\n",
    "print(pd.merge(df1, df2, on=\"ID\", how=\"outer\"))"
   ]
  }
 ],
 "metadata": {
  "kernelspec": {
   "display_name": "Python 3 (ipykernel)",
   "language": "python",
   "name": "python3"
  },
  "language_info": {
   "codemirror_mode": {
    "name": "ipython",
    "version": 3
   },
   "file_extension": ".py",
   "mimetype": "text/x-python",
   "name": "python",
   "nbconvert_exporter": "python",
   "pygments_lexer": "ipython3",
   "version": "3.13.2"
  }
 },
 "nbformat": 4,
 "nbformat_minor": 4
}
