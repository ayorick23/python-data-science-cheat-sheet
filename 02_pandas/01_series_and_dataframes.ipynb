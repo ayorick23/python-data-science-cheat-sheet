{
 "cells": [
  {
   "cell_type": "markdown",
   "metadata": {},
   "source": [
    "# <img width=\"35\" height=\"35\" src=\"https://img.icons8.com/?size=100&id=xSkewUSqtErH&format=png&color=000000\" alt=\"pandas\"> Introduction to Pandas\n",
    "\n",
    "## Introducción a Pandas\n",
    "\n",
    "**Pandas** es una de las librerías más utilizadas en Python para la manipulación y análisis de datos. Proporciona estructuras de datos rápidas, flexibles y expresivas diseñadas para trabajar con datos etiquetados (tablas, series temporales, etc.).\n"
   ]
  },
  {
   "cell_type": "markdown",
   "metadata": {},
   "source": [
    "# Series and DataFrames"
   ]
  },
  {
   "cell_type": "markdown",
   "metadata": {},
   "source": [
    "## Import Pandas"
   ]
  },
  {
   "cell_type": "code",
   "execution_count": 1,
   "metadata": {},
   "outputs": [],
   "source": [
    "import pandas as pd"
   ]
  },
  {
   "cell_type": "markdown",
   "metadata": {},
   "source": [
    "## Check Pandas version\n",
    "\n",
    "Antes de comenzar, es buena práctica verificar la versión instalada de `pandas`, especialmente para asegurar la compatibilidad de funciones:"
   ]
  },
  {
   "cell_type": "code",
   "execution_count": 2,
   "metadata": {},
   "outputs": [
    {
     "name": "stdout",
     "output_type": "stream",
     "text": [
      "Version de Pandas: 2.2.3\n"
     ]
    }
   ],
   "source": [
    "#Verificar la versión de Pandas\n",
    "print(\"Version de Pandas:\", pd.__version__)"
   ]
  },
  {
   "cell_type": "markdown",
   "metadata": {},
   "source": [
    "## Creating a Series\n",
    "\n",
    "Una Serie es una estructura unidimensional similar a un array o lista, pero con etiquetas (_índices_)."
   ]
  },
  {
   "cell_type": "code",
   "execution_count": 3,
   "metadata": {},
   "outputs": [
    {
     "name": "stdout",
     "output_type": "stream",
     "text": [
      "0    10\n",
      "1    20\n",
      "2    30\n",
      "3    40\n",
      "4    50\n",
      "dtype: int64\n"
     ]
    }
   ],
   "source": [
    "#Creación de una Serie\n",
    "data = [10, 20, 30, 40, 50]\n",
    "serie = pd.Series(data)\n",
    "print(serie)"
   ]
  },
  {
   "cell_type": "markdown",
   "metadata": {},
   "source": [
    "Esto crea una serie con índices predeterminados (0, 1, 2, ...)."
   ]
  },
  {
   "cell_type": "markdown",
   "metadata": {},
   "source": [
    "## Creating a Series with custom indexes\n",
    "\n",
    "Puedes definir tus propios índices para mayor control o legibilidad:"
   ]
  },
  {
   "cell_type": "code",
   "execution_count": 4,
   "metadata": {},
   "outputs": [
    {
     "name": "stdout",
     "output_type": "stream",
     "text": [
      "a    10\n",
      "b    20\n",
      "c    30\n",
      "d    40\n",
      "e    50\n",
      "dtype: int64\n"
     ]
    }
   ],
   "source": [
    "#Creación de Series con índices personalizados\n",
    "customSerie = pd.Series(data, index=['a', 'b', 'c', 'd', 'e'])\n",
    "print(customSerie)"
   ]
  },
  {
   "cell_type": "markdown",
   "metadata": {},
   "source": [
    "Esto es útil cuando quieres que cada elemento tenga una etiqueta significativa."
   ]
  },
  {
   "cell_type": "markdown",
   "metadata": {},
   "source": [
    "## Accessing values of a Series\n",
    "\n",
    "Puedes acceder a los valores utilizando el índice como si fuera un diccionario o una lista:"
   ]
  },
  {
   "cell_type": "code",
   "execution_count": 5,
   "metadata": {},
   "outputs": [
    {
     "name": "stdout",
     "output_type": "stream",
     "text": [
      "Valor en índice 'c': 30\n",
      "Valor en posición 1 : 20\n"
     ]
    },
    {
     "name": "stderr",
     "output_type": "stream",
     "text": [
      "C:\\Users\\Dereck\\AppData\\Local\\Temp\\ipykernel_22128\\4125903670.py:3: FutureWarning: Series.__getitem__ treating keys as positions is deprecated. In a future version, integer keys will always be treated as labels (consistent with DataFrame behavior). To access a value by position, use `ser.iloc[pos]`\n",
      "  print(f\"Valor en posición 1 : {customSerie[1]}\")  # Acceso por posición\n"
     ]
    }
   ],
   "source": [
    "#Acceder a valores de una Serie\n",
    "print(f\"Valor en índice 'c': {customSerie['c']}\") # Acceso por etiqueta\n",
    "print(f\"Valor en posición 1 : {customSerie[1]}\")  # Acceso por posición"
   ]
  },
  {
   "cell_type": "markdown",
   "metadata": {},
   "source": [
    "## Creating a DataFrame\n",
    "\n",
    "Un DataFrame es una estructura bidimensional (*tabla*), similar a una hoja de cálculo o a una tabla SQL."
   ]
  },
  {
   "cell_type": "code",
   "execution_count": 6,
   "metadata": {},
   "outputs": [
    {
     "name": "stdout",
     "output_type": "stream",
     "text": [
      "      Nombre  Edad     Ciudad\n",
      "0  Alejandra    25  Barcelona\n",
      "1     Carlos    30     Madrid\n",
      "2      Henry    35   Valencia\n",
      "3   Cristian    40    Sevilla\n"
     ]
    }
   ],
   "source": [
    "#Creación de un DataFrame\n",
    "datos = {\n",
    "    'Nombre': ['Alejandra', 'Carlos', 'Henry', 'Cristian'],\n",
    "    'Edad': [25, 30, 35, 40],\n",
    "    'Ciudad': ['Barcelona', 'Madrid', 'Valencia', 'Sevilla']\n",
    "}\n",
    "df = pd.DataFrame(datos)\n",
    "print(df)"
   ]
  },
  {
   "cell_type": "markdown",
   "metadata": {},
   "source": [
    "## Access a DataFrame column"
   ]
  },
  {
   "cell_type": "code",
   "execution_count": 7,
   "metadata": {},
   "outputs": [
    {
     "name": "stdout",
     "output_type": "stream",
     "text": [
      "0    Alejandra\n",
      "1       Carlos\n",
      "2        Henry\n",
      "3     Cristian\n",
      "Name: Nombre, dtype: object\n",
      "      Nombre\n",
      "0  Alejandra\n",
      "1     Carlos\n",
      "2      Henry\n",
      "3   Cristian\n",
      "<class 'pandas.core.series.Series'>\n",
      "<class 'pandas.core.frame.DataFrame'>\n"
     ]
    }
   ],
   "source": [
    "#Acceder a una columna del DataFrame\n",
    "print(df['Nombre'])         # Devuelve una Serie\n",
    "print(df[['Nombre']])       # Devuelve un DataFrame\n",
    "print(type(df['Nombre']))\n",
    "print(type(df[['Nombre']]))"
   ]
  },
  {
   "cell_type": "markdown",
   "metadata": {},
   "source": [
    "## Access a DataFrame row\n",
    "\n",
    "### Por índice entero con `iloc[]`"
   ]
  },
  {
   "cell_type": "code",
   "execution_count": 8,
   "metadata": {},
   "outputs": [
    {
     "name": "stdout",
     "output_type": "stream",
     "text": [
      "Nombre    Carlos\n",
      "Edad          30\n",
      "Ciudad    Madrid\n",
      "Name: 1, dtype: object\n"
     ]
    }
   ],
   "source": [
    "#Acceder a una fila del DataFrame\n",
    "print(df.iloc[1]) # Segunda fila"
   ]
  },
  {
   "cell_type": "markdown",
   "metadata": {},
   "source": [
    "### Por etiqueta con `loc[]`\n",
    "\n",
    "Si defines un índice personalizado:"
   ]
  },
  {
   "cell_type": "code",
   "execution_count": 9,
   "metadata": {},
   "outputs": [
    {
     "name": "stdout",
     "output_type": "stream",
     "text": [
      "Nombre    Carlos\n",
      "Edad          30\n",
      "Ciudad    Madrid\n",
      "Name: b, dtype: object\n"
     ]
    }
   ],
   "source": [
    "df = pd.DataFrame(datos, index=['a', 'b', 'c', 'd'])\n",
    "print(df.loc['b'])  # Fila con índice 'b'"
   ]
  },
  {
   "cell_type": "markdown",
   "metadata": {},
   "source": [
    "## Access a specific cell\n",
    "\n",
    "Combinando `loc[]` o `iloc[]` con nombres de columnas:"
   ]
  },
  {
   "cell_type": "code",
   "execution_count": 10,
   "metadata": {},
   "outputs": [
    {
     "name": "stdout",
     "output_type": "stream",
     "text": [
      "30\n",
      "30\n"
     ]
    }
   ],
   "source": [
    "#Acceder a una celda específica\n",
    "print(df.loc['b', 'Edad'])  # Edad de la persona con índice 'b'\n",
    "print(df.iloc[1, 1])        # Segunda fila, segunda columna"
   ]
  },
  {
   "cell_type": "markdown",
   "metadata": {},
   "source": [
    "Utilizando `at[]` para acceder y modificar un único valor en un DataFrame utilizando etiquetas de fila y columna. Es similar a `loc[]`, pero está optimizado para acceder a un solo valor, lo que puede resultar en un mejor rendimiento en esos casos. "
   ]
  },
  {
   "cell_type": "code",
   "execution_count": 11,
   "metadata": {},
   "outputs": [
    {
     "name": "stdout",
     "output_type": "stream",
     "text": [
      "Edad de la tercera persona: 35\n"
     ]
    }
   ],
   "source": [
    "print(f\"Edad de la tercera persona: {df.at['c', 'Edad']}\")"
   ]
  }
 ],
 "metadata": {
  "kernelspec": {
   "display_name": "Python 3 (ipykernel)",
   "language": "python",
   "name": "python3"
  },
  "language_info": {
   "codemirror_mode": {
    "name": "ipython",
    "version": 3
   },
   "file_extension": ".py",
   "mimetype": "text/x-python",
   "name": "python",
   "nbconvert_exporter": "python",
   "pygments_lexer": "ipython3",
   "version": "3.13.2"
  }
 },
 "nbformat": 4,
 "nbformat_minor": 4
}
