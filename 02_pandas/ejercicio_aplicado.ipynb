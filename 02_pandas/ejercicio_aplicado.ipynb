{
 "cells": [
  {
   "cell_type": "markdown",
   "id": "865b8475",
   "metadata": {},
   "source": [
    "# Ejercicio con Pandas – Análisis de Asistencia y Desempeño de Personal"
   ]
  },
  {
   "cell_type": "markdown",
   "id": "19d486d2",
   "metadata": {},
   "source": [
    "### Objetivo:\n",
    "\n",
    "Simular un análisis del comportamiento de asistencia, desempeño y carga laboral del personal para detectar problemas en la operación diaria y proponer mejoras en la gestión del talento."
   ]
  },
  {
   "cell_type": "markdown",
   "id": "9c2ebcb5",
   "metadata": {},
   "source": [
    "### Contexto:\n",
    "\n",
    "Eres analista en el área de Formación y Desarrollo de Personal de una empresa con más de 100 colaboradores en sucursales. Te han pedido un informe que cruce la **asistencia**, el **rendimiento** y la **asignación de tareas** del personal para mejorar la **eficiencia operativa** y prevenir la **rotación de talento**.\n",
    "\n",
    "Descarga el archivo ``empleados.csv``."
   ]
  },
  {
   "cell_type": "markdown",
   "id": "308b082d",
   "metadata": {},
   "source": [
    "### Actividades:"
   ]
  },
  {
   "cell_type": "markdown",
   "id": "e0da7237",
   "metadata": {},
   "source": [
    "**1. Carga y exploración inicial:**\n",
    "\n",
    "- Lee el archivo ``empleados.csv``.\n",
    "- Muestra los primeros registros, tipos de datos y estadísticos básicos."
   ]
  },
  {
   "cell_type": "code",
   "execution_count": 17,
   "id": "e9bfb53b",
   "metadata": {},
   "outputs": [],
   "source": [
    "import pandas as pd\n",
    "\n",
    "df = pd.read_csv('empleados.csv')"
   ]
  },
  {
   "cell_type": "code",
   "execution_count": 18,
   "id": "cded9ad6",
   "metadata": {},
   "outputs": [
    {
     "data": {
      "text/html": [
       "<div>\n",
       "<style scoped>\n",
       "    .dataframe tbody tr th:only-of-type {\n",
       "        vertical-align: middle;\n",
       "    }\n",
       "\n",
       "    .dataframe tbody tr th {\n",
       "        vertical-align: top;\n",
       "    }\n",
       "\n",
       "    .dataframe thead th {\n",
       "        text-align: right;\n",
       "    }\n",
       "</style>\n",
       "<table border=\"1\" class=\"dataframe\">\n",
       "  <thead>\n",
       "    <tr style=\"text-align: right;\">\n",
       "      <th></th>\n",
       "      <th>id_empleado</th>\n",
       "      <th>nombre</th>\n",
       "      <th>departamento</th>\n",
       "      <th>sucursal</th>\n",
       "      <th>dias_trabajados</th>\n",
       "      <th>tareas_asignadas</th>\n",
       "      <th>tareas_completadas</th>\n",
       "      <th>puntualidad_promedio</th>\n",
       "      <th>calificacion_desempeno</th>\n",
       "    </tr>\n",
       "  </thead>\n",
       "  <tbody>\n",
       "    <tr>\n",
       "      <th>0</th>\n",
       "      <td>101</td>\n",
       "      <td>Empleado 1</td>\n",
       "      <td>Logística</td>\n",
       "      <td>Sucursal C</td>\n",
       "      <td>21</td>\n",
       "      <td>18</td>\n",
       "      <td>2</td>\n",
       "      <td>88.7</td>\n",
       "      <td>3.8</td>\n",
       "    </tr>\n",
       "    <tr>\n",
       "      <th>1</th>\n",
       "      <td>102</td>\n",
       "      <td>Empleado 2</td>\n",
       "      <td>Caja</td>\n",
       "      <td>Sucursal B</td>\n",
       "      <td>8</td>\n",
       "      <td>33</td>\n",
       "      <td>13</td>\n",
       "      <td>78.9</td>\n",
       "      <td>1.6</td>\n",
       "    </tr>\n",
       "    <tr>\n",
       "      <th>2</th>\n",
       "      <td>103</td>\n",
       "      <td>Empleado 3</td>\n",
       "      <td>RRHH</td>\n",
       "      <td>Sucursal B</td>\n",
       "      <td>22</td>\n",
       "      <td>10</td>\n",
       "      <td>2</td>\n",
       "      <td>73.2</td>\n",
       "      <td>5.0</td>\n",
       "    </tr>\n",
       "    <tr>\n",
       "      <th>3</th>\n",
       "      <td>104</td>\n",
       "      <td>Empleado 4</td>\n",
       "      <td>Caja</td>\n",
       "      <td>Sucursal C</td>\n",
       "      <td>12</td>\n",
       "      <td>17</td>\n",
       "      <td>0</td>\n",
       "      <td>83.7</td>\n",
       "      <td>2.1</td>\n",
       "    </tr>\n",
       "    <tr>\n",
       "      <th>4</th>\n",
       "      <td>105</td>\n",
       "      <td>Empleado 5</td>\n",
       "      <td>Caja</td>\n",
       "      <td>Sucursal B</td>\n",
       "      <td>8</td>\n",
       "      <td>33</td>\n",
       "      <td>4</td>\n",
       "      <td>76.6</td>\n",
       "      <td>4.9</td>\n",
       "    </tr>\n",
       "  </tbody>\n",
       "</table>\n",
       "</div>"
      ],
      "text/plain": [
       "   id_empleado      nombre departamento    sucursal  dias_trabajados  \\\n",
       "0          101  Empleado 1    Logística  Sucursal C               21   \n",
       "1          102  Empleado 2         Caja  Sucursal B                8   \n",
       "2          103  Empleado 3         RRHH  Sucursal B               22   \n",
       "3          104  Empleado 4         Caja  Sucursal C               12   \n",
       "4          105  Empleado 5         Caja  Sucursal B                8   \n",
       "\n",
       "   tareas_asignadas  tareas_completadas  puntualidad_promedio  \\\n",
       "0                18                   2                  88.7   \n",
       "1                33                  13                  78.9   \n",
       "2                10                   2                  73.2   \n",
       "3                17                   0                  83.7   \n",
       "4                33                   4                  76.6   \n",
       "\n",
       "   calificacion_desempeno  \n",
       "0                     3.8  \n",
       "1                     1.6  \n",
       "2                     5.0  \n",
       "3                     2.1  \n",
       "4                     4.9  "
      ]
     },
     "execution_count": 18,
     "metadata": {},
     "output_type": "execute_result"
    }
   ],
   "source": [
    "df.head()"
   ]
  },
  {
   "cell_type": "code",
   "execution_count": 19,
   "id": "2c330e20",
   "metadata": {},
   "outputs": [
    {
     "data": {
      "text/plain": [
       "id_empleado                 int64\n",
       "nombre                     object\n",
       "departamento               object\n",
       "sucursal                   object\n",
       "dias_trabajados             int64\n",
       "tareas_asignadas            int64\n",
       "tareas_completadas          int64\n",
       "puntualidad_promedio      float64\n",
       "calificacion_desempeno    float64\n",
       "dtype: object"
      ]
     },
     "execution_count": 19,
     "metadata": {},
     "output_type": "execute_result"
    }
   ],
   "source": [
    "df.dtypes"
   ]
  },
  {
   "cell_type": "code",
   "execution_count": 20,
   "id": "f537e1d5",
   "metadata": {},
   "outputs": [
    {
     "data": {
      "text/html": [
       "<div>\n",
       "<style scoped>\n",
       "    .dataframe tbody tr th:only-of-type {\n",
       "        vertical-align: middle;\n",
       "    }\n",
       "\n",
       "    .dataframe tbody tr th {\n",
       "        vertical-align: top;\n",
       "    }\n",
       "\n",
       "    .dataframe thead th {\n",
       "        text-align: right;\n",
       "    }\n",
       "</style>\n",
       "<table border=\"1\" class=\"dataframe\">\n",
       "  <thead>\n",
       "    <tr style=\"text-align: right;\">\n",
       "      <th></th>\n",
       "      <th>id_empleado</th>\n",
       "      <th>dias_trabajados</th>\n",
       "      <th>tareas_asignadas</th>\n",
       "      <th>tareas_completadas</th>\n",
       "      <th>puntualidad_promedio</th>\n",
       "      <th>calificacion_desempeno</th>\n",
       "    </tr>\n",
       "  </thead>\n",
       "  <tbody>\n",
       "    <tr>\n",
       "      <th>count</th>\n",
       "      <td>30.000000</td>\n",
       "      <td>30.000000</td>\n",
       "      <td>30.000000</td>\n",
       "      <td>30.000000</td>\n",
       "      <td>30.000000</td>\n",
       "      <td>30.000000</td>\n",
       "    </tr>\n",
       "    <tr>\n",
       "      <th>mean</th>\n",
       "      <td>115.500000</td>\n",
       "      <td>14.466667</td>\n",
       "      <td>31.166667</td>\n",
       "      <td>15.566667</td>\n",
       "      <td>81.283333</td>\n",
       "      <td>3.096667</td>\n",
       "    </tr>\n",
       "    <tr>\n",
       "      <th>std</th>\n",
       "      <td>8.803408</td>\n",
       "      <td>5.367420</td>\n",
       "      <td>13.001547</td>\n",
       "      <td>12.672760</td>\n",
       "      <td>6.945506</td>\n",
       "      <td>1.102500</td>\n",
       "    </tr>\n",
       "    <tr>\n",
       "      <th>min</th>\n",
       "      <td>101.000000</td>\n",
       "      <td>5.000000</td>\n",
       "      <td>10.000000</td>\n",
       "      <td>0.000000</td>\n",
       "      <td>70.000000</td>\n",
       "      <td>1.100000</td>\n",
       "    </tr>\n",
       "    <tr>\n",
       "      <th>25%</th>\n",
       "      <td>108.250000</td>\n",
       "      <td>10.250000</td>\n",
       "      <td>18.000000</td>\n",
       "      <td>6.000000</td>\n",
       "      <td>76.775000</td>\n",
       "      <td>2.325000</td>\n",
       "    </tr>\n",
       "    <tr>\n",
       "      <th>50%</th>\n",
       "      <td>115.500000</td>\n",
       "      <td>15.000000</td>\n",
       "      <td>33.000000</td>\n",
       "      <td>13.000000</td>\n",
       "      <td>79.400000</td>\n",
       "      <td>3.050000</td>\n",
       "    </tr>\n",
       "    <tr>\n",
       "      <th>75%</th>\n",
       "      <td>122.750000</td>\n",
       "      <td>19.000000</td>\n",
       "      <td>43.750000</td>\n",
       "      <td>24.250000</td>\n",
       "      <td>85.625000</td>\n",
       "      <td>3.800000</td>\n",
       "    </tr>\n",
       "    <tr>\n",
       "      <th>max</th>\n",
       "      <td>130.000000</td>\n",
       "      <td>22.000000</td>\n",
       "      <td>50.000000</td>\n",
       "      <td>50.000000</td>\n",
       "      <td>97.200000</td>\n",
       "      <td>5.000000</td>\n",
       "    </tr>\n",
       "  </tbody>\n",
       "</table>\n",
       "</div>"
      ],
      "text/plain": [
       "       id_empleado  dias_trabajados  tareas_asignadas  tareas_completadas  \\\n",
       "count    30.000000        30.000000         30.000000           30.000000   \n",
       "mean    115.500000        14.466667         31.166667           15.566667   \n",
       "std       8.803408         5.367420         13.001547           12.672760   \n",
       "min     101.000000         5.000000         10.000000            0.000000   \n",
       "25%     108.250000        10.250000         18.000000            6.000000   \n",
       "50%     115.500000        15.000000         33.000000           13.000000   \n",
       "75%     122.750000        19.000000         43.750000           24.250000   \n",
       "max     130.000000        22.000000         50.000000           50.000000   \n",
       "\n",
       "       puntualidad_promedio  calificacion_desempeno  \n",
       "count             30.000000               30.000000  \n",
       "mean              81.283333                3.096667  \n",
       "std                6.945506                1.102500  \n",
       "min               70.000000                1.100000  \n",
       "25%               76.775000                2.325000  \n",
       "50%               79.400000                3.050000  \n",
       "75%               85.625000                3.800000  \n",
       "max               97.200000                5.000000  "
      ]
     },
     "execution_count": 20,
     "metadata": {},
     "output_type": "execute_result"
    }
   ],
   "source": [
    "df.describe()"
   ]
  },
  {
   "cell_type": "markdown",
   "id": "56425aea",
   "metadata": {},
   "source": [
    "**2. Identifica empleados con baja carga laboral:**\n",
    "\n",
    "- ¿Quiénes trabajaron menos de 12 días y tienen menos de 15 tareas asignadas?"
   ]
  },
  {
   "cell_type": "code",
   "execution_count": 21,
   "id": "c6107d0e",
   "metadata": {},
   "outputs": [
    {
     "name": "stdout",
     "output_type": "stream",
     "text": [
      "    id_empleado       nombre departamento    sucursal  dias_trabajados  \\\n",
      "11          112  Empleado 12         RRHH  Sucursal C                6   \n",
      "29          130  Empleado 30    Logística  Sucursal B               11   \n",
      "\n",
      "    tareas_asignadas  tareas_completadas  puntualidad_promedio  \\\n",
      "11                14                   9                  78.2   \n",
      "29                10                   1                  90.9   \n",
      "\n",
      "    calificacion_desempeno  \n",
      "11                     2.8  \n",
      "29                     3.8  \n"
     ]
    }
   ],
   "source": [
    "print(df[(df['dias_trabajados'] < 12) & (df['tareas_asignadas'] < 15)])"
   ]
  },
  {
   "cell_type": "markdown",
   "id": "c5f937d2",
   "metadata": {},
   "source": [
    "**3. Detecta posibles casos de sobrecarga:**\n",
    "\n",
    "- Empleados con más de 40 tareas asignadas y menos del 90% de ellas completadas."
   ]
  },
  {
   "cell_type": "code",
   "execution_count": 32,
   "id": "3a309fee",
   "metadata": {},
   "outputs": [
    {
     "name": "stdout",
     "output_type": "stream",
     "text": [
      "    id_empleado       nombre departamento    sucursal  dias_trabajados  \\\n",
      "8           109   Empleado 9         RRHH  Sucursal C                8   \n",
      "9           110  Empleado 10         Caja  Sucursal A               22   \n",
      "10          111  Empleado 11    Logística  Sucursal C               16   \n",
      "12          113  Empleado 13         Caja  Sucursal A               14   \n",
      "19          120  Empleado 20    Logística  Sucursal B               12   \n",
      "23          124  Empleado 24       Ventas  Sucursal B               19   \n",
      "24          125  Empleado 25       Ventas  Sucursal C               17   \n",
      "25          126  Empleado 26         RRHH  Sucursal C               13   \n",
      "28          129  Empleado 29    Logística  Sucursal C                5   \n",
      "\n",
      "    tareas_asignadas  tareas_completadas  puntualidad_promedio  \\\n",
      "8                 44                  14                  73.7   \n",
      "9                 44                  14                  80.7   \n",
      "10                42                  25                  97.2   \n",
      "12                48                  12                  89.4   \n",
      "19                43                  22                  90.8   \n",
      "23                46                  35                  76.6   \n",
      "24                44                  12                  86.7   \n",
      "25                49                  31                  82.1   \n",
      "28                44                  27                  77.4   \n",
      "\n",
      "    calificacion_desempeno  porcentaje_tareas_completadas  \n",
      "8                      3.5                      31.818182  \n",
      "9                      3.7                      31.818182  \n",
      "10                     3.1                      59.523810  \n",
      "12                     3.2                      25.000000  \n",
      "19                     4.9                      51.162791  \n",
      "23                     1.6                      76.086957  \n",
      "24                     3.0                      27.272727  \n",
      "25                     3.8                      63.265306  \n",
      "28                     1.9                      61.363636  \n"
     ]
    }
   ],
   "source": [
    "df['porcentaje_tareas_completadas'] = df['tareas_completadas'] / df['tareas_asignadas'] * 100\n",
    "\n",
    "print(df[(df['tareas_asignadas'] > 40) & (df['porcentaje_tareas_completadas'] < 90)])"
   ]
  },
  {
   "cell_type": "markdown",
   "id": "6e4fda59",
   "metadata": {},
   "source": [
    "**4. Cálculo de eficiencia individual:**\n",
    "\n",
    "- Agrega una nueva columna: *eficiencia = tareas_completadas / tareas_asignadas*."
   ]
  },
  {
   "cell_type": "code",
   "execution_count": 41,
   "id": "f03d4125",
   "metadata": {},
   "outputs": [
    {
     "data": {
      "text/plain": [
       "0    11.111111\n",
       "1    39.393939\n",
       "2    20.000000\n",
       "3     0.000000\n",
       "4    12.121212\n",
       "Name: porcentaje_tareas_completadas, dtype: float64"
      ]
     },
     "execution_count": 41,
     "metadata": {},
     "output_type": "execute_result"
    }
   ],
   "source": [
    "df['porcentaje_tareas_completadas'].head()"
   ]
  },
  {
   "cell_type": "markdown",
   "id": "d9ffe96f",
   "metadata": {},
   "source": [
    "**5. Clasificación de desempeño:**\n",
    "\n",
    "- Agrega una nueva columna nivel_desempeno:\n",
    "  - **'Alto'** si calificacion_desempeno >= 4\n",
    "  - **'Medio'** si entre 3 y 3.99\n",
    "  - **'Bajo'** si < 3"
   ]
  },
  {
   "cell_type": "code",
   "execution_count": null,
   "id": "cb648808",
   "metadata": {},
   "outputs": [],
   "source": [
    "df['nivel_desempeno'] = "
   ]
  },
  {
   "cell_type": "markdown",
   "id": "c1c76281",
   "metadata": {},
   "source": [
    "**6. Promedio de eficiencia y desempeño por sucursal:**\n",
    "\n",
    "- Agrupa por *sucursal* y muestra el promedio de *eficiencia* y *calificacion_desempeno*."
   ]
  },
  {
   "cell_type": "code",
   "execution_count": null,
   "id": "220de374",
   "metadata": {},
   "outputs": [],
   "source": []
  },
  {
   "cell_type": "markdown",
   "id": "32eef7db",
   "metadata": {},
   "source": [
    "**7. Ranking de empleados más eficientes por departamento:**\n",
    "\n",
    "- Para cada departamento, muestra el empleado con mayor eficiencia."
   ]
  },
  {
   "cell_type": "code",
   "execution_count": null,
   "id": "abe6629e",
   "metadata": {},
   "outputs": [],
   "source": []
  },
  {
   "cell_type": "markdown",
   "id": "e209f224",
   "metadata": {},
   "source": [
    "**8. Tasa de puntualidad por departamento:**\n",
    "\n",
    "- Promedia la *puntualidad_promedio* por *departamento*."
   ]
  },
  {
   "cell_type": "code",
   "execution_count": null,
   "id": "a076c67a",
   "metadata": {},
   "outputs": [],
   "source": []
  },
  {
   "cell_type": "markdown",
   "id": "410328ee",
   "metadata": {},
   "source": [
    "**9. Filtrado de casos críticos para intervención de RRHH:**\n",
    "\n",
    "- Empleados con desempeño bajo, eficiencia < 0.5 y puntualidad < 85%."
   ]
  },
  {
   "cell_type": "code",
   "execution_count": null,
   "id": "0eed0ce9",
   "metadata": {},
   "outputs": [],
   "source": []
  },
  {
   "cell_type": "markdown",
   "id": "21e5ee23",
   "metadata": {},
   "source": [
    "**10. Exporta los resultados críticos:**\n",
    "\n",
    "- Guarda en un archivo ``intervencion_rrhh.csv`` los empleados que cumplen los criterios anteriores."
   ]
  },
  {
   "cell_type": "code",
   "execution_count": null,
   "id": "99c33b42",
   "metadata": {},
   "outputs": [],
   "source": []
  },
  {
   "cell_type": "markdown",
   "id": "33a6a361",
   "metadata": {},
   "source": [
    "### Opcional: Extensión del ejercicio\n",
    "\n",
    "Usa ``matplotlib`` o ``seaborn`` para graficar:\n",
    "\n",
    "- La distribución de niveles de desempeño.\n",
    "- Comparación de eficiencia por sucursal o departamento."
   ]
  },
  {
   "cell_type": "code",
   "execution_count": null,
   "id": "9a6c542f",
   "metadata": {},
   "outputs": [],
   "source": []
  }
 ],
 "metadata": {
  "kernelspec": {
   "display_name": "Python 3",
   "language": "python",
   "name": "python3"
  },
  "language_info": {
   "codemirror_mode": {
    "name": "ipython",
    "version": 3
   },
   "file_extension": ".py",
   "mimetype": "text/x-python",
   "name": "python",
   "nbconvert_exporter": "python",
   "pygments_lexer": "ipython3",
   "version": "3.13.2"
  }
 },
 "nbformat": 4,
 "nbformat_minor": 5
}
