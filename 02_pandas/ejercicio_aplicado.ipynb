{
 "cells": [
  {
   "cell_type": "markdown",
   "id": "865b8475",
   "metadata": {},
   "source": [
    "# Ejercicio con Pandas – Análisis de Asistencia y Desempeño de Personal"
   ]
  },
  {
   "cell_type": "markdown",
   "id": "19d486d2",
   "metadata": {},
   "source": [
    "### Objetivo:\n",
    "\n",
    "Simular un análisis del comportamiento de asistencia, desempeño y carga laboral del personal para detectar problemas en la operación diaria y proponer mejoras en la gestión del talento."
   ]
  },
  {
   "cell_type": "markdown",
   "id": "9c2ebcb5",
   "metadata": {},
   "source": [
    "### Contexto:\n",
    "\n",
    "Eres analista en el área de Formación y Desarrollo de Personal de una empresa con más de 100 colaboradores en sucursales. Te han pedido un informe que cruce la **asistencia**, el **rendimiento** y la **asignación de tareas** del personal para mejorar la **eficiencia operativa** y prevenir la **rotación de talento**.\n",
    "\n",
    "Descarga el archivo ``empleados.csv``."
   ]
  },
  {
   "cell_type": "markdown",
   "id": "308b082d",
   "metadata": {},
   "source": [
    "### Actividades:"
   ]
  },
  {
   "cell_type": "markdown",
   "id": "e0da7237",
   "metadata": {},
   "source": [
    "**1. Carga y exploración inicial:**\n",
    "\n",
    "- Lee el archivo ``empleados.csv``.\n",
    "- Muestra los primeros registros, tipos de datos y estadísticos básicos."
   ]
  },
  {
   "cell_type": "code",
   "execution_count": null,
   "id": "e9bfb53b",
   "metadata": {},
   "outputs": [],
   "source": []
  },
  {
   "cell_type": "markdown",
   "id": "56425aea",
   "metadata": {},
   "source": [
    "**2. Identifica empleados con baja carga laboral:**\n",
    "\n",
    "- ¿Quiénes trabajaron menos de 12 días y tienen menos de 15 tareas asignadas?"
   ]
  },
  {
   "cell_type": "code",
   "execution_count": null,
   "id": "c6107d0e",
   "metadata": {},
   "outputs": [],
   "source": []
  },
  {
   "cell_type": "markdown",
   "id": "c5f937d2",
   "metadata": {},
   "source": [
    "**3. Detecta posibles casos de sobrecarga:**\n",
    "\n",
    "- Empleados con más de 40 tareas asignadas y menos del 90% de ellas completadas."
   ]
  },
  {
   "cell_type": "code",
   "execution_count": null,
   "id": "3a309fee",
   "metadata": {},
   "outputs": [],
   "source": []
  },
  {
   "cell_type": "markdown",
   "id": "6e4fda59",
   "metadata": {},
   "source": [
    "**4. Cálculo de eficiencia individual:**\n",
    "\n",
    "- Agrega una nueva columna: *eficiencia = tareas_completadas / tareas_asignadas*."
   ]
  },
  {
   "cell_type": "code",
   "execution_count": null,
   "id": "f03d4125",
   "metadata": {},
   "outputs": [],
   "source": []
  },
  {
   "cell_type": "markdown",
   "id": "d9ffe96f",
   "metadata": {},
   "source": [
    "**5. Clasificación de desempeño:**\n",
    "\n",
    "- Agrega una nueva columna nivel_desempeno:\n",
    "  - **'Alto'** si calificacion_desempeno >= 4\n",
    "  - **'Medio'** si entre 3 y 3.99\n",
    "  - **'Bajo'** si < 3"
   ]
  },
  {
   "cell_type": "code",
   "execution_count": null,
   "id": "cb648808",
   "metadata": {},
   "outputs": [],
   "source": []
  },
  {
   "cell_type": "markdown",
   "id": "c1c76281",
   "metadata": {},
   "source": [
    "**6. Promedio de eficiencia y desempeño por sucursal:**\n",
    "\n",
    "- Agrupa por *sucursal* y muestra el promedio de *eficiencia* y *calificacion_desempeno*."
   ]
  },
  {
   "cell_type": "code",
   "execution_count": null,
   "id": "220de374",
   "metadata": {},
   "outputs": [],
   "source": []
  },
  {
   "cell_type": "markdown",
   "id": "32eef7db",
   "metadata": {},
   "source": [
    "**7. Ranking de empleados más eficientes por departamento:**\n",
    "\n",
    "- Para cada departamento, muestra el empleado con mayor eficiencia."
   ]
  },
  {
   "cell_type": "code",
   "execution_count": null,
   "id": "abe6629e",
   "metadata": {},
   "outputs": [],
   "source": []
  },
  {
   "cell_type": "markdown",
   "id": "e209f224",
   "metadata": {},
   "source": [
    "**8. Tasa de puntualidad por departamento:**\n",
    "\n",
    "- Promedia la *puntualidad_promedio* por *departamento*."
   ]
  },
  {
   "cell_type": "code",
   "execution_count": null,
   "id": "a076c67a",
   "metadata": {},
   "outputs": [],
   "source": []
  },
  {
   "cell_type": "markdown",
   "id": "410328ee",
   "metadata": {},
   "source": [
    "**9. Filtrado de casos críticos para intervención de RRHH:**\n",
    "\n",
    "- Empleados con desempeño bajo, eficiencia < 0.5 y puntualidad < 85%."
   ]
  },
  {
   "cell_type": "code",
   "execution_count": null,
   "id": "0eed0ce9",
   "metadata": {},
   "outputs": [],
   "source": []
  },
  {
   "cell_type": "markdown",
   "id": "21e5ee23",
   "metadata": {},
   "source": [
    "**10. Exporta los resultados críticos:**\n",
    "\n",
    "- Guarda en un archivo ``intervencion_rrhh.csv`` los empleados que cumplen los criterios anteriores."
   ]
  },
  {
   "cell_type": "code",
   "execution_count": null,
   "id": "99c33b42",
   "metadata": {},
   "outputs": [],
   "source": []
  },
  {
   "cell_type": "markdown",
   "id": "33a6a361",
   "metadata": {},
   "source": [
    "### Opcional: Extensión del ejercicio\n",
    "\n",
    "Usa ``matplotlib`` o ``seaborn`` para graficar:\n",
    "\n",
    "- La distribución de niveles de desempeño.\n",
    "- Comparación de eficiencia por sucursal o departamento."
   ]
  },
  {
   "cell_type": "code",
   "execution_count": null,
   "id": "9a6c542f",
   "metadata": {},
   "outputs": [],
   "source": []
  }
 ],
 "metadata": {
  "language_info": {
   "name": "python"
  }
 },
 "nbformat": 4,
 "nbformat_minor": 5
}
