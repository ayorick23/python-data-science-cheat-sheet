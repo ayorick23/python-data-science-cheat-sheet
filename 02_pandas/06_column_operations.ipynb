{
 "cells": [
  {
   "cell_type": "markdown",
   "metadata": {},
   "source": [
    "# Column Operations"
   ]
  },
  {
   "cell_type": "code",
   "execution_count": 1,
   "metadata": {},
   "outputs": [],
   "source": [
    "import pandas as pd"
   ]
  },
  {
   "cell_type": "markdown",
   "metadata": {},
   "source": [
    "## Load a sample dataset"
   ]
  },
  {
   "cell_type": "code",
   "execution_count": 2,
   "metadata": {},
   "outputs": [],
   "source": [
    "#Cargar un dataset de ejemplo\n",
    "df = pd.read_csv('https://raw.githubusercontent.com/mwaskom/seaborn-data/master/iris.csv')"
   ]
  },
  {
   "cell_type": "markdown",
   "metadata": {},
   "source": [
    "## Create a new column based on another"
   ]
  },
  {
   "cell_type": "code",
   "execution_count": 3,
   "metadata": {},
   "outputs": [
    {
     "name": "stdout",
     "output_type": "stream",
     "text": [
      "   sepal_length  sepal_width  petal_length  petal_width species  sepal_area\n",
      "0           5.1          3.5           1.4          0.2  setosa       17.85\n",
      "1           4.9          3.0           1.4          0.2  setosa       14.70\n",
      "2           4.7          3.2           1.3          0.2  setosa       15.04\n",
      "3           4.6          3.1           1.5          0.2  setosa       14.26\n",
      "4           5.0          3.6           1.4          0.2  setosa       18.00\n"
     ]
    }
   ],
   "source": [
    "#Crear una columna basada en otra\n",
    "df[\"sepal_area\"] = df [\"sepal_length\"] * df[\"sepal_width\"]\n",
    "print(df.head())"
   ]
  },
  {
   "cell_type": "markdown",
   "metadata": {},
   "source": [
    "## Modify values of an existing column"
   ]
  },
  {
   "cell_type": "code",
   "execution_count": 4,
   "metadata": {},
   "outputs": [
    {
     "name": "stdout",
     "output_type": "stream",
     "text": [
      "   sepal_length  sepal_width  petal_length  petal_width species  sepal_area\n",
      "0          51.0          3.5           1.4          0.2  setosa       17.85\n",
      "1          49.0          3.0           1.4          0.2  setosa       14.70\n",
      "2          47.0          3.2           1.3          0.2  setosa       15.04\n",
      "3          46.0          3.1           1.5          0.2  setosa       14.26\n",
      "4          50.0          3.6           1.4          0.2  setosa       18.00\n"
     ]
    }
   ],
   "source": [
    "#Modificar valores de una columna existente\n",
    "df[\"sepal_length\"] = df[\"sepal_length\"] * 10\n",
    "print(df.head())"
   ]
  },
  {
   "cell_type": "markdown",
   "metadata": {},
   "source": [
    "## Rename columns"
   ]
  },
  {
   "cell_type": "code",
   "execution_count": 5,
   "metadata": {},
   "outputs": [
    {
     "name": "stdout",
     "output_type": "stream",
     "text": [
      "   sepal_length_mm  sepal_width  petal_length  petal_width species  sepal_area\n",
      "0             51.0          3.5           1.4          0.2  setosa       17.85\n",
      "1             49.0          3.0           1.4          0.2  setosa       14.70\n",
      "2             47.0          3.2           1.3          0.2  setosa       15.04\n",
      "3             46.0          3.1           1.5          0.2  setosa       14.26\n",
      "4             50.0          3.6           1.4          0.2  setosa       18.00\n"
     ]
    }
   ],
   "source": [
    "#Renombrar columnas\n",
    "df.rename(columns={\"sepal_length\": \"sepal_length_mm\"}, inplace=True)\n",
    "print(df.head())"
   ]
  },
  {
   "cell_type": "markdown",
   "metadata": {},
   "source": [
    "## Delete columns"
   ]
  },
  {
   "cell_type": "code",
   "execution_count": 6,
   "metadata": {},
   "outputs": [
    {
     "name": "stdout",
     "output_type": "stream",
     "text": [
      "   sepal_length_mm  sepal_width  petal_length  petal_width species\n",
      "0             51.0          3.5           1.4          0.2  setosa\n",
      "1             49.0          3.0           1.4          0.2  setosa\n",
      "2             47.0          3.2           1.3          0.2  setosa\n",
      "3             46.0          3.1           1.5          0.2  setosa\n",
      "4             50.0          3.6           1.4          0.2  setosa\n"
     ]
    }
   ],
   "source": [
    "#Eliminar columnas\n",
    "df.drop(columns=[\"sepal_area\"], inplace=True)\n",
    "print(df.head())"
   ]
  },
  {
   "cell_type": "markdown",
   "metadata": {},
   "source": [
    "## Reorder columns"
   ]
  },
  {
   "cell_type": "code",
   "execution_count": 7,
   "metadata": {},
   "outputs": [
    {
     "name": "stdout",
     "output_type": "stream",
     "text": [
      "  species  sepal_length_mm  sepal_width  petal_length  petal_width\n",
      "0  setosa             51.0          3.5           1.4          0.2\n",
      "1  setosa             49.0          3.0           1.4          0.2\n",
      "2  setosa             47.0          3.2           1.3          0.2\n",
      "3  setosa             46.0          3.1           1.5          0.2\n",
      "4  setosa             50.0          3.6           1.4          0.2\n"
     ]
    }
   ],
   "source": [
    "#Reordenar columnas\n",
    "df = df[[\"species\", \"sepal_length_mm\", \"sepal_width\", \"petal_length\", \"petal_width\"]]\n",
    "print(df.head())"
   ]
  },
  {
   "cell_type": "markdown",
   "metadata": {},
   "source": [
    "## Applying functions to columns with apply()"
   ]
  },
  {
   "cell_type": "code",
   "execution_count": 8,
   "metadata": {},
   "outputs": [
    {
     "name": "stdout",
     "output_type": "stream",
     "text": [
      "  species  sepal_length_mm  sepal_width  petal_length  petal_width\n",
      "0  setosa              5.1          3.5           1.4          0.2\n",
      "1  setosa              4.9          3.0           1.4          0.2\n",
      "2  setosa              4.7          3.2           1.3          0.2\n",
      "3  setosa              4.6          3.1           1.5          0.2\n",
      "4  setosa              5.0          3.6           1.4          0.2\n"
     ]
    }
   ],
   "source": [
    "#Aplicando funciones a columnas con apply()\n",
    "df[\"sepal_length_mm\"] = df[\"sepal_length_mm\"].apply(lambda x: x / 10)\n",
    "print(df.head())"
   ]
  }
 ],
 "metadata": {
  "kernelspec": {
   "display_name": "Python 3 (ipykernel)",
   "language": "python",
   "name": "python3"
  },
  "language_info": {
   "codemirror_mode": {
    "name": "ipython",
    "version": 3
   },
   "file_extension": ".py",
   "mimetype": "text/x-python",
   "name": "python",
   "nbconvert_exporter": "python",
   "pygments_lexer": "ipython3",
   "version": "3.13.2"
  }
 },
 "nbformat": 4,
 "nbformat_minor": 4
}
