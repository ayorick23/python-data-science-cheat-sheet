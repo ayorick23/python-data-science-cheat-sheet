{
 "cells": [
  {
   "cell_type": "markdown",
   "metadata": {},
   "source": [
    "# Null Treatment"
   ]
  },
  {
   "cell_type": "code",
   "execution_count": 1,
   "metadata": {},
   "outputs": [],
   "source": [
    "import pandas as pd\n",
    "import numpy as np"
   ]
  },
  {
   "cell_type": "markdown",
   "metadata": {},
   "source": [
    "## Create a DataFrame with null values"
   ]
  },
  {
   "cell_type": "code",
   "execution_count": 2,
   "metadata": {},
   "outputs": [
    {
     "name": "stdout",
     "output_type": "stream",
     "text": [
      "     Name   Age  Salary\n",
      "0  Dereck  25.0  3000.0\n",
      "1     Ale   NaN  4000.0\n",
      "2    Cris  35.0     NaN\n",
      "3     Eli  55.0  5000.0\n",
      "4     NaN  45.0  6000.0\n"
     ]
    }
   ],
   "source": [
    "#Crear un DataFrame con valores nulos\n",
    "data = {\n",
    "    \"Name\": [\"Dereck\", \"Ale\", \"Cris\", \"Eli\", np.nan],\n",
    "    \"Age\": [25, np.nan, 35, 55, 45],\n",
    "    \"Salary\": [3000, 4000, np.nan, 5000, 6000]\n",
    "}\n",
    "df = pd.DataFrame(data)\n",
    "\n",
    "print(df)"
   ]
  },
  {
   "cell_type": "markdown",
   "metadata": {},
   "source": [
    "## Identify null values"
   ]
  },
  {
   "cell_type": "code",
   "execution_count": 3,
   "metadata": {},
   "outputs": [
    {
     "name": "stdout",
     "output_type": "stream",
     "text": [
      "    Name    Age  Salary\n",
      "0  False  False   False\n",
      "1  False   True   False\n",
      "2  False  False    True\n",
      "3  False  False   False\n",
      "4   True  False   False\n"
     ]
    }
   ],
   "source": [
    "#Identficar valores nulos\n",
    "print(df.isnull())"
   ]
  },
  {
   "cell_type": "markdown",
   "metadata": {},
   "source": [
    "## Count null values per column"
   ]
  },
  {
   "cell_type": "code",
   "execution_count": 4,
   "metadata": {},
   "outputs": [
    {
     "name": "stdout",
     "output_type": "stream",
     "text": [
      "Name      1\n",
      "Age       1\n",
      "Salary    1\n",
      "dtype: int64\n"
     ]
    }
   ],
   "source": [
    "#Contar valores nulos por columna\n",
    "print(df.isnull().sum())"
   ]
  },
  {
   "cell_type": "markdown",
   "metadata": {},
   "source": [
    "## Delete rows with null values"
   ]
  },
  {
   "cell_type": "code",
   "execution_count": 5,
   "metadata": {},
   "outputs": [
    {
     "name": "stdout",
     "output_type": "stream",
     "text": [
      "     Name   Age  Salary\n",
      "0  Dereck  25.0  3000.0\n",
      "3     Eli  55.0  5000.0\n"
     ]
    }
   ],
   "source": [
    "#Eliminar filas con valores nulos\n",
    "print(df.dropna())"
   ]
  },
  {
   "cell_type": "markdown",
   "metadata": {},
   "source": [
    "## Delete columns with null values"
   ]
  },
  {
   "cell_type": "code",
   "execution_count": 6,
   "metadata": {},
   "outputs": [
    {
     "name": "stdout",
     "output_type": "stream",
     "text": [
      "Empty DataFrame\n",
      "Columns: []\n",
      "Index: [0, 1, 2, 3, 4]\n"
     ]
    }
   ],
   "source": [
    "#Eliminar columnas con valores nulos\n",
    "print(df.dropna(axis=1))"
   ]
  },
  {
   "cell_type": "markdown",
   "metadata": {},
   "source": [
    "## Fill null values withh a specific value"
   ]
  },
  {
   "cell_type": "code",
   "execution_count": 7,
   "metadata": {},
   "outputs": [
    {
     "name": "stdout",
     "output_type": "stream",
     "text": [
      "     Name   Age  Salary\n",
      "0  Dereck  25.0  3000.0\n",
      "1     Ale   0.0  4000.0\n",
      "2    Cris  35.0     0.0\n",
      "3     Eli  55.0  5000.0\n",
      "4       0  45.0  6000.0\n"
     ]
    }
   ],
   "source": [
    "#Rellenar valores nulos con un valor específico\n",
    "print(df.fillna(0))"
   ]
  },
  {
   "cell_type": "markdown",
   "metadata": {},
   "source": [
    "## Fill null values with the column mean"
   ]
  },
  {
   "cell_type": "code",
   "execution_count": 8,
   "metadata": {},
   "outputs": [
    {
     "name": "stdout",
     "output_type": "stream",
     "text": [
      "     Name   Age  Salary\n",
      "0  Dereck  25.0  3000.0\n",
      "1     Ale  40.0  4000.0\n",
      "2    Cris  35.0     NaN\n",
      "3     Eli  55.0  5000.0\n",
      "4     NaN  45.0  6000.0\n"
     ]
    },
    {
     "name": "stderr",
     "output_type": "stream",
     "text": [
      "C:\\Users\\Dereck\\AppData\\Local\\Temp\\ipykernel_19004\\3509231545.py:2: FutureWarning: A value is trying to be set on a copy of a DataFrame or Series through chained assignment using an inplace method.\n",
      "The behavior will change in pandas 3.0. This inplace method will never work because the intermediate object on which we are setting values always behaves as a copy.\n",
      "\n",
      "For example, when doing 'df[col].method(value, inplace=True)', try using 'df.method({col: value}, inplace=True)' or df[col] = df[col].method(value) instead, to perform the operation inplace on the original object.\n",
      "\n",
      "\n",
      "  df[\"Age\"].fillna(df[\"Age\"].mean(), inplace=True)\n"
     ]
    }
   ],
   "source": [
    "#Rellenar valores nulos con la media de la columna\n",
    "df[\"Age\"].fillna(df[\"Age\"].mean(), inplace=True)\n",
    "print(df)"
   ]
  },
  {
   "cell_type": "markdown",
   "metadata": {},
   "source": [
    "## Fill null values with forward fill (ffill)"
   ]
  },
  {
   "cell_type": "code",
   "execution_count": 9,
   "metadata": {},
   "outputs": [
    {
     "name": "stdout",
     "output_type": "stream",
     "text": [
      "     Name   Age  Salary\n",
      "0  Dereck  25.0  3000.0\n",
      "1     Ale  40.0  4000.0\n",
      "2    Cris  35.0  4000.0\n",
      "3     Eli  55.0  5000.0\n",
      "4     Eli  45.0  6000.0\n"
     ]
    },
    {
     "name": "stderr",
     "output_type": "stream",
     "text": [
      "C:\\Users\\Dereck\\AppData\\Local\\Temp\\ipykernel_19004\\1278551488.py:2: FutureWarning: DataFrame.fillna with 'method' is deprecated and will raise in a future version. Use obj.ffill() or obj.bfill() instead.\n",
      "  print(df.fillna(method=\"ffill\"))\n"
     ]
    }
   ],
   "source": [
    "#Rellenar valores nulos con forward fill (ffill)\n",
    "print(df.fillna(method=\"ffill\"))"
   ]
  },
  {
   "cell_type": "markdown",
   "metadata": {},
   "source": [
    "## Fill null values with backward fill (bfill)"
   ]
  },
  {
   "cell_type": "code",
   "execution_count": 10,
   "metadata": {},
   "outputs": [
    {
     "name": "stdout",
     "output_type": "stream",
     "text": [
      "     Name   Age  Salary\n",
      "0  Dereck  25.0  3000.0\n",
      "1     Ale  40.0  4000.0\n",
      "2    Cris  35.0  5000.0\n",
      "3     Eli  55.0  5000.0\n",
      "4     NaN  45.0  6000.0\n"
     ]
    },
    {
     "name": "stderr",
     "output_type": "stream",
     "text": [
      "C:\\Users\\Dereck\\AppData\\Local\\Temp\\ipykernel_19004\\3595070711.py:2: FutureWarning: DataFrame.fillna with 'method' is deprecated and will raise in a future version. Use obj.ffill() or obj.bfill() instead.\n",
      "  print(df.fillna(method=\"bfill\"))\n"
     ]
    }
   ],
   "source": [
    "#Rellenar valores nulos con backward fill (bfill)\n",
    "print(df.fillna(method=\"bfill\"))"
   ]
  }
 ],
 "metadata": {
  "kernelspec": {
   "display_name": "Python 3 (ipykernel)",
   "language": "python",
   "name": "python3"
  },
  "language_info": {
   "codemirror_mode": {
    "name": "ipython",
    "version": 3
   },
   "file_extension": ".py",
   "mimetype": "text/x-python",
   "name": "python",
   "nbconvert_exporter": "python",
   "pygments_lexer": "ipython3",
   "version": "3.13.2"
  }
 },
 "nbformat": 4,
 "nbformat_minor": 4
}
