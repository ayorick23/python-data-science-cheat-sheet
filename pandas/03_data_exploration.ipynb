{
 "cells": [
  {
   "cell_type": "markdown",
   "metadata": {},
   "source": [
    "# Data Exploration\n",
    "\n",
    "## Exploración de Datos\n",
    "\n",
    "La exploración de datos en **Pandas** implica entender la estructura, contenido y características de un conjunto de datos utilizando las herramientas y funciones de la biblioteca. Esto incluye la importación de datos, la visualización inicial, la revisión de tipos de datos, la identificación de valores faltantes y la obtención de estadísticas descriptivas, entre otras acciones."
   ]
  },
  {
   "cell_type": "code",
   "execution_count": 1,
   "metadata": {},
   "outputs": [],
   "source": [
    "import pandas as pd"
   ]
  },
  {
   "cell_type": "markdown",
   "metadata": {},
   "source": [
    "## Load a sample dataset"
   ]
  },
  {
   "cell_type": "code",
   "execution_count": 2,
   "metadata": {},
   "outputs": [],
   "source": [
    "#Cargar un dataset de ejemplo\n",
    "data = pd.read_csv('https://raw.githubusercontent.com/mwaskom/seaborn-data/master/iris.csv')"
   ]
  },
  {
   "cell_type": "markdown",
   "metadata": {},
   "source": [
    "## Display the first rows of the DataFrame\n",
    "\n",
    "`head()` es un método que se utiliza para mostrar las primeras n filas de un DataFrame. Por defecto, si no se especifica un número, muestra las primeras 5 filas."
   ]
  },
  {
   "cell_type": "code",
   "execution_count": 3,
   "metadata": {},
   "outputs": [
    {
     "name": "stdout",
     "output_type": "stream",
     "text": [
      "   sepal_length  sepal_width  petal_length  petal_width species\n",
      "0           5.1          3.5           1.4          0.2  setosa\n",
      "1           4.9          3.0           1.4          0.2  setosa\n",
      "2           4.7          3.2           1.3          0.2  setosa\n",
      "3           4.6          3.1           1.5          0.2  setosa\n",
      "4           5.0          3.6           1.4          0.2  setosa\n"
     ]
    }
   ],
   "source": [
    "#Mostrar las primeras 5 filas del dataset\n",
    "print(data.head())"
   ]
  },
  {
   "cell_type": "markdown",
   "metadata": {},
   "source": [
    "## Display the last rows of the DataFrame\n",
    "\n",
    "`tail()` se utiliza para mostrar las últimas filas de un DataFrame. Por defecto, muestra las últimas 5 filas, pero se puede especificar un número diferente de filas pasando un argumento entero al método."
   ]
  },
  {
   "cell_type": "code",
   "execution_count": 4,
   "metadata": {},
   "outputs": [
    {
     "name": "stdout",
     "output_type": "stream",
     "text": [
      "     sepal_length  sepal_width  petal_length  petal_width    species\n",
      "145           6.7          3.0           5.2          2.3  virginica\n",
      "146           6.3          2.5           5.0          1.9  virginica\n",
      "147           6.5          3.0           5.2          2.0  virginica\n",
      "148           6.2          3.4           5.4          2.3  virginica\n",
      "149           5.9          3.0           5.1          1.8  virginica\n"
     ]
    }
   ],
   "source": [
    "#Mostrar las últimas 5 filas del dataset\n",
    "print(data.tail())"
   ]
  },
  {
   "cell_type": "markdown",
   "metadata": {},
   "source": [
    "## Get general information about the DataFrame\n",
    "\n",
    "`info()` es un método que proporciona un resumen conciso del DataFrame. Muestra información sobre el índice, las columnas, los tipos de datos, el número de valores no nulos y el uso de memoria del DataFrame."
   ]
  },
  {
   "cell_type": "code",
   "execution_count": 5,
   "metadata": {},
   "outputs": [
    {
     "name": "stdout",
     "output_type": "stream",
     "text": [
      "<class 'pandas.core.frame.DataFrame'>\n",
      "RangeIndex: 150 entries, 0 to 149\n",
      "Data columns (total 5 columns):\n",
      " #   Column        Non-Null Count  Dtype  \n",
      "---  ------        --------------  -----  \n",
      " 0   sepal_length  150 non-null    float64\n",
      " 1   sepal_width   150 non-null    float64\n",
      " 2   petal_length  150 non-null    float64\n",
      " 3   petal_width   150 non-null    float64\n",
      " 4   species       150 non-null    object \n",
      "dtypes: float64(4), object(1)\n",
      "memory usage: 6.0+ KB\n",
      "None\n"
     ]
    }
   ],
   "source": [
    "#Obtener información general del dataset\n",
    "print(data.info())"
   ]
  },
  {
   "cell_type": "markdown",
   "metadata": {},
   "source": [
    "## Get descriptive statistics from the DataFrame\n",
    "\n",
    "`describe()` proporciona estadísticas descriptivas para las columnas numéricas de un DataFrame. Devuelve un resumen de las estadísticas clave, como la *media*, la *desviación estándar*, los valores *mínimo* y *máximo*, los *cuartiles*, entre otros.\n",
    "\n",
    "### ¿Qué información proporciona?\n",
    "- **count:** El número de valores no nulos en la columna.\n",
    "- **mean:** El promedio de los valores en la columna.\n",
    "- **std:** La desviación estándar de los valores en la columna.\n",
    "- **min:** El valor mínimo en la columna.\n",
    "- **25% (Q1):** El primer cuartil, que representa el valor por debajo del cual se encuentra el 25% de los datos.\n",
    "- **50% (Q2 o mediana):** El segundo cuartil, que representa el valor por debajo del cual se encuentra el 50% de los datos, también conocido como la mediana.\n",
    "- **75% (Q3):** El tercer cuartil, que representa el valor por debajo del cual se encuentra el 75% de los datos.\n",
    "- **max:** El valor máximo en la columna."
   ]
  },
  {
   "cell_type": "code",
   "execution_count": 6,
   "metadata": {},
   "outputs": [
    {
     "name": "stdout",
     "output_type": "stream",
     "text": [
      "       sepal_length  sepal_width  petal_length  petal_width\n",
      "count    150.000000   150.000000    150.000000   150.000000\n",
      "mean       5.843333     3.057333      3.758000     1.199333\n",
      "std        0.828066     0.435866      1.765298     0.762238\n",
      "min        4.300000     2.000000      1.000000     0.100000\n",
      "25%        5.100000     2.800000      1.600000     0.300000\n",
      "50%        5.800000     3.000000      4.350000     1.300000\n",
      "75%        6.400000     3.300000      5.100000     1.800000\n",
      "max        7.900000     4.400000      6.900000     2.500000\n"
     ]
    }
   ],
   "source": [
    "#Obtener estadísticas descriptivas del DataFrame\n",
    "print(data.describe())"
   ]
  },
  {
   "cell_type": "markdown",
   "metadata": {},
   "source": [
    "## View the number of rows and columns\n",
    "\n",
    "`shape` es un atributo que te devuelve una tupla con el número de filas y columnas de un DataFrame."
   ]
  },
  {
   "cell_type": "code",
   "execution_count": 7,
   "metadata": {},
   "outputs": [
    {
     "name": "stdout",
     "output_type": "stream",
     "text": [
      "Filas y columnas: (150, 5)\n"
     ]
    }
   ],
   "source": [
    "#Ver el número de filas y columnas\n",
    "print(f\"Filas y columnas: {data.shape}\")"
   ]
  },
  {
   "cell_type": "markdown",
   "metadata": {},
   "source": [
    "**NOTA:** `shape` es un atributo, no un método. Esto significa que no se usa con paréntesis como `data.shape()`. Se accede directamente como `data.shape`."
   ]
  },
  {
   "cell_type": "markdown",
   "metadata": {},
   "source": [
    "## Get the column names\n",
    "\n",
    "`columns` es un atributo que devuelve los nombres de las columnas de un DataFrame como un objeto Index de Pandas. Permite acceder, manipular y trabajar con las etiquetas de las columnas."
   ]
  },
  {
   "cell_type": "code",
   "execution_count": 8,
   "metadata": {},
   "outputs": [
    {
     "name": "stdout",
     "output_type": "stream",
     "text": [
      "Index(['sepal_length', 'sepal_width', 'petal_length', 'petal_width',\n",
      "       'species'],\n",
      "      dtype='object')\n"
     ]
    }
   ],
   "source": [
    "#Obtener los nombres de las columnas\n",
    "print(data.columns)"
   ]
  },
  {
   "cell_type": "markdown",
   "metadata": {},
   "source": [
    "## Count the unique values in each column\n",
    "\n",
    "`nunique()` se utiliza para contar el número de valores únicos en una columna o filas de un DataFrame. Devuelve un escalar si se aplica a una serie, o una nueva serie con el recuento de valores únicos por columna/fila si se aplica a un DataFrame."
   ]
  },
  {
   "cell_type": "code",
   "execution_count": 9,
   "metadata": {},
   "outputs": [
    {
     "name": "stdout",
     "output_type": "stream",
     "text": [
      "sepal_length    35\n",
      "sepal_width     23\n",
      "petal_length    43\n",
      "petal_width     22\n",
      "species          3\n",
      "dtype: int64\n"
     ]
    }
   ],
   "source": [
    "#Contar los valores únicos de cada columna\n",
    "print(data.nunique())"
   ]
  },
  {
   "cell_type": "markdown",
   "metadata": {},
   "source": [
    "## Count the unique values in each specific column\n",
    "\n",
    "La función `value_counts()` se utiliza para contar la frecuencia de valores únicos en una Serie o columna de un DataFrame. Devuelve una nueva Serie con los valores únicos como índice y sus conteos como valores, ordenados de mayor a menor por defecto."
   ]
  },
  {
   "cell_type": "code",
   "execution_count": 10,
   "metadata": {},
   "outputs": [
    {
     "name": "stdout",
     "output_type": "stream",
     "text": [
      "species\n",
      "setosa        50\n",
      "versicolor    50\n",
      "virginica     50\n",
      "Name: count, dtype: int64\n"
     ]
    }
   ],
   "source": [
    "#Contar los valores únicos de cada columna específica\n",
    "print(data['species'].value_counts())"
   ]
  },
  {
   "cell_type": "markdown",
   "metadata": {},
   "source": [
    "## View the data type of each column\n",
    "\n",
    "dtypes se refiere a los tipos de datos de las columnas en un DataFrame. dtypes es una propiedad que devuelve una Serie con el tipo de dato de cada columna, donde el índice de la Serie son las columnas del DataFrame original.\n",
    "\n",
    "### Ejemplos de tipos de datos en Pandas:\n",
    "- **int64:** Enteros de 64 bits. Por ejemplo, números enteros como 1, 2, 100, etc.\n",
    "- **float64:** Números de punto flotante (decimales). Por ejemplo, 3.14, -2.5, 0.0.\n",
    "- **object:** Generalmente utilizado para cadenas de texto, pero también puede contener otros objetos Python, como listas o diccionarios.\n",
    "- **bool:** Valores booleanos (verdadero o falso).\n",
    "- **datetime64[ns]:** Fechas y horas."
   ]
  },
  {
   "cell_type": "code",
   "execution_count": 11,
   "metadata": {},
   "outputs": [
    {
     "name": "stdout",
     "output_type": "stream",
     "text": [
      "sepal_length    float64\n",
      "sepal_width     float64\n",
      "petal_length    float64\n",
      "petal_width     float64\n",
      "species          object\n",
      "dtype: object\n"
     ]
    }
   ],
   "source": [
    "#Ver el tipo de datos de cada columna\n",
    "print(data.dtypes)"
   ]
  }
 ],
 "metadata": {
  "kernelspec": {
   "display_name": "Python 3",
   "language": "python",
   "name": "python3"
  },
  "language_info": {
   "codemirror_mode": {
    "name": "ipython",
    "version": 3
   },
   "file_extension": ".py",
   "mimetype": "text/x-python",
   "name": "python",
   "nbconvert_exporter": "python",
   "pygments_lexer": "ipython3",
   "version": "3.13.2"
  }
 },
 "nbformat": 4,
 "nbformat_minor": 2
}
