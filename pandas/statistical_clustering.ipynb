{
 "cells": [
  {
   "cell_type": "markdown",
   "metadata": {},
   "source": [
    "# Statistical Clustering"
   ]
  },
  {
   "cell_type": "code",
   "execution_count": 1,
   "metadata": {},
   "outputs": [],
   "source": [
    "import pandas as pd"
   ]
  },
  {
   "cell_type": "code",
   "execution_count": 2,
   "metadata": {},
   "outputs": [],
   "source": [
    "df = pd.read_csv('https://raw.githubusercontent.com/mwaskom/seaborn-data/master/iris.csv')"
   ]
  },
  {
   "cell_type": "markdown",
   "metadata": {},
   "source": [
    "## Obtain general descriptive statistics"
   ]
  },
  {
   "cell_type": "code",
   "execution_count": 3,
   "metadata": {},
   "outputs": [
    {
     "name": "stdout",
     "output_type": "stream",
     "text": [
      "       sepal_length  sepal_width  petal_length  petal_width\n",
      "count    150.000000   150.000000    150.000000   150.000000\n",
      "mean       5.843333     3.057333      3.758000     1.199333\n",
      "std        0.828066     0.435866      1.765298     0.762238\n",
      "min        4.300000     2.000000      1.000000     0.100000\n",
      "25%        5.100000     2.800000      1.600000     0.300000\n",
      "50%        5.800000     3.000000      4.350000     1.300000\n",
      "75%        6.400000     3.300000      5.100000     1.800000\n",
      "max        7.900000     4.400000      6.900000     2.500000\n"
     ]
    }
   ],
   "source": [
    "#Obtener estadisticas descriptivas generales\n",
    "print(df.describe())"
   ]
  },
  {
   "cell_type": "markdown",
   "metadata": {},
   "source": [
    "# Count unique values per category"
   ]
  },
  {
   "cell_type": "code",
   "execution_count": 4,
   "metadata": {},
   "outputs": [
    {
     "name": "stdout",
     "output_type": "stream",
     "text": [
      "species\n",
      "setosa        50\n",
      "versicolor    50\n",
      "virginica     50\n",
      "Name: count, dtype: int64\n"
     ]
    }
   ],
   "source": [
    "#Contar valores unicos por categoria\n",
    "print(df['species'].value_counts())"
   ]
  },
  {
   "cell_type": "markdown",
   "metadata": {},
   "source": [
    "## Group by a column and get the mean"
   ]
  },
  {
   "cell_type": "code",
   "execution_count": 5,
   "metadata": {},
   "outputs": [
    {
     "name": "stdout",
     "output_type": "stream",
     "text": [
      "species\n",
      "setosa        5.006\n",
      "versicolor    5.936\n",
      "virginica     6.588\n",
      "Name: sepal_length, dtype: float64\n"
     ]
    }
   ],
   "source": [
    "#Agrupar por una columna y obtener la media\n",
    "print(df.groupby(\"species\")[\"sepal_length\"].mean())"
   ]
  },
  {
   "cell_type": "markdown",
   "metadata": {},
   "source": [
    "## Group and get multiple statistics"
   ]
  },
  {
   "cell_type": "code",
   "execution_count": 6,
   "metadata": {},
   "outputs": [
    {
     "name": "stdout",
     "output_type": "stream",
     "text": [
      "             mean  max  min       std\n",
      "species                              \n",
      "setosa      5.006  5.8  4.3  0.352490\n",
      "versicolor  5.936  7.0  4.9  0.516171\n",
      "virginica   6.588  7.9  4.9  0.635880\n"
     ]
    }
   ],
   "source": [
    "#Agrupar y obtener multiples estadisticas\n",
    "print(df.groupby(\"species\")[\"sepal_length\"].agg([\"mean\", \"max\", \"min\", \"std\"]))"
   ]
  },
  {
   "cell_type": "markdown",
   "metadata": {},
   "source": [
    "## Group by multiple columns"
   ]
  },
  {
   "cell_type": "code",
   "execution_count": 7,
   "metadata": {},
   "outputs": [
    {
     "name": "stdout",
     "output_type": "stream",
     "text": [
      "species     sepal_width\n",
      "setosa      2.3            4.500000\n",
      "            2.9            4.400000\n",
      "            3.0            4.700000\n",
      "            3.1            4.800000\n",
      "            3.2            4.680000\n",
      "            3.3            5.050000\n",
      "            3.4            5.033333\n",
      "            3.5            5.150000\n",
      "            3.6            4.833333\n",
      "            3.7            5.266667\n",
      "            3.8            5.250000\n",
      "            3.9            5.400000\n",
      "            4.0            5.800000\n",
      "            4.1            5.200000\n",
      "            4.2            5.500000\n",
      "            4.4            5.700000\n",
      "versicolor  2.0            5.000000\n",
      "            2.2            6.100000\n",
      "            2.3            5.600000\n",
      "            2.4            5.300000\n",
      "            2.5            5.625000\n",
      "            2.6            5.666667\n",
      "            2.7            5.680000\n",
      "            2.8            6.150000\n",
      "            2.9            6.085714\n",
      "            3.0            5.950000\n",
      "            3.1            6.766667\n",
      "            3.2            6.433333\n",
      "            3.3            6.300000\n",
      "            3.4            6.000000\n",
      "virginica   2.2            6.000000\n",
      "            2.5            5.900000\n",
      "            2.6            6.900000\n",
      "            2.7            6.075000\n",
      "            2.8            6.475000\n",
      "            2.9            6.800000\n",
      "            3.0            6.716667\n",
      "            3.1            6.725000\n",
      "            3.2            6.760000\n",
      "            3.3            6.566667\n",
      "            3.4            6.250000\n",
      "            3.6            7.200000\n",
      "            3.8            7.800000\n",
      "Name: sepal_length, dtype: float64\n"
     ]
    }
   ],
   "source": [
    "#Agrupar por multiples columnas\n",
    "print(df.groupby([\"species\", \"sepal_width\"])[\"sepal_length\"].mean())"
   ]
  },
  {
   "cell_type": "markdown",
   "metadata": {},
   "source": [
    "## Applying custom functions with groupby"
   ]
  },
  {
   "cell_type": "code",
   "execution_count": 8,
   "metadata": {},
   "outputs": [
    {
     "name": "stdout",
     "output_type": "stream",
     "text": [
      "species\n",
      "setosa        1.5\n",
      "versicolor    2.1\n",
      "virginica     3.0\n",
      "Name: sepal_length, dtype: float64\n"
     ]
    }
   ],
   "source": [
    "#Aplicar funciones personalizadas con groupby\n",
    "def rango(x):\n",
    "    return x.max() - x.min()\n",
    "print(df.groupby(\"species\")[\"sepal_length\"].agg(rango))"
   ]
  }
 ],
 "metadata": {
  "kernelspec": {
   "display_name": "Python 3",
   "language": "python",
   "name": "python3"
  },
  "language_info": {
   "codemirror_mode": {
    "name": "ipython",
    "version": 3
   },
   "file_extension": ".py",
   "mimetype": "text/x-python",
   "name": "python",
   "nbconvert_exporter": "python",
   "pygments_lexer": "ipython3",
   "version": "3.13.2"
  }
 },
 "nbformat": 4,
 "nbformat_minor": 2
}
