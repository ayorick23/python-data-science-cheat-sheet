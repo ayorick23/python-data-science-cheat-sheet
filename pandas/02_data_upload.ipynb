{
 "cells": [
  {
   "cell_type": "markdown",
   "metadata": {},
   "source": [
    "# Data Upload\n",
    "\n",
    "## Carga de datos\n",
    "\n",
    "En Pandas, la carga de datos se realiza principalmente utilizando funciones como `read_csv()`, `read_excel()`, `read_json()`, entre otras, que permiten importar datos desde diferentes formatos de archivo a un DataFrame de Pandas. Estas funciones facilitan la manipulación y análisis de datos tabulares. "
   ]
  },
  {
   "cell_type": "code",
   "execution_count": 1,
   "metadata": {},
   "outputs": [],
   "source": [
    "import pandas as pd"
   ]
  },
  {
   "cell_type": "markdown",
   "metadata": {},
   "source": [
    "## Load data from a CSV file\n",
    "\n",
    "La función `read_csv()` se utiliza para cargar datos desde archivos CSV (*valores separados por comas*)."
   ]
  },
  {
   "cell_type": "code",
   "execution_count": 2,
   "metadata": {},
   "outputs": [
    {
     "name": "stdout",
     "output_type": "stream",
     "text": [
      "        Name  Age      Occupation\n",
      "0     Dereck   25        Engineer\n",
      "1  Alejandra   28  Data Scientist\n",
      "2    Charlie   35         Teacher\n"
     ]
    }
   ],
   "source": [
    "#Cargar datos desde un archivo CSV\n",
    "df_csv = pd.read_csv('data.csv') #asegurarse de tener el archivo data.csv en la misma carpeta que el script\n",
    "print(df_csv.head())"
   ]
  },
  {
   "cell_type": "markdown",
   "metadata": {},
   "source": [
    "El parámetro `sep` se puede usar para especificar el delimitador si no es una coma."
   ]
  },
  {
   "cell_type": "markdown",
   "metadata": {},
   "source": [
    "## Load data from a Excel file\n",
    "\n",
    "La función `read_excel` se utiliza para importar datos de archivos Excel (*.xlsx o .xls*) a un DataFrame. Esta función es versátil y permite leer hojas individuales o múltiples hojas, especificando su nombre o índice. "
   ]
  },
  {
   "cell_type": "code",
   "execution_count": 3,
   "metadata": {},
   "outputs": [
    {
     "name": "stdout",
     "output_type": "stream",
     "text": [
      "        Name  Age      Occupation\n",
      "0     Dereck   25       Engineeer\n",
      "1  Alejandra   28  Data Scientist\n",
      "2    Charlie   30         Teacher\n"
     ]
    }
   ],
   "source": [
    "#Cargar datos desde un archivo Excel\n",
    "df_excel = pd.read_excel('data.xlsx', sheet_name='Hoja1') #requiere openpyxl instalado\n",
    "print(df_excel.head())"
   ]
  },
  {
   "cell_type": "markdown",
   "metadata": {},
   "source": [
    "Se puede especificar la hoja de cálculo a leer con el parámetro `sheet_name`."
   ]
  },
  {
   "cell_type": "markdown",
   "metadata": {},
   "source": [
    "## Loading data from a JSON file\n",
    "\n",
    "La función `read_json()` se utiliza para leer datos desde un archivo JSON o una cadena JSON y convertirlos en un DataFrame. Esta función es útil para trabajar con datos estructurados en formato JSON, ya sea que estén almacenados en archivos locales o disponibles a través de URLs."
   ]
  },
  {
   "cell_type": "code",
   "execution_count": 4,
   "metadata": {},
   "outputs": [
    {
     "name": "stdout",
     "output_type": "stream",
     "text": [
      "                                                data\n",
      "0  {'id': 1, 'name': 'Dereck Mendez', 'age': 25, ...\n",
      "1  {'id': 2, 'name': 'Alejandra Martinez', 'age':...\n",
      "2  {'id': 3, 'name': 'Cristian Rodriguez', 'age':...\n"
     ]
    }
   ],
   "source": [
    "#Cargar datos desde un archivo JSON\n",
    "df_json = pd.read_json('data.json')\n",
    "print(df_json.head())"
   ]
  },
  {
   "cell_type": "markdown",
   "metadata": {},
   "source": [
    "## Loading data from a URL (example with inline CSV)\n",
    "\n",
    "Para cargar datos desde una URL en Pandas, se utiliza la función `read_csv()` (o `read_json()`, `read_html()`, etc., según el formato de los datos) pasando la URL como argumento. Pandas se encargará de descargar y parsear los datos directamente en un DataFrame."
   ]
  },
  {
   "cell_type": "code",
   "execution_count": 5,
   "metadata": {},
   "outputs": [
    {
     "name": "stdout",
     "output_type": "stream",
     "text": [
      "   sepal_length  sepal_width  petal_length  petal_width species\n",
      "0           5.1          3.5           1.4          0.2  setosa\n",
      "1           4.9          3.0           1.4          0.2  setosa\n",
      "2           4.7          3.2           1.3          0.2  setosa\n",
      "3           4.6          3.1           1.5          0.2  setosa\n",
      "4           5.0          3.6           1.4          0.2  setosa\n"
     ]
    }
   ],
   "source": [
    "#Cargar datos desde una URL (ejemplo con CSV en linea)\n",
    "url = 'https://raw.githubusercontent.com/mwaskom/seaborn-data/master/iris.csv'\n",
    "df_url = pd.read_csv(url)\n",
    "print(df_url.head())"
   ]
  },
  {
   "cell_type": "markdown",
   "metadata": {},
   "source": [
    "## Loading data from a SQL database (example with SQLite)\n",
    "\n",
    "Pandas proporciona la función `read_sql` para ejecutar consultas SQL y cargar los resultados en un DataFrame. Esta función actúa como contenedor de `read_sql_query` y `read_sql_table`, seleccionando automáticamente la función adecuada según la entrada.\n",
    "\n",
    "Para usar `read_sql`, necesitas una conexión a una base de datos SQL. Esto se puede lograr mediante bibliotecas como SQLAlchemy, compatible con varios sistemas de bases de datos. Como alternativa, puedes usar un objeto de conexión directa para bases de datos como SQLite."
   ]
  },
  {
   "cell_type": "code",
   "execution_count": null,
   "metadata": {},
   "outputs": [],
   "source": [
    "#Cargar datos desde un archivo SQL (ejemplo con SQLite)\n",
    "import sqlite3\n",
    "\n",
    "conn = sqlite3.connect('data.db') #asegurarse de tener el archivo data.db en la misma carpeta que el script\n",
    "df_sql = pd.read_sql_query(\"SELECT * FROM data\", conn)\n",
    "print(df_sql.head())\n",
    "\n",
    "conn.close()"
   ]
  }
 ],
 "metadata": {
  "kernelspec": {
   "display_name": "Python 3",
   "language": "python",
   "name": "python3"
  },
  "language_info": {
   "codemirror_mode": {
    "name": "ipython",
    "version": 3
   },
   "file_extension": ".py",
   "mimetype": "text/x-python",
   "name": "python",
   "nbconvert_exporter": "python",
   "pygments_lexer": "ipython3",
   "version": "3.13.2"
  }
 },
 "nbformat": 4,
 "nbformat_minor": 2
}
