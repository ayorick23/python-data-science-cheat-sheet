{
 "cells": [
  {
   "cell_type": "markdown",
   "metadata": {},
   "source": [
    "# Introduction to Series and DataFrames"
   ]
  },
  {
   "cell_type": "code",
   "execution_count": 1,
   "metadata": {},
   "outputs": [],
   "source": [
    "import pandas as pd"
   ]
  },
  {
   "cell_type": "markdown",
   "metadata": {},
   "source": [
    "### Check Pandas version"
   ]
  },
  {
   "cell_type": "code",
   "execution_count": 2,
   "metadata": {},
   "outputs": [
    {
     "name": "stdout",
     "output_type": "stream",
     "text": [
      "Version de Pandas: 2.2.3\n"
     ]
    }
   ],
   "source": [
    "#Verificar la version de Pandas\n",
    "print(\"Version de Pandas:\", pd.__version__)"
   ]
  },
  {
   "cell_type": "markdown",
   "metadata": {},
   "source": [
    "### Creating a Series in Pandas"
   ]
  },
  {
   "cell_type": "code",
   "execution_count": 3,
   "metadata": {},
   "outputs": [
    {
     "name": "stdout",
     "output_type": "stream",
     "text": [
      "0    10\n",
      "1    20\n",
      "2    30\n",
      "3    40\n",
      "4    50\n",
      "dtype: int64\n"
     ]
    }
   ],
   "source": [
    "#Creacion de una Serie en Pandas\n",
    "data = [10, 20, 30, 40, 50]\n",
    "serie = pd.Series(data)\n",
    "print(serie)"
   ]
  },
  {
   "cell_type": "markdown",
   "metadata": {},
   "source": [
    "### Creating a Series with custom indexes"
   ]
  },
  {
   "cell_type": "code",
   "execution_count": 4,
   "metadata": {},
   "outputs": [
    {
     "name": "stdout",
     "output_type": "stream",
     "text": [
      "a    10\n",
      "b    20\n",
      "c    30\n",
      "d    40\n",
      "e    50\n",
      "dtype: int64\n"
     ]
    }
   ],
   "source": [
    "#Creacion de una Serie con indices personalizados\n",
    "customSerie = pd.Series(data, index=['a', 'b', 'c', 'd', 'e'])\n",
    "print(customSerie)"
   ]
  },
  {
   "cell_type": "markdown",
   "metadata": {},
   "source": [
    "### Accessing values of a Series"
   ]
  },
  {
   "cell_type": "code",
   "execution_count": 5,
   "metadata": {},
   "outputs": [
    {
     "name": "stdout",
     "output_type": "stream",
     "text": [
      "Valor en indice 'c': 30\n"
     ]
    }
   ],
   "source": [
    "#Acceder a valores de una Serie\n",
    "print(f\"Valor en indice 'c': {customSerie['c']}\")"
   ]
  },
  {
   "cell_type": "markdown",
   "metadata": {},
   "source": [
    "### Creating a DataFrame"
   ]
  },
  {
   "cell_type": "code",
   "execution_count": 6,
   "metadata": {},
   "outputs": [
    {
     "name": "stdout",
     "output_type": "stream",
     "text": [
      "      Nombre  Edad     Ciudad\n",
      "0  Alejandra    25  Barcelona\n",
      "1     Carlos    30     Madrid\n",
      "2      Henry    35   Valencia\n",
      "3   Cristian    40    Sevilla\n"
     ]
    }
   ],
   "source": [
    "#Creacion de un DataFrame\n",
    "datos = {\n",
    "    'Nombre': ['Alejandra', 'Carlos', 'Henry', 'Cristian'],\n",
    "    'Edad': [25, 30, 35, 40],\n",
    "    'Ciudad': ['Barcelona', 'Madrid', 'Valencia', 'Sevilla']\n",
    "}\n",
    "df = pd.DataFrame(datos)\n",
    "print(df)"
   ]
  },
  {
   "cell_type": "markdown",
   "metadata": {},
   "source": [
    "### Access a DataFrame column"
   ]
  },
  {
   "cell_type": "code",
   "execution_count": 7,
   "metadata": {},
   "outputs": [
    {
     "name": "stdout",
     "output_type": "stream",
     "text": [
      "0    Alejandra\n",
      "1       Carlos\n",
      "2        Henry\n",
      "3     Cristian\n",
      "Name: Nombre, dtype: object\n"
     ]
    }
   ],
   "source": [
    "#Acceder a una columna del DataFrame\n",
    "print(df['Nombre'])"
   ]
  },
  {
   "cell_type": "markdown",
   "metadata": {},
   "source": [
    "### Access a specific row"
   ]
  },
  {
   "cell_type": "code",
   "execution_count": 8,
   "metadata": {},
   "outputs": [
    {
     "name": "stdout",
     "output_type": "stream",
     "text": [
      "Nombre    Carlos\n",
      "Edad          30\n",
      "Ciudad    Madrid\n",
      "Name: 1, dtype: object\n"
     ]
    }
   ],
   "source": [
    "#Acceder a una fila especifica\n",
    "print(df.loc[1])"
   ]
  },
  {
   "cell_type": "markdown",
   "metadata": {},
   "source": [
    "### Access a specific cell"
   ]
  },
  {
   "cell_type": "code",
   "execution_count": 9,
   "metadata": {},
   "outputs": [
    {
     "name": "stdout",
     "output_type": "stream",
     "text": [
      "Edad de la segunda persona: 30\n"
     ]
    }
   ],
   "source": [
    "#Acceder a una celda especifica\n",
    "print(f\"Edad de la segunda persona: {df.at[1, 'Edad']}\")"
   ]
  }
 ],
 "metadata": {
  "kernelspec": {
   "display_name": "Python 3",
   "language": "python",
   "name": "python3"
  },
  "language_info": {
   "codemirror_mode": {
    "name": "ipython",
    "version": 3
   },
   "file_extension": ".py",
   "mimetype": "text/x-python",
   "name": "python",
   "nbconvert_exporter": "python",
   "pygments_lexer": "ipython3",
   "version": "3.11.1"
  }
 },
 "nbformat": 4,
 "nbformat_minor": 2
}
