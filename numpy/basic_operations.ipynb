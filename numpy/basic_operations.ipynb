{
 "cells": [
  {
   "cell_type": "markdown",
   "metadata": {},
   "source": [
    "# Basic Operations"
   ]
  },
  {
   "cell_type": "code",
   "execution_count": 1,
   "metadata": {},
   "outputs": [],
   "source": [
    "import numpy as np"
   ]
  },
  {
   "cell_type": "markdown",
   "metadata": {},
   "source": [
    "### Create arrays to perform operations"
   ]
  },
  {
   "cell_type": "code",
   "execution_count": 2,
   "metadata": {},
   "outputs": [],
   "source": [
    "#Crear arrays para realizar operaciones\n",
    "arr1 = np.array([10, 20, 30, 40])\n",
    "arr2 = np.array([1, 2, 3, 4])"
   ]
  },
  {
   "cell_type": "markdown",
   "metadata": {},
   "source": [
    "### Sum of arrays"
   ]
  },
  {
   "cell_type": "code",
   "execution_count": 3,
   "metadata": {},
   "outputs": [
    {
     "name": "stdout",
     "output_type": "stream",
     "text": [
      "Suma de arrays: [11 22 33 44]\n"
     ]
    }
   ],
   "source": [
    "#Suma de arrays\n",
    "suma = arr1 + arr2\n",
    "print(f\"Suma de arrays: {suma}\")"
   ]
  },
  {
   "cell_type": "markdown",
   "metadata": {},
   "source": [
    "### Array substraction"
   ]
  },
  {
   "cell_type": "code",
   "execution_count": 4,
   "metadata": {},
   "outputs": [
    {
     "name": "stdout",
     "output_type": "stream",
     "text": [
      "Resta de arrays: [ 9 18 27 36]\n"
     ]
    }
   ],
   "source": [
    "#Resta de arrays\n",
    "resta = arr1 - arr2\n",
    "print(f\"Resta de arrays: {resta}\")"
   ]
  },
  {
   "cell_type": "markdown",
   "metadata": {},
   "source": [
    "### Element by element multiplication"
   ]
  },
  {
   "cell_type": "code",
   "execution_count": 5,
   "metadata": {},
   "outputs": [
    {
     "name": "stdout",
     "output_type": "stream",
     "text": [
      "Multiplicacion de arrays: [ 10  40  90 160]\n"
     ]
    }
   ],
   "source": [
    "#Multiplicacion elemento por elemento\n",
    "multiplicacion = arr1 * arr2\n",
    "print(f\"Multiplicacion de arrays: {multiplicacion}\")"
   ]
  },
  {
   "cell_type": "markdown",
   "metadata": {},
   "source": [
    "### Element by element division"
   ]
  },
  {
   "cell_type": "code",
   "execution_count": 6,
   "metadata": {},
   "outputs": [
    {
     "name": "stdout",
     "output_type": "stream",
     "text": [
      "Divison de arrays: [10. 10. 10. 10.]\n"
     ]
    }
   ],
   "source": [
    "#Division elemento por elemento\n",
    "division = arr1 / arr2\n",
    "print(f\"Divison de arrays: {division}\")"
   ]
  },
  {
   "cell_type": "markdown",
   "metadata": {},
   "source": [
    "### Element by element power"
   ]
  },
  {
   "cell_type": "code",
   "execution_count": 7,
   "metadata": {},
   "outputs": [
    {
     "name": "stdout",
     "output_type": "stream",
     "text": [
      "Potencia de cada elemento de arr1: [ 100  400  900 1600]\n"
     ]
    }
   ],
   "source": [
    "#Potencia elemento por elemento\n",
    "potencia = arr1 ** 2\n",
    "print(f\"Potencia de cada elemento de arr1: {potencia}\")"
   ]
  },
  {
   "cell_type": "markdown",
   "metadata": {},
   "source": [
    "### Operations with NumPy functions"
   ]
  },
  {
   "cell_type": "code",
   "execution_count": 8,
   "metadata": {},
   "outputs": [
    {
     "name": "stdout",
     "output_type": "stream",
     "text": [
      "Raiz cuadrada de arr1: [10 20 30 40]\n",
      "Logaritmo natural de arr1: [2.30258509 2.99573227 3.40119738 3.68887945]\n",
      "Logaritmo base 10 de arr1: [1.         1.30103    1.47712125 1.60205999]\n",
      "Exponencial de arr1: [2.20264658e+04 4.85165195e+08 1.06864746e+13 2.35385267e+17]\n",
      "Valor absoluto de (arr1 - 25): [15  5  5 15]\n",
      "Seno de arr1 en grados: [0.17364818 0.34202014 0.5        0.64278761]\n",
      "Coseno de arr1 en grados: [0.98480775 0.93969262 0.8660254  0.76604444]\n",
      "Tangente de arr1 en grados: [0.17632698 0.36397023 0.57735027 0.83909963]\n"
     ]
    }
   ],
   "source": [
    "#Operaciones con funciones de NumPy\n",
    "raiz_cuadrada = np.sqrt(arr1)\n",
    "print(f\"Raiz cuadrada de arr1: {arr1}\")\n",
    "\n",
    "logaritmo = np.log(arr1)\n",
    "print(f\"Logaritmo natural de arr1: {logaritmo}\")\n",
    "\n",
    "logaritmoBase10 = np.log10(arr1)\n",
    "print(f\"Logaritmo base 10 de arr1: {logaritmoBase10}\")\n",
    "\n",
    "exponencial = np.exp(arr1)\n",
    "print(f\"Exponencial de arr1: {exponencial}\")\n",
    "\n",
    "valorAbsoluto = np.abs(arr1 - 25)\n",
    "print(f\"Valor absoluto de (arr1 - 25): {valorAbsoluto}\")\n",
    "\n",
    "seno = np.sin(np.radians(arr1))\n",
    "print(f\"Seno de arr1 en grados: {seno}\")\n",
    "\n",
    "coseno = np.cos(np.radians(arr1))\n",
    "print(f\"Coseno de arr1 en grados: {coseno}\")\n",
    "\n",
    "tangente = np.tan(np.radians(arr1))\n",
    "print(f\"Tangente de arr1 en grados: {tangente}\")"
   ]
  },
  {
   "cell_type": "markdown",
   "metadata": {},
   "source": [
    "### Stadistics operations"
   ]
  },
  {
   "cell_type": "code",
   "execution_count": 9,
   "metadata": {},
   "outputs": [
    {
     "name": "stdout",
     "output_type": "stream",
     "text": [
      "Suma total de arr1: 100\n",
      "Promedio de arr1: 25.0\n",
      "Mediana de arr1: 25.0\n",
      "Percentil 50 de arr1: 25.0\n",
      "Maximo valor en arr1: 40\n",
      "Minimo valor en arr1:  10\n",
      "Varianza de arr1: 125.0\n",
      "Desviacion estandar de arr1: 11.180339887498949\n"
     ]
    }
   ],
   "source": [
    "#Operaciones estadisticas\n",
    "print(f\"Suma total de arr1: {np.sum(arr1)}\")\n",
    "print(f\"Promedio de arr1: {np.mean(arr1)}\")\n",
    "print(f\"Mediana de arr1: {np.median(arr1)}\")\n",
    "print(f\"Percentil 50 de arr1: {np.percentile(arr1, 50)}\")\n",
    "print(f\"Maximo valor en arr1: {np.max(arr1)}\")\n",
    "print(f\"Minimo valor en arr1:  {np.min(arr1)}\")\n",
    "print(f\"Varianza de arr1: {np.var(arr1)}\")\n",
    "print(f\"Desviacion estandar de arr1: {np.std(arr1)}\")"
   ]
  }
 ],
 "metadata": {
  "kernelspec": {
   "display_name": "Python 3",
   "language": "python",
   "name": "python3"
  },
  "language_info": {
   "codemirror_mode": {
    "name": "ipython",
    "version": 3
   },
   "file_extension": ".py",
   "mimetype": "text/x-python",
   "name": "python",
   "nbconvert_exporter": "python",
   "pygments_lexer": "ipython3",
   "version": "3.11.1"
  }
 },
 "nbformat": 4,
 "nbformat_minor": 2
}
