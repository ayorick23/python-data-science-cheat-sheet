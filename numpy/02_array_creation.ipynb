{
 "cells": [
  {
   "cell_type": "markdown",
   "metadata": {},
   "source": [
    "# Array Creation"
   ]
  },
  {
   "cell_type": "code",
   "execution_count": 8,
   "metadata": {},
   "outputs": [],
   "source": [
    "import numpy as np"
   ]
  },
  {
   "cell_type": "markdown",
   "metadata": {},
   "source": [
    "## Create an array from a list"
   ]
  },
  {
   "cell_type": "code",
   "execution_count": 9,
   "metadata": {},
   "outputs": [
    {
     "name": "stdout",
     "output_type": "stream",
     "text": [
      "Array desde lista: [1 2 3 4 5]\n"
     ]
    }
   ],
   "source": [
    "#Crear un array a partir de una lista\n",
    "lista = [1, 2, 3, 4, 5]\n",
    "arr1 = np.array(lista)\n",
    "print(f\"Array desde lista: {arr1}\")"
   ]
  },
  {
   "cell_type": "markdown",
   "metadata": {},
   "source": [
    "## Create an array with a range of values"
   ]
  },
  {
   "cell_type": "code",
   "execution_count": 10,
   "metadata": {},
   "outputs": [
    {
     "name": "stdout",
     "output_type": "stream",
     "text": [
      "Array con np.arange: [0 2 4 6 8]\n"
     ]
    }
   ],
   "source": [
    "#Crear un array con un rango de valores\n",
    "arr2 = np.arange(0, 10, 2) #valores de 0 a 10 con paso de 2\n",
    "print(f\"Array con np.arange: {arr2}\")"
   ]
  },
  {
   "cell_type": "markdown",
   "metadata": {},
   "source": [
    "## Create an array of zeros and ones"
   ]
  },
  {
   "cell_type": "code",
   "execution_count": 11,
   "metadata": {},
   "outputs": [
    {
     "name": "stdout",
     "output_type": "stream",
     "text": [
      "Array de ceros:\n",
      "[[0. 0. 0.]\n",
      " [0. 0. 0.]\n",
      " [0. 0. 0.]]\n",
      "Array de unos:\n",
      "[[1. 1. 1. 1.]\n",
      " [1. 1. 1. 1.]]\n"
     ]
    }
   ],
   "source": [
    "#Crear un array de ceros y unos\n",
    "zeros = np.zeros((3, 3))\n",
    "ones = np.ones((2, 4))\n",
    "\n",
    "print(f\"Array de ceros:\\n{zeros}\")\n",
    "print(f\"Array de unos:\\n{ones}\")"
   ]
  },
  {
   "cell_type": "markdown",
   "metadata": {},
   "source": [
    "## Create an identity matrix"
   ]
  },
  {
   "cell_type": "code",
   "execution_count": 12,
   "metadata": {},
   "outputs": [
    {
     "name": "stdout",
     "output_type": "stream",
     "text": [
      "Matriz identidad:\n",
      "[[1. 0. 0.]\n",
      " [0. 1. 0.]\n",
      " [0. 0. 1.]]\n"
     ]
    }
   ],
   "source": [
    "#Crear una matriz identidad\n",
    "identity = np.eye(3)\n",
    "print(f\"Matriz identidad:\\n{identity}\")"
   ]
  },
  {
   "cell_type": "markdown",
   "metadata": {},
   "source": [
    "## Create an array of random numbers"
   ]
  },
  {
   "cell_type": "code",
   "execution_count": 13,
   "metadata": {},
   "outputs": [
    {
     "name": "stdout",
     "output_type": "stream",
     "text": [
      "Array aleatorio con np.random.rand:\n",
      "[[0.97170952 0.92714337 0.37787365]\n",
      " [0.18340484 0.02488135 0.74921834]\n",
      " [0.48716593 0.04411193 0.35253534]]\n"
     ]
    }
   ],
   "source": [
    "#Crear un array de números aleatorios\n",
    "randomArr = np.random.rand(3, 3) #matriz 3x3 con valores aleatorios entre 0 y 1\n",
    "print(f\"Array aleatorio con np.random.rand:\\n{randomArr}\")"
   ]
  },
  {
   "cell_type": "markdown",
   "metadata": {},
   "source": [
    "## Create an array with normal distribution"
   ]
  },
  {
   "cell_type": "code",
   "execution_count": 14,
   "metadata": {},
   "outputs": [
    {
     "name": "stdout",
     "output_type": "stream",
     "text": [
      "Array con distribucion normal:\n",
      "[[ 1.09954238  0.1449382   0.47306478]\n",
      " [-1.00764594 -1.88206027  1.78892369]\n",
      " [ 0.747854   -0.85165986 -0.9338296 ]]\n"
     ]
    }
   ],
   "source": [
    "#Crear un array con distribución normal\n",
    "normalArr = np.random.randn(3, 3) #matriz 3x3 con distribución normal estándar\n",
    "print(f\"Array con distribucion normal:\\n{normalArr}\")"
   ]
  }
 ],
 "metadata": {
  "kernelspec": {
   "display_name": "Python 3",
   "language": "python",
   "name": "python3"
  },
  "language_info": {
   "codemirror_mode": {
    "name": "ipython",
    "version": 3
   },
   "file_extension": ".py",
   "mimetype": "text/x-python",
   "name": "python",
   "nbconvert_exporter": "python",
   "pygments_lexer": "ipython3",
   "version": "3.13.2"
  }
 },
 "nbformat": 4,
 "nbformat_minor": 2
}
