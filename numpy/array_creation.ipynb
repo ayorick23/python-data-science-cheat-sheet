{
 "cells": [
  {
   "cell_type": "markdown",
   "metadata": {},
   "source": [
    "# Array Creation"
   ]
  },
  {
   "cell_type": "markdown",
   "metadata": {},
   "source": [
    "### Import the library"
   ]
  },
  {
   "cell_type": "code",
   "execution_count": 1,
   "metadata": {},
   "outputs": [],
   "source": [
    "#Importar la libreria\n",
    "import numpy as np"
   ]
  },
  {
   "cell_type": "markdown",
   "metadata": {},
   "source": [
    "### Create an array from a list"
   ]
  },
  {
   "cell_type": "code",
   "execution_count": 2,
   "metadata": {},
   "outputs": [
    {
     "name": "stdout",
     "output_type": "stream",
     "text": [
      "Array desde lista: [1 2 3 4 5]\n"
     ]
    }
   ],
   "source": [
    "#Crear un array a partir de una lista\n",
    "lista = [1, 2, 3, 4, 5]\n",
    "arr1 = np.array(lista)\n",
    "print(f\"Array desde lista: {arr1}\")"
   ]
  },
  {
   "cell_type": "markdown",
   "metadata": {},
   "source": [
    "### Create an array with a range of values"
   ]
  },
  {
   "cell_type": "code",
   "execution_count": 3,
   "metadata": {},
   "outputs": [
    {
     "name": "stdout",
     "output_type": "stream",
     "text": [
      "\n",
      "Array con np.arange: [0 2 4 6 8]\n"
     ]
    }
   ],
   "source": [
    "#Crear un array con un rango de valores\n",
    "arr2 = np.arange(0, 10, 2) #valores de 0 a 10 con paso de 2\n",
    "print(f\"\\nArray con np.arange: {arr2}\")"
   ]
  },
  {
   "cell_type": "markdown",
   "metadata": {},
   "source": [
    "### Create an array of zeros and ones"
   ]
  },
  {
   "cell_type": "code",
   "execution_count": 4,
   "metadata": {},
   "outputs": [
    {
     "name": "stdout",
     "output_type": "stream",
     "text": [
      "Array de ceros: [[0. 0. 0.]\n",
      " [0. 0. 0.]\n",
      " [0. 0. 0.]]\n",
      "Array de unos: [[1. 1. 1. 1.]\n",
      " [1. 1. 1. 1.]]\n"
     ]
    }
   ],
   "source": [
    "#Crear un array de ceros y unos\n",
    "zeros = np.zeros((3, 3))\n",
    "ones = np.ones((2, 4))\n",
    "\n",
    "print(f\"Array de ceros: {zeros}\")\n",
    "print(f\"Array de unos: {ones}\")"
   ]
  },
  {
   "cell_type": "markdown",
   "metadata": {},
   "source": [
    "### Create an identity matrix"
   ]
  },
  {
   "cell_type": "code",
   "execution_count": 5,
   "metadata": {},
   "outputs": [
    {
     "name": "stdout",
     "output_type": "stream",
     "text": [
      "Matriz identidad: [[1. 0. 0. 0.]\n",
      " [0. 1. 0. 0.]\n",
      " [0. 0. 1. 0.]\n",
      " [0. 0. 0. 1.]]\n"
     ]
    }
   ],
   "source": [
    "#Crear una matriz identidad\n",
    "identity = np.eye(4)\n",
    "print(f\"Matriz identidad: {identity}\")"
   ]
  },
  {
   "cell_type": "markdown",
   "metadata": {},
   "source": [
    "### Create an array of random numbers"
   ]
  },
  {
   "cell_type": "code",
   "execution_count": 6,
   "metadata": {},
   "outputs": [
    {
     "name": "stdout",
     "output_type": "stream",
     "text": [
      "Array aleatorio con np.random.rand: [[0.56403789 0.77575819 0.35700293]\n",
      " [0.63803511 0.64365231 0.84668492]\n",
      " [0.35570475 0.50337574 0.30231828]]\n"
     ]
    }
   ],
   "source": [
    "#Crear un array de numeros aleatorios\n",
    "randomArr = np.random.rand(3, 3) #matriz 3x3 con valores aleatorios entre 0 y 1\n",
    "print(f\"Array aleatorio con np.random.rand: {randomArr}\")"
   ]
  },
  {
   "cell_type": "markdown",
   "metadata": {},
   "source": [
    "### Create an array with normal distribution"
   ]
  },
  {
   "cell_type": "code",
   "execution_count": 7,
   "metadata": {},
   "outputs": [
    {
     "name": "stdout",
     "output_type": "stream",
     "text": [
      "Array con distribucion normal: [[-1.56213178 -0.5675154   0.13563617]\n",
      " [ 0.03904067 -0.32966893  0.21443235]\n",
      " [ 0.47305071  0.55045954 -0.18563861]]\n"
     ]
    }
   ],
   "source": [
    "#Crear un array con distribucion normal\n",
    "normalArr = np.random.randn(3, 3) #matriz 3x3 con distribucion normal estandar\n",
    "print(f\"Array con distribucion normal: {normalArr}\")"
   ]
  }
 ],
 "metadata": {
  "kernelspec": {
   "display_name": "Python 3",
   "language": "python",
   "name": "python3"
  },
  "language_info": {
   "codemirror_mode": {
    "name": "ipython",
    "version": 3
   },
   "file_extension": ".py",
   "mimetype": "text/x-python",
   "name": "python",
   "nbconvert_exporter": "python",
   "pygments_lexer": "ipython3",
   "version": "3.11.1"
  }
 },
 "nbformat": 4,
 "nbformat_minor": 2
}
