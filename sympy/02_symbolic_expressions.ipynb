{
 "cells": [
  {
   "cell_type": "markdown",
   "metadata": {},
   "source": [
    "# Symbolic Expressions"
   ]
  },
  {
   "cell_type": "code",
   "execution_count": null,
   "metadata": {},
   "outputs": [],
   "source": [
    "import sympy as sp"
   ]
  },
  {
   "cell_type": "markdown",
   "metadata": {},
   "source": [
    "## Initialize pretty math print"
   ]
  },
  {
   "cell_type": "code",
   "execution_count": null,
   "metadata": {},
   "outputs": [],
   "source": [
    "#Inicializar impresión matemática bonita\n",
    "sp.init_printing()"
   ]
  },
  {
   "cell_type": "markdown",
   "metadata": {},
   "source": [
    "## Define symbolic variables"
   ]
  },
  {
   "cell_type": "code",
   "execution_count": null,
   "metadata": {},
   "outputs": [],
   "source": [
    "#Definir variables simbólicas\n",
    "x, y, z = sp.symbols(\"x y z\")"
   ]
  },
  {
   "cell_type": "markdown",
   "metadata": {},
   "source": [
    "## Create algebraic expressions"
   ]
  },
  {
   "cell_type": "code",
   "execution_count": null,
   "metadata": {},
   "outputs": [],
   "source": [
    "#Crear expresiones algebraicas\n",
    "expr1 = x**2 + 3*x + 2\n",
    "expr2 = (x + 1) * (x - 2)\n",
    "print(f\"Primera expresion: {expr1}\")\n",
    "print(f\"Segunda expresion: {expr2}\")"
   ]
  },
  {
   "cell_type": "markdown",
   "metadata": {},
   "source": [
    "## Evaluate an expression by substituting values"
   ]
  },
  {
   "cell_type": "code",
   "execution_count": null,
   "metadata": {},
   "outputs": [],
   "source": [
    "#Evaluar una expresión sustituyendo valores\n",
    "value = expr1.subs(x, 2)\n",
    "print(f\"Expresion sustituida: {value}\")"
   ]
  },
  {
   "cell_type": "markdown",
   "metadata": {},
   "source": [
    "## Evaluate an expression numerically"
   ]
  },
  {
   "cell_type": "code",
   "execution_count": null,
   "metadata": {},
   "outputs": [],
   "source": [
    "#Evaluar una expresión de forma numérica\n",
    "numeric_value = expr1.evalf(subs={x: 2.5})\n",
    "print(f\"Expresion sustituida de forma numerica: {numeric_value}\")"
   ]
  },
  {
   "cell_type": "markdown",
   "metadata": {},
   "source": [
    "## Expand an expression"
   ]
  },
  {
   "cell_type": "code",
   "execution_count": null,
   "metadata": {},
   "outputs": [],
   "source": [
    "#Expandir una expresión\n",
    "expanded = sp.expand(expr2)\n",
    "print(f\"Expresion expandida: {expanded}\")"
   ]
  },
  {
   "cell_type": "markdown",
   "metadata": {},
   "source": [
    "## Factor an expression"
   ]
  },
  {
   "cell_type": "code",
   "execution_count": null,
   "metadata": {},
   "outputs": [],
   "source": [
    "#Factorizar una expresión\n",
    "factored = sp.factor(expr1)\n",
    "print(f\"Expresion factorizada: {factored}\")"
   ]
  },
  {
   "cell_type": "markdown",
   "metadata": {},
   "source": [
    "### Explanation\n",
    "- ``sp.symbols('x y z')`` -> Crea múltiples variables simbólicas\n",
    "- ``expr = x**2 + 3*x + 2`` -> Define una expresión algebraica\n",
    "- ``expr.subs(x, 2)`` -> Sustitye ``x`` por ``2``\n",
    "- ``expr.evalf(subs={x: 2.5})`` -> Evalúa numéricamente\n",
    "- ``sp.expand(expr)`` -> Expande productos en sumas\n",
    "- ``sp.factor(expr)`` -> Factoriza la expresión"
   ]
  }
 ],
 "metadata": {
  "language_info": {
   "name": "python"
  }
 },
 "nbformat": 4,
 "nbformat_minor": 2
}
