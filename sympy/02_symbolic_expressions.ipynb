{
 "cells": [
  {
   "cell_type": "markdown",
   "metadata": {},
   "source": [
    "# Symbolic Expressions"
   ]
  },
  {
   "cell_type": "code",
   "execution_count": 1,
   "metadata": {},
   "outputs": [],
   "source": [
    "import sympy as sp"
   ]
  },
  {
   "cell_type": "markdown",
   "metadata": {},
   "source": [
    "## Initialize pretty math print"
   ]
  },
  {
   "cell_type": "code",
   "execution_count": 2,
   "metadata": {},
   "outputs": [],
   "source": [
    "#Inicializar impresión matemática bonita\n",
    "sp.init_printing()"
   ]
  },
  {
   "cell_type": "markdown",
   "metadata": {},
   "source": [
    "## Define symbolic variables"
   ]
  },
  {
   "cell_type": "code",
   "execution_count": 3,
   "metadata": {},
   "outputs": [],
   "source": [
    "#Definir variables simbólicas\n",
    "x, y, z = sp.symbols(\"x y z\")"
   ]
  },
  {
   "cell_type": "markdown",
   "metadata": {},
   "source": [
    "## Create algebraic expressions"
   ]
  },
  {
   "cell_type": "code",
   "execution_count": 4,
   "metadata": {},
   "outputs": [
    {
     "name": "stdout",
     "output_type": "stream",
     "text": [
      "Primera expresion: x**2 + 3*x + 2\n",
      "Segunda expresion: (x - 2)*(x + 1)\n"
     ]
    }
   ],
   "source": [
    "#Crear expresiones algebraicas\n",
    "expr1 = x**2 + 3*x + 2\n",
    "expr2 = (x + 1) * (x - 2)\n",
    "print(f\"Primera expresion: {expr1}\")\n",
    "print(f\"Segunda expresion: {expr2}\")"
   ]
  },
  {
   "cell_type": "markdown",
   "metadata": {},
   "source": [
    "## Evaluate an expression by substituting values"
   ]
  },
  {
   "cell_type": "code",
   "execution_count": 5,
   "metadata": {},
   "outputs": [
    {
     "name": "stdout",
     "output_type": "stream",
     "text": [
      "Expresion sustituida: 12\n"
     ]
    }
   ],
   "source": [
    "#Evaluar una expresión sustituyendo valores\n",
    "value = expr1.subs(x, 2)\n",
    "print(f\"Expresion sustituida: {value}\")"
   ]
  },
  {
   "cell_type": "markdown",
   "metadata": {},
   "source": [
    "## Evaluate an expression numerically"
   ]
  },
  {
   "cell_type": "code",
   "execution_count": 6,
   "metadata": {},
   "outputs": [
    {
     "name": "stdout",
     "output_type": "stream",
     "text": [
      "Expresion sustituida de forma numerica: 15.7500000000000\n"
     ]
    }
   ],
   "source": [
    "#Evaluar una expresión de forma numérica\n",
    "numeric_value = expr1.evalf(subs={x: 2.5})\n",
    "print(f\"Expresion sustituida de forma numerica: {numeric_value}\")"
   ]
  },
  {
   "cell_type": "markdown",
   "metadata": {},
   "source": [
    "## Expand an expression"
   ]
  },
  {
   "cell_type": "code",
   "execution_count": 7,
   "metadata": {},
   "outputs": [
    {
     "name": "stdout",
     "output_type": "stream",
     "text": [
      "Expresion expandida: x**2 - x - 2\n"
     ]
    }
   ],
   "source": [
    "#Expandir una expresión\n",
    "expanded = sp.expand(expr2)\n",
    "print(f\"Expresion expandida: {expanded}\")"
   ]
  },
  {
   "cell_type": "markdown",
   "metadata": {},
   "source": [
    "## Factor an expression"
   ]
  },
  {
   "cell_type": "code",
   "execution_count": 8,
   "metadata": {},
   "outputs": [
    {
     "name": "stdout",
     "output_type": "stream",
     "text": [
      "Expresion factorizada: (x + 1)*(x + 2)\n"
     ]
    }
   ],
   "source": [
    "#Factorizar una expresión\n",
    "factored = sp.factor(expr1)\n",
    "print(f\"Expresion factorizada: {factored}\")"
   ]
  },
  {
   "cell_type": "markdown",
   "metadata": {},
   "source": [
    "### Explanation\n",
    "- ``sp.symbols('x y z')`` -> Crea múltiples variables simbólicas\n",
    "- ``expr = x**2 + 3*x + 2`` -> Define una expresión algebraica\n",
    "- ``expr.subs(x, 2)`` -> Sustitye ``x`` por ``2``\n",
    "- ``expr.evalf(subs={x: 2.5})`` -> Evalúa numéricamente\n",
    "- ``sp.expand(expr)`` -> Expande productos en sumas\n",
    "- ``sp.factor(expr)`` -> Factoriza la expresión"
   ]
  }
 ],
 "metadata": {
  "kernelspec": {
   "display_name": "Python 3",
   "language": "python",
   "name": "python3"
  },
  "language_info": {
   "codemirror_mode": {
    "name": "ipython",
    "version": 3
   },
   "file_extension": ".py",
   "mimetype": "text/x-python",
   "name": "python",
   "nbconvert_exporter": "python",
   "pygments_lexer": "ipython3",
   "version": "3.13.2"
  }
 },
 "nbformat": 4,
 "nbformat_minor": 2
}
