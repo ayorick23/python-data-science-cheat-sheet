{
 "cells": [
  {
   "cell_type": "markdown",
   "metadata": {},
   "source": [
    "# Integrals"
   ]
  },
  {
   "cell_type": "code",
   "execution_count": 1,
   "metadata": {},
   "outputs": [],
   "source": [
    "import sympy as sp"
   ]
  },
  {
   "cell_type": "markdown",
   "metadata": {},
   "source": [
    "## Initialize pretty math print"
   ]
  },
  {
   "cell_type": "code",
   "execution_count": 2,
   "metadata": {},
   "outputs": [],
   "source": [
    "#Inicializar impresión matemática bonita\n",
    "sp.init_printing()"
   ]
  },
  {
   "cell_type": "markdown",
   "metadata": {},
   "source": [
    "## Define symbolic variable"
   ]
  },
  {
   "cell_type": "code",
   "execution_count": 3,
   "metadata": {},
   "outputs": [],
   "source": [
    "#Definir variable simbólica\n",
    "x = sp.Symbol('x')"
   ]
  },
  {
   "cell_type": "markdown",
   "metadata": {},
   "source": [
    "## Define a function"
   ]
  },
  {
   "cell_type": "code",
   "execution_count": 4,
   "metadata": {},
   "outputs": [
    {
     "name": "stdout",
     "output_type": "stream",
     "text": [
      "Función original: x**3 + 2*x**2 - 5*x + 7\n"
     ]
    }
   ],
   "source": [
    "#Definir una función\n",
    "f = x**3 + 2*x**2 - 5*x + 7\n",
    "print(f\"Función original: {f}\")"
   ]
  },
  {
   "cell_type": "markdown",
   "metadata": {},
   "source": [
    "## Calculate the indefinite integral"
   ]
  },
  {
   "cell_type": "code",
   "execution_count": 5,
   "metadata": {},
   "outputs": [
    {
     "name": "stdout",
     "output_type": "stream",
     "text": [
      "Integral indefinida: x**4/4 + 2*x**3/3 - 5*x**2/2 + 7*x\n"
     ]
    }
   ],
   "source": [
    "#Calcular la integral indefinida\n",
    "integral_indefinida = sp.integrate(f, x)\n",
    "print(f\"Integral indefinida: {integral_indefinida}\")"
   ]
  },
  {
   "cell_type": "markdown",
   "metadata": {},
   "source": [
    "## Calculate the definite integral between 0 and 2"
   ]
  },
  {
   "cell_type": "code",
   "execution_count": 6,
   "metadata": {},
   "outputs": [
    {
     "name": "stdout",
     "output_type": "stream",
     "text": [
      "Integral definida entre 0 y 2: 40/3\n"
     ]
    }
   ],
   "source": [
    "#Calcular la integral definida entre 0 y 2\n",
    "integral_definida = sp.integrate(f, (x, 0, 2))\n",
    "print(f\"Integral definida entre 0 y 2: {integral_definida}\")"
   ]
  },
  {
   "cell_type": "markdown",
   "metadata": {},
   "source": [
    "### Explanation\n",
    "- ``sp.integrate(f, x)`` -> Calcula la integral indefinida de ``f`` respecto a ``x``\n",
    "- ``sp.integrate(f, (x, a, b))`` -> Calcula la integral definida de ``f`` entre ``x = a`` y ``x = b``"
   ]
  }
 ],
 "metadata": {
  "kernelspec": {
   "display_name": "Python 3",
   "language": "python",
   "name": "python3"
  },
  "language_info": {
   "codemirror_mode": {
    "name": "ipython",
    "version": 3
   },
   "file_extension": ".py",
   "mimetype": "text/x-python",
   "name": "python",
   "nbconvert_exporter": "python",
   "pygments_lexer": "ipython3",
   "version": "3.13.2"
  }
 },
 "nbformat": 4,
 "nbformat_minor": 2
}
