{
 "cells": [
  {
   "cell_type": "markdown",
   "metadata": {},
   "source": [
    "# Series and Limits"
   ]
  },
  {
   "cell_type": "code",
   "execution_count": null,
   "metadata": {},
   "outputs": [],
   "source": [
    "import sympy as sp"
   ]
  },
  {
   "cell_type": "markdown",
   "metadata": {},
   "source": [
    "## Define a symbolic variable"
   ]
  },
  {
   "cell_type": "code",
   "execution_count": null,
   "metadata": {},
   "outputs": [],
   "source": [
    "#Definir una variable simbólica\n",
    "x = sp.Symbol('x')"
   ]
  },
  {
   "cell_type": "markdown",
   "metadata": {},
   "source": [
    "## Function for Taylor series expansion"
   ]
  },
  {
   "cell_type": "code",
   "execution_count": null,
   "metadata": {},
   "outputs": [],
   "source": [
    "#Función para expansión en serie de Taylor\n",
    "f = sp.sin(x)\n",
    "serieTaylor = f.series(x, 0, 6) #expansión en torno a x=o hasta el término de grado 5\n",
    "print(f\"Expansión en serie de Taylor de sin(x) hasta x^5:\\n {serieTaylor}\")"
   ]
  },
  {
   "cell_type": "markdown",
   "metadata": {},
   "source": [
    "## Limit calculation"
   ]
  },
  {
   "cell_type": "code",
   "execution_count": null,
   "metadata": {},
   "outputs": [],
   "source": [
    "#Cálculo de límites\n",
    "g = (sp.sin(x)) / x\n",
    "limite_g = sp.limit(g, x, 0) #límite cuando x -> 0\n",
    "print(f\"Límite de sin(x)/x cuando x tiende a 0: {limite_g}\")"
   ]
  },
  {
   "cell_type": "markdown",
   "metadata": {},
   "source": [
    "### Explanation\n",
    "- ``f.series(x, 0, 6)`` -> Expande ``f`` en serie de Taylor en torno a x = 0 hasta el término de ``x^5``\n",
    "- ``sp.limit(f, x, a)`` -> Calcula el límite de ``f`` cuando ``x -> a``"
   ]
  }
 ],
 "metadata": {
  "language_info": {
   "name": "python"
  }
 },
 "nbformat": 4,
 "nbformat_minor": 2
}
