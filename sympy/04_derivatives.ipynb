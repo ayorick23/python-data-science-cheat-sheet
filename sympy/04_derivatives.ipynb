{
 "cells": [
  {
   "cell_type": "markdown",
   "metadata": {},
   "source": [
    "# Derivatives"
   ]
  },
  {
   "cell_type": "code",
   "execution_count": 1,
   "metadata": {},
   "outputs": [],
   "source": [
    "import sympy as sp"
   ]
  },
  {
   "cell_type": "markdown",
   "metadata": {},
   "source": [
    "## Initialize pretty math print"
   ]
  },
  {
   "cell_type": "code",
   "execution_count": 2,
   "metadata": {},
   "outputs": [],
   "source": [
    "#Inicializar impresión matemática bonita\n",
    "sp.init_printing()"
   ]
  },
  {
   "cell_type": "markdown",
   "metadata": {},
   "source": [
    "## Define symbolic variable"
   ]
  },
  {
   "cell_type": "code",
   "execution_count": 3,
   "metadata": {},
   "outputs": [],
   "source": [
    "#Definir variable simbólica\n",
    "x = sp.Symbol('x')"
   ]
  },
  {
   "cell_type": "markdown",
   "metadata": {},
   "source": [
    "## Define a function"
   ]
  },
  {
   "cell_type": "code",
   "execution_count": 4,
   "metadata": {},
   "outputs": [
    {
     "name": "stdout",
     "output_type": "stream",
     "text": [
      "Función original: x**3 + 2*x**2 - 5*x + 7\n"
     ]
    }
   ],
   "source": [
    "#Definir una función\n",
    "f = x**3 + 2*x**2 - 5*x + 7\n",
    "print(f\"Función original: {f}\")"
   ]
  },
  {
   "cell_type": "markdown",
   "metadata": {},
   "source": [
    "## Calculate the first derivative"
   ]
  },
  {
   "cell_type": "code",
   "execution_count": 5,
   "metadata": {},
   "outputs": [
    {
     "name": "stdout",
     "output_type": "stream",
     "text": [
      "Primera derivada: 3*x**2 + 4*x - 5\n"
     ]
    }
   ],
   "source": [
    "#Calcular la primera derivada\n",
    "derivada1 = sp.diff(f, x)\n",
    "print(f\"Primera derivada: {derivada1}\")"
   ]
  },
  {
   "cell_type": "markdown",
   "metadata": {},
   "source": [
    "## Calculate the second derivative"
   ]
  },
  {
   "cell_type": "code",
   "execution_count": 6,
   "metadata": {},
   "outputs": [
    {
     "name": "stdout",
     "output_type": "stream",
     "text": [
      "Segunda derivada: 2*(3*x + 2)\n"
     ]
    }
   ],
   "source": [
    "#Calcular la segunda derivada\n",
    "derivada2 = sp.diff(f, x, 2)\n",
    "print(f\"Segunda derivada: {derivada2}\")"
   ]
  },
  {
   "cell_type": "markdown",
   "metadata": {},
   "source": [
    "## Evaluate the derivative at a specific point (x=2)"
   ]
  },
  {
   "cell_type": "code",
   "execution_count": 7,
   "metadata": {},
   "outputs": [
    {
     "name": "stdout",
     "output_type": "stream",
     "text": [
      "Valor de la primera derivada en x=2: 15\n"
     ]
    }
   ],
   "source": [
    "#Evaluar la derivada en un punto específico (x=2)\n",
    "valorDerivada = derivada1.subs(x, 2)\n",
    "print(f\"Valor de la primera derivada en x=2: {valorDerivada}\")"
   ]
  },
  {
   "cell_type": "markdown",
   "metadata": {},
   "source": [
    "### Explanation\n",
    "- ``sp.diff(f, x)`` -> Calcula la primera derivada de ``f`` respecto a ``x``\n",
    "- ``sp.diff(f, x, 2)`` -> Calcula la segunda derivada de ``f``\n",
    "- ``f.subs(x, valor)`` -> Evalía la función o su derivada en un punto"
   ]
  }
 ],
 "metadata": {
  "kernelspec": {
   "display_name": "Python 3",
   "language": "python",
   "name": "python3"
  },
  "language_info": {
   "codemirror_mode": {
    "name": "ipython",
    "version": 3
   },
   "file_extension": ".py",
   "mimetype": "text/x-python",
   "name": "python",
   "nbconvert_exporter": "python",
   "pygments_lexer": "ipython3",
   "version": "3.13.2"
  }
 },
 "nbformat": 4,
 "nbformat_minor": 2
}
