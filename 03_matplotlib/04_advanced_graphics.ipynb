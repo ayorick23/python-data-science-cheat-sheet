{
 "cells": [
  {
   "cell_type": "markdown",
   "id": "856a9cae",
   "metadata": {},
   "source": [
    "## HeatMaps\n",
    "\n",
    "La función ``imshow()`` se utiliza para mostrar datos como una imagen en un ráster regular 2D. Se utiliza comúnmente para visualizar imágenes, matrices o mapas de calor donde cada valor de un array corresponde a un color o intensidad."
   ]
  },
  {
   "cell_type": "code",
   "execution_count": null,
   "id": "87db9e07",
   "metadata": {},
   "outputs": [],
   "source": [
    "# Create a sample 2D array (e.g., representing a grayscale image)\n",
    "data = np.random.rand(10, 10)\n",
    "\n",
    "# Display the data as an image\n",
    "plt.imshow(data, cmap='gray')\n",
    "plt.colorbar() # Add a colorbar to show the mapping\n",
    "plt.title(\"Grayscale Image\")\n",
    "plt.show()\n",
    "\n",
    "# Create a sample RGB image\n",
    "rgb_image = np.random.rand(50, 50, 3) # Random RGB values\n",
    "\n",
    "# Display the RGB image\n",
    "plt.imshow(rgb_image)\n",
    "plt.title(\"RGB Image\")\n",
    "plt.show()"
   ]
  },
  {
   "cell_type": "markdown",
   "id": "52b11d07",
   "metadata": {},
   "source": [
    "## Contour Plot\n",
    "\n",
    "La función `contour()` se utiliza para crear gráficos de contorno, que visualizan superficies 3D dibujando líneas (*contornos*) que conectan puntos de igual altura (*valor Z*) en un plano 2D. Se utiliza comúnmente para representar funciones de dos variables, donde Z es una función de X e Y."
   ]
  },
  {
   "cell_type": "code",
   "execution_count": null,
   "id": "6fc1d836",
   "metadata": {},
   "outputs": [],
   "source": [
    "# Create sample data\n",
    "delta = 0.025\n",
    "x = np.arange(-3.0, 3.0, delta)\n",
    "y = np.arange(-2.0, 2.0, delta)\n",
    "X, Y = np.meshgrid(x, y)\n",
    "Z1 = np.exp(-X**2 - Y**2)\n",
    "Z2 = np.exp(-(X - 1)**2 - (Y - 1)**2)\n",
    "Z = (Z1 - Z2) * 2\n",
    "\n",
    "# Create a contour plot\n",
    "fig, ax = plt.subplots()\n",
    "CS = ax.contour(X, Y, Z)\n",
    "\n",
    "# Add labels to the contours\n",
    "ax.clabel(CS, inline=True, fontsize=10)\n",
    "\n",
    "ax.set_title('Contour Plot Example')\n",
    "plt.show()"
   ]
  }
 ],
 "metadata": {
  "language_info": {
   "name": "python"
  }
 },
 "nbformat": 4,
 "nbformat_minor": 5
}
