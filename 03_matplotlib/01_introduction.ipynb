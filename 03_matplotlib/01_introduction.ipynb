{
 "cells": [
  {
   "cell_type": "markdown",
   "id": "ae935005",
   "metadata": {},
   "source": [
    "# <img width=\"35\" height=\"35\" src=\"https://img.icons8.com/?size=100&id=TkX1totjFmAD&format=png&color=000000\" alt=\"matplotlib\"> Introduction to Matplotlib\n",
    "\n",
    "## Introducción a Matplotlib\n",
    "\n",
    "**Matplotlib** es una biblioteca de gráficos para Python que se utiliza para crear visualizaciones de datos estáticas, animadas e interactivas. Permite generar diversos tipos de gráficos, como diagramas de barras, gráficos de líneas, diagramas de dispersión y mucho más, y personalizar su apariencia con facilidad. Es una herramienta fundamental para la ciencia de datos y el aprendizaje automático, ya que facilita la exploración, análisis y comunicación de datos."
   ]
  },
  {
   "cell_type": "markdown",
   "id": "b337c9dc",
   "metadata": {},
   "source": [
    "## Import Matplotlib"
   ]
  },
  {
   "cell_type": "code",
   "execution_count": 1,
   "id": "e899f747",
   "metadata": {},
   "outputs": [],
   "source": [
    "import numpy as np\n",
    "import matplotlib.pyplot as plt"
   ]
  },
  {
   "cell_type": "markdown",
   "id": "5be9f54c",
   "metadata": {},
   "source": [
    "## Example data"
   ]
  },
  {
   "cell_type": "code",
   "execution_count": 2,
   "id": "5388f65d",
   "metadata": {},
   "outputs": [],
   "source": [
    "#Datos de ejemplo\n",
    "x = np.linspace(0, 10, 100)\n",
    "y = np.sin(x)"
   ]
  },
  {
   "cell_type": "markdown",
   "id": "51e26f8e",
   "metadata": {},
   "source": [
    "## Figures and Axes\n",
    "\n",
    "En **Matplotlib**, las figuras y los ejes son objetos fundamentales para la creación de gráficos. La **figura** es el contenedor general, como un lienzo, donde se ubican todos los elementos del gráfico, incluyendo los ejes, títulos, leyendas, etc. Los **ejes** (*o subgráficos*) son las regiones dentro de la figura donde se dibujan los datos, con sus propios ejes x e y, marcas, etiquetas, etc."
   ]
  },
  {
   "cell_type": "markdown",
   "id": "c39d890e",
   "metadata": {},
   "source": [
    "### Figure\n",
    "\n",
    "Una figura es el objeto de más alto nivel en Matplotlib y actúa como contenedor para todos los elementos de un gráfico. Se puede crear una figura explícitamente usando `plt.figure()` o implícitamente al usar funciones como `plt.subplots()`. Una figura puede contener múltiples ejes (*subgráficos*)."
   ]
  },
  {
   "cell_type": "markdown",
   "id": "1e8d9716",
   "metadata": {},
   "source": [
    "### Axes\n",
    "\n",
    "Los ejes definen la región donde se dibujan los datos, con sus propios ejes ***x*** e ***y***. Se puede acceder a los métodos de los ejes para personalizar la apariencia del gráfico, como agregar etiquetas, títulos, leyendas, etc y se crean típicamente dentro de una figura, ya sea explícitamente con `plt.subplots()` o `plt.subplot()`. "
   ]
  },
  {
   "cell_type": "code",
   "execution_count": 3,
   "id": "05ca5047",
   "metadata": {},
   "outputs": [
    {
     "data": {
      "image/png": "[encoded data removed]",
      "text/plain": [
       "<Figure size 640x480 with 1 Axes>"
      ]
     },
     "metadata": {},
     "output_type": "display_data"
    }
   ],
   "source": [
    "#Crear una figura y un conjunto de ejes\n",
    "fig, ax = plt.subplots()  # Equivalente a fig = plt.figure() y ax = fig.add_subplot()"
   ]
  },
  {
   "cell_type": "markdown",
   "id": "079b3980",
   "metadata": {},
   "source": [
    "## `plot()`\n",
    "\n",
    "Para crear un gráfico en Matplotlib, la función principal es `plt.plot()`. Esta función permite dibujar líneas o marcadores en un objeto Axes. Toma los datos ***x*** e ***y*** y dibuja una línea que conecta los puntos."
   ]
  },
  {
   "cell_type": "code",
   "execution_count": 4,
   "id": "c19c50d1",
   "metadata": {},
   "outputs": [
    {
     "data": {
      "text/plain": [
       "[<matplotlib.lines.Line2D at 0x1b9697347d0>]"
      ]
     },
     "execution_count": 4,
     "metadata": {},
     "output_type": "execute_result"
    }
   ],
   "source": [
    "#Dibujar datos en el eje\n",
    "ax.plot(x, y)"
   ]
  },
  {
   "cell_type": "markdown",
   "id": "7acd8d9b",
   "metadata": {},
   "source": [
    "## Basic customization\n",
    "\n",
    "La personalización básica incluye cambiar colores, estilos de línea, marcadores y etiquetas, así como agregar títulos y leyendas. Se puede lograr a través de argumentos en las funciones de trazado o modificando los parámetros de las funciones."
   ]
  },
  {
   "cell_type": "code",
   "execution_count": 5,
   "id": "aa59b840",
   "metadata": {},
   "outputs": [],
   "source": [
    "#Personalizar el gráfico\n",
    "ax.set_xlabel(\"Eje X\")\n",
    "ax.set_ylabel(\"Eje Y\")\n",
    "ax.set_title(\"Figuras y Ejes\")\n",
    "\n",
    "ax.legend([\"sin(x)\"])\n",
    "ax.grid(True)"
   ]
  },
  {
   "cell_type": "markdown",
   "id": "514caf47",
   "metadata": {},
   "source": [
    "## Save Figures\n",
    "\n",
    "Para guardar un gráfico en Matplotlib, se utiliza la función `plt.savefig()`. Esta función se aplica a la figura actual y permite especificar el nombre del archivo y el formato de salida. Debe ser llamada antes de `plt.show()` para que funcione correctamente."
   ]
  },
  {
   "cell_type": "code",
   "execution_count": 6,
   "id": "ad7e351b",
   "metadata": {},
   "outputs": [
    {
     "data": {
      "text/plain": [
       "<Figure size 640x480 with 0 Axes>"
      ]
     },
     "metadata": {},
     "output_type": "display_data"
    }
   ],
   "source": [
    "#Guardar en png\n",
    "plt.savefig('grafico.png', dpi=300) #Resolución de 300 dpi\n",
    "\n",
    "#Guardar en pdf\n",
    "plt.savefig('grafico.pdf')\n",
    "\n",
    "#Guardar en svg\n",
    "plt.savefig('grafico.svg')\n",
    "\n",
    "#Guardar en jpg\n",
    "plt.savefig('grafico.jpg')"
   ]
  },
  {
   "cell_type": "markdown",
   "id": "cc0de072",
   "metadata": {},
   "source": [
    "## `show()`\n",
    "\n",
    "La función `plt.show()` se utiliza para mostrar todas las figuras activas. Al crear un gráfico con Matplotlib, la figura se genera en memoria, pero no se muestra automáticamente en pantalla, especialmente al ejecutar un script fuera de un entorno interactivo como un Jupyter Notebook.\n",
    "\n",
    "**NOTA:** Si lo ejecutas en una celda diferente a la que define la figura, es posible que no veas la figura porque el comando `plt.show()` no \"recordará\" la figura creada en otra celda."
   ]
  },
  {
   "cell_type": "code",
   "execution_count": 7,
   "id": "48ffcfef",
   "metadata": {},
   "outputs": [],
   "source": [
    "#Mostrar el gráfico\n",
    "plt.show()"
   ]
  },
  {
   "cell_type": "markdown",
   "id": "eb606932",
   "metadata": {},
   "source": [
    "## Complete Example"
   ]
  },
  {
   "cell_type": "code",
   "execution_count": 8,
   "id": "63a0d5bf",
   "metadata": {},
   "outputs": [
    {
     "data": {
      "image/png": "[encoded data removed]",
      "text/plain": [
       "<Figure size 640x480 with 1 Axes>"
      ]
     },
     "metadata": {},
     "output_type": "display_data"
    }
   ],
   "source": [
    "#Crear una figura y un conjunto de ejes\n",
    "fig, ax = plt.subplots()  # Equivalente a fig = plt.figure() y ax = fig.add_subplot()\n",
    "\n",
    "#Dibujar datos en el eje\n",
    "ax.plot(x, y)\n",
    "\n",
    "#Personalizar el gráfico\n",
    "ax.set_xlabel(\"Eje X\")\n",
    "ax.set_ylabel(\"Eje Y\")\n",
    "ax.set_title(\"Figuras y Ejes\")\n",
    "\n",
    "ax.legend([\"sin(x)\"])\n",
    "ax.grid(True)\n",
    "\n",
    "#Guardar en png\n",
    "plt.savefig('grafico.png', dpi=300) #Resolución de 300 dpi\n",
    "\n",
    "#Guardar en pdf\n",
    "plt.savefig('grafico.pdf')\n",
    "\n",
    "#Guardar en svg\n",
    "plt.savefig('grafico.svg')\n",
    "\n",
    "#Guardar en jpg\n",
    "plt.savefig('grafico.jpg')\n",
    "\n",
    "#Mostrar el gráfico\n",
    "plt.show()"
   ]
  }
 ],
 "metadata": {
  "kernelspec": {
   "display_name": "Python 3 (ipykernel)",
   "language": "python",
   "name": "python3"
  },
  "language_info": {
   "codemirror_mode": {
    "name": "ipython",
    "version": 3
   },
   "file_extension": ".py",
   "mimetype": "text/x-python",
   "name": "python",
   "nbconvert_exporter": "python",
   "pygments_lexer": "ipython3",
   "version": "3.13.2"
  }
 },
 "nbformat": 4,
 "nbformat_minor": 5
}
