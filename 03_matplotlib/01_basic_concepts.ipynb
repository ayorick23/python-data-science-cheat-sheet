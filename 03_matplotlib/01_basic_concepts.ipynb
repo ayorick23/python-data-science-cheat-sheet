{
 "cells": [
  {
   "cell_type": "markdown",
   "id": "ae935005",
   "metadata": {},
   "source": [
    "# <img width=\"35\" height=\"35\" src=\"https://img.icons8.com/?size=100&id=TkX1totjFmAD&format=png&color=000000\" alt=\"matplotlib\"> Introduction to Matplotlib\n",
    "\n",
    "## Introducción a Matplotlib\n",
    "\n",
    "**Matplotlib** es una biblioteca de gráficos para Python que se utiliza para crear visualizaciones de datos estáticas, animadas e interactivas. Permite generar diversos tipos de gráficos, como diagramas de barras, gráficos de líneas, diagramas de dispersión y mucho más, y personalizar su apariencia con facilidad. Es una herramienta fundamental para la ciencia de datos y el aprendizaje automático, ya que facilita la exploración, análisis y comunicación de datos."
   ]
  },
  {
   "cell_type": "markdown",
   "id": "b337c9dc",
   "metadata": {},
   "source": [
    "## Import Matplotlib"
   ]
  },
  {
   "cell_type": "code",
   "execution_count": null,
   "id": "e899f747",
   "metadata": {},
   "outputs": [],
   "source": [
    "import numpy as np\n",
    "import matplotlib.pyplot as plt"
   ]
  },
  {
   "cell_type": "markdown",
   "id": "51e26f8e",
   "metadata": {},
   "source": [
    "## Figures and Axes\n",
    "\n",
    "En **Matplotlib**, las figuras y los ejes son objetos fundamentales para la creación de gráficos. La figura es el contenedor general, como un lienzo, donde se ubican todos los elementos del gráfico, incluyendo los ejes, títulos, leyendas, etc. Los ejes (*o subgráficos*) son las regiones dentro de la figura donde se dibujan los datos, con sus propios ejes x e y, marcas, etiquetas, etc."
   ]
  },
  {
   "cell_type": "markdown",
   "id": "c39d890e",
   "metadata": {},
   "source": [
    "### Figure\n",
    "\n",
    "Una figura es el objeto de más alto nivel en Matplotlib y actúa como contenedor para todos los elementos de un gráfico. \n",
    "Se puede crear una figura explícitamente usando plt.figure() o implícitamente al usar funciones como plt.subplots(). \n",
    "Una figura puede contener múltiples ejes (subgráficos)."
   ]
  },
  {
   "cell_type": "code",
   "execution_count": null,
   "id": "05ca5047",
   "metadata": {},
   "outputs": [],
   "source": [
    "import matplotlib.pyplot as plt\n",
    "\n",
    "# Crear una figura y un conjunto de ejes\n",
    "fig, ax = plt.subplots()  # Equivalente a fig = plt.figure() y ax = fig.add_subplot(111)\n",
    "\n",
    "# Dibujar datos en el eje\n",
    "ax.plot([1, 2, 3, 4], [5, 4, 7, 2])\n",
    "\n",
    "# Personalizar el gráfico\n",
    "ax.set_xlabel(\"Eje X\")\n",
    "ax.set_ylabel(\"Eje Y\")\n",
    "ax.set_title(\"Mi Gráfico\")\n",
    "\n",
    "# Mostrar el gráfico\n",
    "plt.show()"
   ]
  },
  {
   "cell_type": "markdown",
   "id": "1e8d9716",
   "metadata": {},
   "source": [
    "### Axes\n",
    "\n",
    "Los ejes definen la región donde se dibujan los datos, con sus propios ejes x e y. \n",
    "Se puede acceder a los métodos de los ejes para personalizar la apariencia del gráfico, como agregar etiquetas, títulos, leyendas, etc. \n",
    "Los ejes se crean típicamente dentro de una figura, ya sea explícitamente con plt.subplots() o plt.subplot(). "
   ]
  },
  {
   "cell_type": "code",
   "execution_count": null,
   "id": "fd9fd8b9",
   "metadata": {},
   "outputs": [],
   "source": []
  },
  {
   "cell_type": "markdown",
   "id": "079b3980",
   "metadata": {},
   "source": [
    "## plt.plot()"
   ]
  },
  {
   "cell_type": "code",
   "execution_count": null,
   "id": "36ffca45",
   "metadata": {},
   "outputs": [],
   "source": []
  },
  {
   "cell_type": "markdown",
   "id": "7acd8d9b",
   "metadata": {},
   "source": [
    "## Basic customization"
   ]
  },
  {
   "cell_type": "code",
   "execution_count": null,
   "id": "f5555bf3",
   "metadata": {},
   "outputs": [],
   "source": []
  },
  {
   "cell_type": "markdown",
   "id": "514caf47",
   "metadata": {},
   "source": [
    "## Save Figures"
   ]
  },
  {
   "cell_type": "code",
   "execution_count": null,
   "id": "b38d958c",
   "metadata": {},
   "outputs": [],
   "source": []
  }
 ],
 "metadata": {
  "language_info": {
   "name": "python"
  }
 },
 "nbformat": 4,
 "nbformat_minor": 5
}
