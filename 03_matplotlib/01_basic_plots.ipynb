{
 "cells": [
  {
   "cell_type": "markdown",
   "metadata": {},
   "source": [
    "# Basic Plots\n",
    "\n",
    "## Gráficos Básicos\n",
    "\n",
    "En **Matplotlib**, existen varios tipos de gráficos básicos que puedes crear. Los más comunes son: gráficos de líneas, gráficos de dispersión, gráficos de barras e histogramas. También puedes generar gráficos circulares, gráficos de contorno, y gráficos 3D, entre otros."
   ]
  },
  {
   "cell_type": "code",
   "execution_count": null,
   "metadata": {},
   "outputs": [],
   "source": [
    "import numpy as np\n",
    "import matplotlib.pyplot as plt"
   ]
  },
  {
   "cell_type": "markdown",
   "metadata": {},
   "source": [
    "## Line Graphs\n",
    "\n",
    "La función ``plot()`` es una herramienta fundamental para crear gráficos 2D. Se utiliza principalmente para dibujar puntos, líneas y marcadores a partir de los datos proporcionados."
   ]
  },
  {
   "cell_type": "markdown",
   "metadata": {},
   "source": [
    "- **¿Cuándo usar un gráfico de líneas?** Un gráfico de líneas se utiliza principalmente para visualizar tendencias y cambios a lo largo del tiempo, o para comparar cómo diferentes conjuntos de datos varían en relación con una variable continua. Son ideales para mostrar datos continuos y permiten identificar patrones, tendencias y relaciones en los datos. "
   ]
  },
  {
   "cell_type": "code",
   "execution_count": null,
   "metadata": {},
   "outputs": [],
   "source": [
    "#Datos de ejemplo\n",
    "x = np.linspace(0, 10, 100)\n",
    "y = np.sin(x)\n",
    "\n",
    "#Crear un gráfico de línea básico\n",
    "plt.plot(x, y, label='Sin Wave', color='blue', linestyle='--', marker='o', markersize=4)\n",
    "\n",
    "#Agregar etiquetas y título\n",
    "plt.xlabel('Eje X')\n",
    "plt.ylabel('Eje Y')\n",
    "plt.title('Gráfico de Línea Básico')\n",
    "\n",
    "#Agregar una leyenda\n",
    "plt.legend()\n",
    "\n",
    "#Agregar una cuadrícula\n",
    "plt.grid(True)\n",
    "\n",
    "#Mostrar el gráfico\n",
    "plt.show()"
   ]
  },
  {
   "cell_type": "markdown",
   "metadata": {},
   "source": [
    "## Scatter Plots\n",
    "\n",
    "La función ``scatter()`` permite crear gráficos de dispersión. Estos gráficos son una herramienta de visualización fundamental para mostrar la relación entre dos variables numéricas."
   ]
  },
  {
   "cell_type": "markdown",
   "metadata": {},
   "source": [
    "- **¿Cuándo usar un gráfico de dispersión?** Un diagrama de dispersión se utiliza para analizar la relación entre dos variables numéricas. Es ideal para identificar patrones, tendencias y correlaciones entre estas variables, así como para detectar valores atípicos (*outliers*)."
   ]
  },
  {
   "cell_type": "code",
   "execution_count": null,
   "metadata": {},
   "outputs": [],
   "source": [
    "#Datos de ejemplo\n",
    "x = [1, 2, 3, 4, 5]\n",
    "y = [5, 4, 3, 2, 1]\n",
    "\n",
    "#Crear un gráfico de dispersión\n",
    "plt.scatter(x, y)\n",
    "\n",
    "plt.xlabel('Eje X')\n",
    "plt.ylabel('Eje Y')\n",
    "plt.title('Gráfico de Dispersión')\n",
    "\n",
    "plt.legend()\n",
    "plt.grid(True)\n",
    "plt.show()"
   ]
  },
  {
   "cell_type": "markdown",
   "metadata": {},
   "source": [
    "## Bar Plots"
   ]
  },
  {
   "cell_type": "markdown",
   "metadata": {},
   "source": [
    "### Vertical Bar Chart\n",
    "\n",
    "La función ``bar()`` se utiliza para crear gráficos de barras verticales. Estos gráficos se utilizan comúnmente para representar datos categóricos, donde la altura de cada barra es proporcional al valor que representa."
   ]
  },
  {
   "cell_type": "markdown",
   "metadata": {},
   "source": [
    "- **¿Cuándo utilizar un gráfico de barras vertical?** Se utiliza un gráfico de barras vertical para comparar valores entre diferentes categorías, especialmente cuando hay muchas categorías y las etiquetas son cortas."
   ]
  },
  {
   "cell_type": "code",
   "execution_count": null,
   "metadata": {},
   "outputs": [],
   "source": [
    "#Datos de ejemplo\n",
    "categorias = ['A', 'B', 'C', 'D']\n",
    "valores = [10, 25, 15, 30]\n",
    "\n",
    "#Crear un gráfico de barras\n",
    "plt.bar(categorias, valores)\n",
    "\n",
    "plt.xlabel('Categoría')\n",
    "plt.ylabel('Valor')\n",
    "plt.title('Gráfico de Barras')\n",
    "\n",
    "plt.legend()\n",
    "plt.grid(True)\n",
    "plt.show()"
   ]
  },
  {
   "cell_type": "markdown",
   "metadata": {},
   "source": [
    "### Horizontal Bar Chart\n",
    "\n",
    "`barh()` es una función que se utiliza para crear gráficos de barras **horizontales**. Es la contraparte horizontal de `bar()`, que crea gráficos de barras verticales."
   ]
  },
  {
   "cell_type": "markdown",
   "metadata": {},
   "source": [
    "- **¿Cuándo utilizar un gráfico de barras horizontal?** Un gráfico de barras horizontal es más adecuado cuando se tienen etiquetas largas para las categorías, o cuando se necesita comparar pocas categorías con un enfoque en la clasificación."
   ]
  },
  {
   "cell_type": "code",
   "execution_count": null,
   "metadata": {},
   "outputs": [],
   "source": [
    "#Crear un gráfico de barras horizontal\n",
    "plt.barh(categorias, valores)\n",
    "\n",
    "plt.xlabel('Valor')\n",
    "plt.ylabel('Categoría')\n",
    "plt.title('Gráfico de Barras Horizontal')\n",
    "\n",
    "plt.legend()\n",
    "plt.grid(True)\n",
    "plt.show()"
   ]
  },
  {
   "cell_type": "markdown",
   "metadata": {},
   "source": [
    "## Histograms\n",
    "\n",
    "La función `hist()` se utiliza para crear histogramas, que son representaciones gráficas de la distribución de datos numéricos."
   ]
  },
  {
   "cell_type": "markdown",
   "metadata": {},
   "source": [
    "- **¿Cuándo utilizar un histograma?** Un histograma se utiliza para visualizar la distribución de datos numéricos continuos, mostrando la frecuencia con la que ocurren ciertos valores dentro de un rango específico. Es útil para identificar patrones, tendencias, valores atípicos y la forma de la distribución de los datos."
   ]
  },
  {
   "cell_type": "code",
   "execution_count": null,
   "metadata": {},
   "outputs": [],
   "source": [
    "#Datos de ejemplo\n",
    "data = np.random.normal(loc=0, scale=1, size=1000)\n",
    "\n",
    "#Crear un histograma\n",
    "plt.hist(data, bins=30) #\n",
    "\n",
    "plt.xlabel(\"Valor\")\n",
    "plt.ylabel(\"Frecuencia\")\n",
    "plt.title(\"Histograma Simple\")\n",
    "\n",
    "plt.legend()\n",
    "plt.grid(True)\n",
    "plt.show()"
   ]
  },
  {
   "cell_type": "markdown",
   "metadata": {},
   "source": [
    "## Pie Charts\n",
    "\n",
    "La función `pie()` se utiliza para crear gráficos circulares. Los gráficos circulares son gráficos estadísticos circulares divididos en sectores, donde cada sector representa una proporción del total."
   ]
  },
  {
   "cell_type": "markdown",
   "metadata": {},
   "source": [
    "- **¿Cuándo utilizar un gráfico de pastel?** Un gráfico de pastel se utiliza para mostrar la relación de las partes con respecto a un todo, idealmente cuando se representan porcentajes o proporciones de un conjunto de datos. Es efectivo para visualizar la distribución de datos en categorías y entender la contribución de cada parte al total, especialmente si hay un número limitado de categorías."
   ]
  },
  {
   "cell_type": "code",
   "execution_count": null,
   "metadata": {},
   "outputs": [],
   "source": [
    "#Datos de ejemplo\n",
    "sizes = [15, 30, 45, 10]\n",
    "labels = ['Category A', 'Category B', 'Category C', 'Category D']\n",
    "\n",
    "#Crear un gráfico de pastel\n",
    "plt.pie(sizes, labels=labels)\n",
    "\n",
    "plt.title('Gráfico de Pastel')\n",
    "\n",
    "# Ensure the circle is drawn as a circle\n",
    "#plt.axis('equal')\n",
    "\n",
    "plt.legend()\n",
    "plt.show()"
   ]
  },
  {
   "cell_type": "markdown",
   "metadata": {},
   "source": [
    "## Box Plots\n",
    "\n",
    "La función `boxplot()` se utiliza para generar diagramas de caja y bigotes, que son una representación visual de la distribución de datos numéricos. Estos diagramas ofrecen un resumen de un conjunto de datos basado en un resumen de cinco números: Mínimo, Primer cuartil (*Q1*), Mediana, Tercer cuartil (*Q3*) y Máximo."
   ]
  },
  {
   "cell_type": "markdown",
   "metadata": {},
   "source": [
    "- **¿Cuándo utilizar un gráfico de caja?** Un diagrama de caja se utiliza para visualizar la distribución de datos numéricos, especialmente cuando se desea comparar diferentes grupos o identificar valores atípicos. Es útil para mostrar la dispersión, la simetría y los valores centrales de un conjunto de datos."
   ]
  },
  {
   "cell_type": "code",
   "execution_count": null,
   "metadata": {},
   "outputs": [],
   "source": [
    "#Datos de ejemplo\n",
    "data = np.random.normal(0, 1, 100) # Example: 100 data points from a normal distribution\n",
    "\n",
    "#Crear un gráfico de caja\n",
    "plt.boxplot(data)\n",
    "\n",
    "plt.title(\"Gráfico de Caja\")\n",
    "plt.ylabel(\"Valores\")\n",
    "\n",
    "plt.show()"
   ]
  },
  {
   "cell_type": "markdown",
   "metadata": {},
   "source": [
    "## Area Plots\n",
    "\n",
    "La función `fill_between()` se utiliza para rellenar el área entre dos curvas horizontales. Es una herramienta eficaz para visualizar rangos, resaltar diferencias o destacar tendencias en los datos."
   ]
  },
  {
   "cell_type": "markdown",
   "metadata": {},
   "source": [
    "- **¿Cuándo utilizar un gráfico de área?** Un gráfico de áreas se utiliza para visualizar tendencias y magnitudes de datos a lo largo del tiempo, especialmente cuando se quiere comparar la relación entre diferentes series de datos o cómo contribuyen a un total. Es útil para mostrar la evolución de varias categorías a la vez, resaltando áreas bajo las líneas para enfatizar la magnitud de los cambios."
   ]
  },
  {
   "cell_type": "code",
   "execution_count": null,
   "metadata": {},
   "outputs": [],
   "source": [
    "#Datos de ejemplo\n",
    "x = np.linspace(0, 10, 100)\n",
    "y1 = np.sin(x)\n",
    "y2 = np.cos(x)\n",
    "\n",
    "#Crear un gráfico de área entre dos curvas\n",
    "plt.fill_between(x, y1, y2, color='lightblue', alpha=0.5)\n",
    "plt.plot(x, y1, label='sin(x)')\n",
    "plt.plot(x, y2, label='cos(x)')\n",
    "\n",
    "plt.title('Area between two curves')\n",
    "\n",
    "plt.legend()\n",
    "plt.show()"
   ]
  }
 ],
 "metadata": {
  "kernelspec": {
   "display_name": "Python 3",
   "language": "python",
   "name": "python3"
  },
  "language_info": {
   "codemirror_mode": {
    "name": "ipython",
    "version": 3
   },
   "file_extension": ".py",
   "mimetype": "text/x-python",
   "name": "python",
   "nbconvert_exporter": "python",
   "pygments_lexer": "ipython3",
   "version": "3.13.2"
  }
 },
 "nbformat": 4,
 "nbformat_minor": 2
}
