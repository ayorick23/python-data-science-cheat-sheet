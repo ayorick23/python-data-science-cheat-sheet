{
 "cells": [
  {
   "cell_type": "markdown",
   "id": "1de33c39",
   "metadata": {},
   "source": [
    "# Ejercicio con Matplotlib – Visualización de Indicadores Operativos y de Ventas"
   ]
  },
  {
   "cell_type": "markdown",
   "id": "eb76bfb2",
   "metadata": {},
   "source": [
    "### Objetivo:\n",
    "\n",
    "Desarrollar visualizaciones útiles para un informe mensual que será presentado a la gerencia, incluyendo gráficos de ventas, desempeño por sucursal, cumplimiento de metas y rotación de inventario."
   ]
  },
  {
   "cell_type": "markdown",
   "id": "720d8606",
   "metadata": {},
   "source": [
    "### Contexto:\n",
    "\n",
    "Trabajas en el área de **Inteligencia de Negocios** o **Planeación Operativa**. Se te ha asignado generar un dashboard visual en Python para monitorear el comportamiento de diferentes indicadores clave de las sucursales de la empresa en el último trimestre.\n",
    "\n",
    "Cuentas con los siguientes datos:"
   ]
  },
  {
   "cell_type": "code",
   "execution_count": null,
   "id": "a7cfe140",
   "metadata": {},
   "outputs": [],
   "source": [
    "import numpy as np\n",
    "\n",
    "sucursales = ['Sucursal A', 'Sucursal B', 'Sucursal C', 'Sucursal D']\n",
    "meses = ['Enero', 'Febrero', 'Marzo']\n",
    "\n",
    "# Ventas mensuales por sucursal\n",
    "ventas = np.array([\n",
    "    [23000, 25000, 27000],  # Sucursal A\n",
    "    [18000, 19000, 21000],  # Sucursal B\n",
    "    [26000, 24000, 25000],  # Sucursal C\n",
    "    [15000, 16000, 17000]   # Sucursal D\n",
    "])\n",
    "\n",
    "# Metas mensuales por sucursal\n",
    "metas = np.array([\n",
    "    [25000, 25000, 28000],\n",
    "    [20000, 20000, 22000],\n",
    "    [26000, 25000, 27000],\n",
    "    [16000, 17000, 18000]\n",
    "])\n",
    "\n",
    "# Rotación promedio de inventario (%)\n",
    "rotacion = np.array([75, 62, 80, 55])"
   ]
  },
  {
   "cell_type": "markdown",
   "id": "e30a59e2",
   "metadata": {},
   "source": [
    "### Actividades:"
   ]
  },
  {
   "cell_type": "markdown",
   "id": "5afcb161",
   "metadata": {},
   "source": [
    "**1. Gráfico de líneas múltiple:**\n",
    "\n",
    "- Representa la evolución de ventas mes a mes por sucursal.\n",
    "- Añade leyenda, títulos, etiquetas, y marca los puntos de datos."
   ]
  },
  {
   "cell_type": "code",
   "execution_count": null,
   "id": "193f76c6",
   "metadata": {},
   "outputs": [],
   "source": []
  },
  {
   "cell_type": "markdown",
   "id": "d47621aa",
   "metadata": {},
   "source": [
    "**2. Gráfico de barras agrupadas:**\n",
    "\n",
    "- Compara ventas vs metas para cada sucursal por cada mes.\n",
    "- Cada grupo de barras debe representar un mes y estar dividido por sucursal."
   ]
  },
  {
   "cell_type": "code",
   "execution_count": null,
   "id": "ff64a994",
   "metadata": {},
   "outputs": [],
   "source": []
  },
  {
   "cell_type": "markdown",
   "id": "9a6cc2e8",
   "metadata": {},
   "source": [
    "**3. Gráfico de barras con diferencia entre metas y ventas (gap):**\n",
    "\n",
    "- Crea un gráfico que muestre cuánta diferencia hubo entre la venta real y la meta (*puede ser positivo o negativo*)."
   ]
  },
  {
   "cell_type": "code",
   "execution_count": null,
   "id": "81adc140",
   "metadata": {},
   "outputs": [],
   "source": []
  },
  {
   "cell_type": "markdown",
   "id": "cf883f6f",
   "metadata": {},
   "source": [
    "**4. Cálculo del % de cumplimiento de meta por mes y sucursal:**\n",
    "\n",
    "- Crea un gráfico de líneas o barras horizontales que muestre qué tan cerca estuvieron las sucursales de cumplir su meta (%)."
   ]
  },
  {
   "cell_type": "code",
   "execution_count": null,
   "id": "508bb1b8",
   "metadata": {},
   "outputs": [],
   "source": []
  },
  {
   "cell_type": "markdown",
   "id": "defc0ece",
   "metadata": {},
   "source": [
    "**5. Gráfico de pastel:**\n",
    "\n",
    "- Muestra el porcentaje de participación total de cada sucursal en las ventas del trimestre."
   ]
  },
  {
   "cell_type": "code",
   "execution_count": null,
   "id": "4d9ffee7",
   "metadata": {},
   "outputs": [],
   "source": []
  },
  {
   "cell_type": "markdown",
   "id": "593050ef",
   "metadata": {},
   "source": [
    "**6. Análisis de rotación de inventario:**\n",
    "\n",
    "- Crea un gráfico de barras horizontales mostrando la rotación por sucursal y destaca en color diferente las que estén por debajo del 60%."
   ]
  },
  {
   "cell_type": "code",
   "execution_count": null,
   "id": "da7e7b6f",
   "metadata": {},
   "outputs": [],
   "source": []
  },
  {
   "cell_type": "markdown",
   "id": "fbd2773c",
   "metadata": {},
   "source": [
    "**7. Opcional – Complemento realista**\n",
    "\n",
    "- Integra los gráficos en un solo lienzo (*subplot*) simulando un informe visual de desempeño para gerencia."
   ]
  },
  {
   "cell_type": "code",
   "execution_count": null,
   "id": "b7b902c3",
   "metadata": {},
   "outputs": [],
   "source": []
  }
 ],
 "metadata": {
  "language_info": {
   "name": "python"
  }
 },
 "nbformat": 4,
 "nbformat_minor": 5
}
